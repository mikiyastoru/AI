{
  "cells": [
    {
      "cell_type": "markdown",
      "metadata": {
        "id": "6gS6ImRznBGl"
      },
      "source": [
        "# Weighted RNN for News-Text Classification"
      ]
    },
    {
      "cell_type": "markdown",
      "metadata": {
        "id": "v0KNJHD4n76r"
      },
      "source": [
        "## Importing Required Libraries\n",
        "**what is preprocessing in case of\n",
        "image\n",
        "text,\n",
        "Numbers and\n",
        "Audio**\n",
        "Preprocessing is a crucial step in data analysis and machine learning, as it prepares raw data for further analysis and modeling.\n",
        "Here's an overview of preprocessing techniques for different types of data:\n",
        "\n",
        "**1. Image Preprocessing**\n",
        "Resizing: Adjusting the dimensions of images to a consistent size.\n",
        "\n",
        "Normalization: Scaling pixel values to a specific range (e.g., 0 to 1).\n",
        "\n",
        "Data Augmentation: Creating variations of images through rotation, flipping, cropping, etc., to increase the diversity of the training dataset.\n",
        "\n",
        "Grayscale Conversion: Converting color images to grayscale to reduce complexity.\n",
        "\n",
        "Noise Reduction: Using filters to remove noise from images.\n",
        "\n",
        "Edge Detection: Identifying edges within images to highlight important features.\n",
        "\n",
        "2. Text Preprocessing\n",
        "Tokenization: Splitting text into individual words or tokens.\n",
        "\n",
        "Lowercasing: Converting all characters to lowercase to maintain consistency.\n",
        "\n",
        "Removing Punctuation and Special Characters: Cleaning text by eliminating unnecessary symbols.\n",
        "\n",
        "Stop Words Removal: Removing common words (e.g., \"and,\" \"the\") that do not contribute much meaning.\n",
        "\n",
        "Stemming and Lemmatization: Reducing words to their root form (stemming) or base form (lemmatization).\n",
        "\n",
        "Vectorization: Converting text into numerical format using techniques like Bag of Words, TF-IDF, or word embeddings.\n",
        "\n",
        "3. Numerical Data Preprocessing\n",
        "Normalization/Standardization: Scaling numerical values to a specific range (e.g., 0 to 1) or mean 0 and standard deviation 1.\n",
        "\n",
        "Missing Value Imputation: Handling missing data by filling in with mean, median, mode, or using more sophisticated techniques.\n",
        "\n",
        "Outlier Detection and Removal: Identifying and addressing outliers that may skew the data.\n",
        "\n",
        "Feature Engineering: Creating new features or modifying existing ones to improve model performance.\n",
        "\n",
        "Discretization/Binning: Converting continuous variables into discrete categories.\n",
        "\n",
        "4. Audio Preprocessing\n",
        "Sampling: Converting audio signals to a digital format at a specific sample rate.\n",
        "\n",
        "Noise Reduction: Removing background noise to enhance the quality of the audio.\n",
        "\n",
        "Normalization: Adjusting the amplitude of audio signals to a consistent level.\n",
        "\n",
        "Windowing: Dividing the audio signal into overlapping segments (windows) for analysis.\n",
        "\n",
        "Feature Extraction: Extracting relevant features like Mel-Frequency Cepstral Coefficients (MFCCs), Spectrograms, or Chroma features.\n",
        "\n",
        "Silence Removal: Eliminating silent segments from the audio to focus on meaningful parts.\n",
        "\n"
      ]
    },
    {
      "cell_type": "code",
      "source": [
        "#<html> Aspect\tSupervised Learning                                    \t   Unsupervised Learning\n",
        "#Data\tRequires labeled data                                   \t                Uses unlabeled data\n",
        "#Goal\tPredict outcomes based on input-output pairs\t                           Identify patterns and relationships in data\n",
        "#Examples\tClassification, regression\t                                         Clustering, dimensionality reduction\n",
        "#Advantages\tHigher accuracy, easier to interpret\t                             No need for labeled data, can discover hidden patterns\n",
        "#Disadvantages\tNeeds large labeled datasets, risk of overfitting\t             Harder to interpret, may have lower performance for some tasks\n",
        "#Applications\tImage recognition, financial forecasting\t                       Customer segmentation, anomaly detection"
      ],
      "metadata": {
        "id": "Vw6M13xzkdO_"
      },
      "execution_count": null,
      "outputs": []
    },
    {
      "cell_type": "code",
      "source": [],
      "metadata": {
        "id": "YJznU1AdkAz8"
      },
      "execution_count": null,
      "outputs": []
    },
    {
      "cell_type": "code",
      "execution_count": 5,
      "metadata": {
        "id": "WgO3oW_ohbxK"
      },
      "outputs": [],
      "source": [
        "import os\n",
        "import sys\n",
        "import pickle\n",
        "import keras\n",
        "import numpy as np\n",
        "import pandas as pd\n",
        "import numpy\n",
        "import matplotlib as plt\n",
        "%matplotlib inline\n",
        "import tensorflow as tf\n",
        "import gensim\n",
        "from gensim.models import Word2Vec\n",
        "from gensim.models import KeyedVectors\n",
        "from gensim.test.utils import common_texts, get_tmpfile\n",
        "\n",
        "from numpy import loadtxt\n",
        "from keras.models import load_model\n",
        "from tensorflow .keras.preprocessing.text import Tokenizer\n",
        "from keras.layers import Dense, Input, LSTM,GRU, Embedding, Dropout, Activation ,Permute ,SimpleRNN , Bidirectional ,TimeDistributed, Conv1D ,Activation, Flatten\n",
        "from keras.models import Model\n",
        "from keras.callbacks import EarlyStopping, ModelCheckpoint\n",
        "from keras import Sequential\n",
        "from keras import regularizers\n",
        "from sklearn.metrics import accuracy_score,precision_score,recall_score,f1_score\n",
        "import sklearn.metrics as metrics\n",
        "import matplotlib.pyplot as plt\n",
        "import pathlib\n",
        "import random\n",
        "import string\n",
        "import re\n",
        "import numpy as np\n",
        "import tensorflow as tf\n",
        "from tensorflow import keras\n",
        "from tensorflow.keras import layers\n",
        "\n",
        "# Commented out IPython magic to ensure Python compatibility.\n",
        "import string\n",
        "import re\n",
        "from numpy import array, argmax, random, take\n",
        "import matplotlib.pyplot as plt\n",
        "import pandas as pd\n",
        "import unicodedata\n",
        "from tensorflow.keras import backend as K\n",
        "from tensorflow.keras.layers import Layer\n",
        "from tensorflow.keras.models import load_model\n",
        "from tensorflow.keras import optimizers\n",
        "from tensorflow.keras.layers import LSTM, GRU,Activation, RepeatVector, Dropout, Dense, Input,Embedding,Bidirectional, Conv1D, MaxPooling1D\n",
        "from tensorflow.keras.callbacks import ModelCheckpoint,CSVLogger,ReduceLROnPlateau,LearningRateScheduler,EarlyStopping\n",
        "from tensorflow.keras.models import Model,Sequential\n",
        "from tensorflow.keras import regularizers,initializers,constraints\n",
        "# Final Classification Result as requested is given towards the end"
      ]
    },
    {
      "cell_type": "code",
      "execution_count": 6,
      "metadata": {
        "id": "y7NJfWNPN72a"
      },
      "outputs": [],
      "source": [
        "import sys\n",
        "import os\n",
        "\n"
      ]
    },
    {
      "cell_type": "code",
      "execution_count": 7,
      "metadata": {
        "id": "GaC-2m4WF8pE"
      },
      "outputs": [],
      "source": [
        "from keras import backend as K\n"
      ]
    },
    {
      "cell_type": "code",
      "source": [
        "K.backend()"
      ],
      "metadata": {
        "colab": {
          "base_uri": "https://localhost:8080/",
          "height": 35
        },
        "id": "7zlHm8i9L8m8",
        "outputId": "a01b7b6e-ea41-4a84-9ef7-cf5b44d7fa9d"
      },
      "execution_count": 8,
      "outputs": [
        {
          "output_type": "execute_result",
          "data": {
            "text/plain": [
              "'tensorflow'"
            ],
            "application/vnd.google.colaboratory.intrinsic+json": {
              "type": "string"
            }
          },
          "metadata": {},
          "execution_count": 8
        }
      ]
    },
    {
      "cell_type": "code",
      "source": [],
      "metadata": {
        "id": "bu5NoY_DIyUz"
      },
      "execution_count": null,
      "outputs": []
    },
    {
      "cell_type": "code",
      "execution_count": 9,
      "metadata": {
        "id": "KxFueuntwjwf"
      },
      "outputs": [],
      "source": [
        "%matplotlib inline\n",
        "\n",
        "import matplotlib\n",
        "import pandas as pd\n",
        "import numpy as np\n",
        "from sklearn.utils import shuffle\n",
        "\n",
        "np.random.seed(42)"
      ]
    },
    {
      "cell_type": "code",
      "execution_count": 10,
      "metadata": {
        "colab": {
          "base_uri": "https://localhost:8080/"
        },
        "id": "MuDzuzfEJiTh",
        "outputId": "a87ec715-a471-4efe-99d9-2090a776eff4"
      },
      "outputs": [
        {
          "output_type": "stream",
          "name": "stdout",
          "text": [
            "Mounted at /content/drive\n"
          ]
        }
      ],
      "source": [
        "from google.colab import drive\n",
        "drive.mount('/content/drive')"
      ]
    },
    {
      "cell_type": "code",
      "execution_count": 11,
      "metadata": {
        "colab": {
          "base_uri": "https://localhost:8080/",
          "height": 356
        },
        "id": "Z2ErZbJcwjxH",
        "outputId": "6aafabf1-c9ec-4dbd-89f5-29bbf6e4682e"
      },
      "outputs": [
        {
          "output_type": "error",
          "ename": "FileNotFoundError",
          "evalue": "[Errno 2] No such file or directory: '/content/drive/MyDrive/Copy of Amharic News Dataset.csv'",
          "traceback": [
            "\u001b[0;31m---------------------------------------------------------------------------\u001b[0m",
            "\u001b[0;31mFileNotFoundError\u001b[0m                         Traceback (most recent call last)",
            "\u001b[0;32m<ipython-input-11-8ac14500ae52>\u001b[0m in \u001b[0;36m<cell line: 1>\u001b[0;34m()\u001b[0m\n\u001b[0;32m----> 1\u001b[0;31m \u001b[0mdata\u001b[0m \u001b[0;34m=\u001b[0m \u001b[0mpd\u001b[0m\u001b[0;34m.\u001b[0m\u001b[0mread_csv\u001b[0m\u001b[0;34m(\u001b[0m\u001b[0;34m'/content/drive/MyDrive/Copy of Amharic News Dataset.csv'\u001b[0m\u001b[0;34m)\u001b[0m\u001b[0;34m\u001b[0m\u001b[0;34m\u001b[0m\u001b[0m\n\u001b[0m\u001b[1;32m      2\u001b[0m \u001b[0;34m\u001b[0m\u001b[0m\n\u001b[1;32m      3\u001b[0m \u001b[0mdata\u001b[0m \u001b[0;34m=\u001b[0m \u001b[0mshuffle\u001b[0m\u001b[0;34m(\u001b[0m\u001b[0mdata\u001b[0m\u001b[0;34m)\u001b[0m\u001b[0;34m\u001b[0m\u001b[0;34m\u001b[0m\u001b[0m\n\u001b[1;32m      4\u001b[0m \u001b[0mdata\u001b[0m\u001b[0;34m.\u001b[0m\u001b[0mhead\u001b[0m\u001b[0;34m(\u001b[0m\u001b[0;34m)\u001b[0m\u001b[0;34m\u001b[0m\u001b[0;34m\u001b[0m\u001b[0m\n",
            "\u001b[0;32m/usr/local/lib/python3.10/dist-packages/pandas/io/parsers/readers.py\u001b[0m in \u001b[0;36mread_csv\u001b[0;34m(filepath_or_buffer, sep, delimiter, header, names, index_col, usecols, dtype, engine, converters, true_values, false_values, skipinitialspace, skiprows, skipfooter, nrows, na_values, keep_default_na, na_filter, verbose, skip_blank_lines, parse_dates, infer_datetime_format, keep_date_col, date_parser, date_format, dayfirst, cache_dates, iterator, chunksize, compression, thousands, decimal, lineterminator, quotechar, quoting, doublequote, escapechar, comment, encoding, encoding_errors, dialect, on_bad_lines, delim_whitespace, low_memory, memory_map, float_precision, storage_options, dtype_backend)\u001b[0m\n\u001b[1;32m   1024\u001b[0m     \u001b[0mkwds\u001b[0m\u001b[0;34m.\u001b[0m\u001b[0mupdate\u001b[0m\u001b[0;34m(\u001b[0m\u001b[0mkwds_defaults\u001b[0m\u001b[0;34m)\u001b[0m\u001b[0;34m\u001b[0m\u001b[0;34m\u001b[0m\u001b[0m\n\u001b[1;32m   1025\u001b[0m \u001b[0;34m\u001b[0m\u001b[0m\n\u001b[0;32m-> 1026\u001b[0;31m     \u001b[0;32mreturn\u001b[0m \u001b[0m_read\u001b[0m\u001b[0;34m(\u001b[0m\u001b[0mfilepath_or_buffer\u001b[0m\u001b[0;34m,\u001b[0m \u001b[0mkwds\u001b[0m\u001b[0;34m)\u001b[0m\u001b[0;34m\u001b[0m\u001b[0;34m\u001b[0m\u001b[0m\n\u001b[0m\u001b[1;32m   1027\u001b[0m \u001b[0;34m\u001b[0m\u001b[0m\n\u001b[1;32m   1028\u001b[0m \u001b[0;34m\u001b[0m\u001b[0m\n",
            "\u001b[0;32m/usr/local/lib/python3.10/dist-packages/pandas/io/parsers/readers.py\u001b[0m in \u001b[0;36m_read\u001b[0;34m(filepath_or_buffer, kwds)\u001b[0m\n\u001b[1;32m    618\u001b[0m \u001b[0;34m\u001b[0m\u001b[0m\n\u001b[1;32m    619\u001b[0m     \u001b[0;31m# Create the parser.\u001b[0m\u001b[0;34m\u001b[0m\u001b[0;34m\u001b[0m\u001b[0m\n\u001b[0;32m--> 620\u001b[0;31m     \u001b[0mparser\u001b[0m \u001b[0;34m=\u001b[0m \u001b[0mTextFileReader\u001b[0m\u001b[0;34m(\u001b[0m\u001b[0mfilepath_or_buffer\u001b[0m\u001b[0;34m,\u001b[0m \u001b[0;34m**\u001b[0m\u001b[0mkwds\u001b[0m\u001b[0;34m)\u001b[0m\u001b[0;34m\u001b[0m\u001b[0;34m\u001b[0m\u001b[0m\n\u001b[0m\u001b[1;32m    621\u001b[0m \u001b[0;34m\u001b[0m\u001b[0m\n\u001b[1;32m    622\u001b[0m     \u001b[0;32mif\u001b[0m \u001b[0mchunksize\u001b[0m \u001b[0;32mor\u001b[0m \u001b[0miterator\u001b[0m\u001b[0;34m:\u001b[0m\u001b[0;34m\u001b[0m\u001b[0;34m\u001b[0m\u001b[0m\n",
            "\u001b[0;32m/usr/local/lib/python3.10/dist-packages/pandas/io/parsers/readers.py\u001b[0m in \u001b[0;36m__init__\u001b[0;34m(self, f, engine, **kwds)\u001b[0m\n\u001b[1;32m   1618\u001b[0m \u001b[0;34m\u001b[0m\u001b[0m\n\u001b[1;32m   1619\u001b[0m         \u001b[0mself\u001b[0m\u001b[0;34m.\u001b[0m\u001b[0mhandles\u001b[0m\u001b[0;34m:\u001b[0m \u001b[0mIOHandles\u001b[0m \u001b[0;34m|\u001b[0m \u001b[0;32mNone\u001b[0m \u001b[0;34m=\u001b[0m \u001b[0;32mNone\u001b[0m\u001b[0;34m\u001b[0m\u001b[0;34m\u001b[0m\u001b[0m\n\u001b[0;32m-> 1620\u001b[0;31m         \u001b[0mself\u001b[0m\u001b[0;34m.\u001b[0m\u001b[0m_engine\u001b[0m \u001b[0;34m=\u001b[0m \u001b[0mself\u001b[0m\u001b[0;34m.\u001b[0m\u001b[0m_make_engine\u001b[0m\u001b[0;34m(\u001b[0m\u001b[0mf\u001b[0m\u001b[0;34m,\u001b[0m \u001b[0mself\u001b[0m\u001b[0;34m.\u001b[0m\u001b[0mengine\u001b[0m\u001b[0;34m)\u001b[0m\u001b[0;34m\u001b[0m\u001b[0;34m\u001b[0m\u001b[0m\n\u001b[0m\u001b[1;32m   1621\u001b[0m \u001b[0;34m\u001b[0m\u001b[0m\n\u001b[1;32m   1622\u001b[0m     \u001b[0;32mdef\u001b[0m \u001b[0mclose\u001b[0m\u001b[0;34m(\u001b[0m\u001b[0mself\u001b[0m\u001b[0;34m)\u001b[0m \u001b[0;34m->\u001b[0m \u001b[0;32mNone\u001b[0m\u001b[0;34m:\u001b[0m\u001b[0;34m\u001b[0m\u001b[0;34m\u001b[0m\u001b[0m\n",
            "\u001b[0;32m/usr/local/lib/python3.10/dist-packages/pandas/io/parsers/readers.py\u001b[0m in \u001b[0;36m_make_engine\u001b[0;34m(self, f, engine)\u001b[0m\n\u001b[1;32m   1878\u001b[0m                 \u001b[0;32mif\u001b[0m \u001b[0;34m\"b\"\u001b[0m \u001b[0;32mnot\u001b[0m \u001b[0;32min\u001b[0m \u001b[0mmode\u001b[0m\u001b[0;34m:\u001b[0m\u001b[0;34m\u001b[0m\u001b[0;34m\u001b[0m\u001b[0m\n\u001b[1;32m   1879\u001b[0m                     \u001b[0mmode\u001b[0m \u001b[0;34m+=\u001b[0m \u001b[0;34m\"b\"\u001b[0m\u001b[0;34m\u001b[0m\u001b[0;34m\u001b[0m\u001b[0m\n\u001b[0;32m-> 1880\u001b[0;31m             self.handles = get_handle(\n\u001b[0m\u001b[1;32m   1881\u001b[0m                 \u001b[0mf\u001b[0m\u001b[0;34m,\u001b[0m\u001b[0;34m\u001b[0m\u001b[0;34m\u001b[0m\u001b[0m\n\u001b[1;32m   1882\u001b[0m                 \u001b[0mmode\u001b[0m\u001b[0;34m,\u001b[0m\u001b[0;34m\u001b[0m\u001b[0;34m\u001b[0m\u001b[0m\n",
            "\u001b[0;32m/usr/local/lib/python3.10/dist-packages/pandas/io/common.py\u001b[0m in \u001b[0;36mget_handle\u001b[0;34m(path_or_buf, mode, encoding, compression, memory_map, is_text, errors, storage_options)\u001b[0m\n\u001b[1;32m    871\u001b[0m         \u001b[0;32mif\u001b[0m \u001b[0mioargs\u001b[0m\u001b[0;34m.\u001b[0m\u001b[0mencoding\u001b[0m \u001b[0;32mand\u001b[0m \u001b[0;34m\"b\"\u001b[0m \u001b[0;32mnot\u001b[0m \u001b[0;32min\u001b[0m \u001b[0mioargs\u001b[0m\u001b[0;34m.\u001b[0m\u001b[0mmode\u001b[0m\u001b[0;34m:\u001b[0m\u001b[0;34m\u001b[0m\u001b[0;34m\u001b[0m\u001b[0m\n\u001b[1;32m    872\u001b[0m             \u001b[0;31m# Encoding\u001b[0m\u001b[0;34m\u001b[0m\u001b[0;34m\u001b[0m\u001b[0m\n\u001b[0;32m--> 873\u001b[0;31m             handle = open(\n\u001b[0m\u001b[1;32m    874\u001b[0m                 \u001b[0mhandle\u001b[0m\u001b[0;34m,\u001b[0m\u001b[0;34m\u001b[0m\u001b[0;34m\u001b[0m\u001b[0m\n\u001b[1;32m    875\u001b[0m                 \u001b[0mioargs\u001b[0m\u001b[0;34m.\u001b[0m\u001b[0mmode\u001b[0m\u001b[0;34m,\u001b[0m\u001b[0;34m\u001b[0m\u001b[0;34m\u001b[0m\u001b[0m\n",
            "\u001b[0;31mFileNotFoundError\u001b[0m: [Errno 2] No such file or directory: '/content/drive/MyDrive/Copy of Amharic News Dataset.csv'"
          ]
        }
      ],
      "source": [
        "data = pd.read_csv('/content/drive/MyDrive/Copy of Amharic News Dataset.csv')\n",
        "\n",
        "data = shuffle(data)\n",
        "data.head()"
      ]
    },
    {
      "cell_type": "code",
      "source": [],
      "metadata": {
        "id": "xzvAJO5Tlycq"
      },
      "execution_count": null,
      "outputs": []
    },
    {
      "cell_type": "code",
      "execution_count": null,
      "metadata": {
        "colab": {
          "base_uri": "https://localhost:8080/"
        },
        "id": "lgrWp5r8wjxN",
        "outputId": "9cb71ca6-402d-4fee-e057-fb172efd452b"
      },
      "outputs": [
        {
          "name": "stdout",
          "output_type": "stream",
          "text": [
            "<class 'pandas.core.frame.DataFrame'>\n",
            "Int64Index: 51483 entries, 44810 to 15795\n",
            "Data columns (total 6 columns):\n",
            " #   Column    Non-Null Count  Dtype \n",
            "---  ------    --------------  ----- \n",
            " 0   headline  51470 non-null  object\n",
            " 1   category  51482 non-null  object\n",
            " 2   date      51483 non-null  object\n",
            " 3   views     51483 non-null  object\n",
            " 4   article   51483 non-null  object\n",
            " 5   link      51483 non-null  object\n",
            "dtypes: object(6)\n",
            "memory usage: 2.7+ MB\n"
          ]
        }
      ],
      "source": [
        "data.info()"
      ]
    },
    {
      "cell_type": "code",
      "execution_count": null,
      "metadata": {
        "id": "Wg-DEF11wjxQ"
      },
      "outputs": [],
      "source": [
        "data = data.dropna(subset=['article'])"
      ]
    },
    {
      "cell_type": "code",
      "execution_count": null,
      "metadata": {
        "colab": {
          "base_uri": "https://localhost:8080/"
        },
        "id": "TEYlOHqCwjxS",
        "outputId": "f723a8dc-2ec0-4c15-e5fe-976b0ae138fd"
      },
      "outputs": [
        {
          "output_type": "execute_result",
          "data": {
            "text/plain": [
              "https://amharic.voanews.com//a/amb-tibor-nagy-in-addis-ababa-on-sudan-06-14-19/4960197.html                                                                                                                                                                                                                                                 3\n",
              "https://amharic.voanews.com//a/covid-africa/5535902.html                                                                                                                                                                                                                                                                                    3\n",
              "https://amharic.voanews.com//a/looking-ahead-Ethiopian-renaissance-dam-weaspire-with-voa-alula-kebede-june-2020/5470822.html                                                                                                                                                                                                                3\n",
              "https://amharic.voanews.com//a/ethiocracy-new-economic-system-abate-kassa-wiath-voa-alula-kebede-july-14-2019/5004185.html                                                                                                                                                                                                                  3\n",
              "https://amharic.voanews.com//a/ethiopia-tigrai-mekele/5679989.html                                                                                                                                                                                                                                                                          3\n",
              "                                                                                                                                                                                                                                                                                                                                           ..\n",
              "https://www.ethiopianreporter.com/content/%E1%89%A0%E1%88%B1%E1%8B%B3%E1%8A%95-%E1%8B%88%E1%89%B3%E1%8B%B0%E1%88%AE%E1%89%BD-%E1%89%B3%E1%8D%8D%E1%8A%90%E1%8B%8D-%E1%8B%A8%E1%88%9A%E1%8B%88%E1%88%B0%E1%8B%B1-%E1%8B%9C%E1%8C%8E%E1%89%BD-%E1%89%81%E1%8C%A5%E1%88%AD-%E1%8A%A5%E1%8B%A8%E1%8C%A8%E1%88%98%E1%88%A8-%E1%8A%90%E1%8B%8D    1\n",
              "https://www.press.et/Ama/?p=27087                                                                                                                                                                                                                                                                                                           1\n",
              "https://www.ethiopianreporter.com/article/12848                                                                                                                                                                                                                                                                                             1\n",
              "https://soccerethiopia.net/football/12241                                                                                                                                                                                                                                                                                                   1\n",
              "https://www.fanabc.com/%e1%89%b0%e1%89%80%e1%8c%a3%e1%8c%a3%e1%8b%ad-%e1%8d%88%e1%8a%95%e1%8c%86%e1%89%bd-%e1%8d%a3-%e1%8a%a0%e1%88%9e%e1%8a%92%e1%8b%a8%e1%88%9d-%e1%8a%93%e1%8b%ad%e1%89%b5%e1%88%ac%e1%89%b5%e1%8a%93/                                                                                                                   1\n",
              "Name: link, Length: 50778, dtype: int64"
            ]
          },
          "metadata": {},
          "execution_count": 9
        }
      ],
      "source": [
        "data['link'].value_counts()"
      ]
    },
    {
      "cell_type": "code",
      "execution_count": null,
      "metadata": {
        "colab": {
          "base_uri": "https://localhost:8080/"
        },
        "id": "RvyO67VgwjxV",
        "outputId": "56001d88-9940-4d9c-a7e0-1d8df75452c5"
      },
      "outputs": [
        {
          "data": {
            "text/plain": [
              "array(['ፖለቲካ', 'ሀገር አቀፍ ዜና', 'ስፖርት', 'ዓለም አቀፍ ዜና', 'ቢዝነስ', 'መዝናኛ', nan],\n",
              "      dtype=object)"
            ]
          },
          "execution_count": 15,
          "metadata": {},
          "output_type": "execute_result"
        }
      ],
      "source": [
        "data.category.unique()"
      ]
    },
    {
      "cell_type": "code",
      "execution_count": null,
      "metadata": {
        "colab": {
          "base_uri": "https://localhost:8080/",
          "height": 354
        },
        "id": "PZ2urUA2wjxZ",
        "outputId": "1bf15b2a-8249-41b8-9dca-74137ef83d06"
      },
      "outputs": [
        {
          "output_type": "execute_result",
          "data": {
            "text/plain": [
              "                                                headline    category  \\\n",
              "44810  በመዲናዋ የጋራ መኖሪያ ቤቶችን ግንባታ ለማጠናቀቅና ለማስጀመር የ20 ቢሊ...        ፖለቲካ   \n",
              "18329  አሸንዳ፣ ሻደይ፣ አሸንድዬ፣ ሶለል፣ ማሪያና ዓይኒ ዋሪ በዓል በዩኔስኮ አ...  ሀገር አቀፍ ዜና   \n",
              "17644  ግምታዊ ዋጋቸው ከ31 ነጥብ 6 ሚሊየን ብር በላይ የሆኑ የኮንትሮባንድ ዕ...  ሀገር አቀፍ ዜና   \n",
              "32773       ​ባምላክ ተሰማ የዓለም ዋንጫ ለመምራት እጩ ከሆኑ ዳኞች ውስጥ ተካተተ        ስፖርት   \n",
              "4139              “መንገድ ለሰው” መርሐ ግብር በየሳምንቱ እንደሚካሄድ ተገለፀ  ሀገር አቀፍ ዜና   \n",
              "\n",
              "                     date    views  \\\n",
              "44810  September 14, 2017  Unknown   \n",
              "18329         Jan 8, 2020      387   \n",
              "17644         Mar 4, 2020      634   \n",
              "32773   November 19, 2017  Unknown   \n",
              "4139       August 7, 2019       32   \n",
              "\n",
              "                                                 article  \\\n",
              "44810  በአዲስ አበባ የተጀመሩ የጋራ መኖሪያ ቤቶችን ግንባታ ለማጠናቀቅና አዳዲስ...   \n",
              "18329  አዲስ አበባ፣ ታህሳስ 29፣ 2012 (ኤፍ.ቢ.ሲ) የአሸንዳ፣ ሻደይ፣ አሸ...   \n",
              "17644  አዲስ አበባ ፣ የካቲት 25 ፣ 2012 (ኤፍ ቢ ሲ) ባለፉት አምስት ቀና...   \n",
              "32773  ሩሲያ በ2018 ለምታስተናግደው የዓለም ዋንጫ ፊፋ ጨዋታዎችን ሊመሩ የሚች...   \n",
              "4139    አዲስ አበባ፤- “መንገድ ለሰው” በሚል በአዲስ አበባ ከተማ ሲካሄድ የነ...   \n",
              "\n",
              "                                                    link  word_len  \n",
              "44810                    https://waltainfo.com/am/29360/       302  \n",
              "18329  https://www.fanabc.com/%e1%8b%a8%e1%8a%a0%e1%8...       165  \n",
              "17644  https://www.fanabc.com/%e1%8c%8d%e1%88%9d%e1%8...       102  \n",
              "32773          https://soccerethiopia.net/football/31318       143  \n",
              "4139                   https://www.press.et/Ama/?p=15606       193  "
            ],
            "text/html": [
              "\n",
              "  <div id=\"df-40d8b4be-b116-4b02-8b23-ae24745a6eab\">\n",
              "    <div class=\"colab-df-container\">\n",
              "      <div>\n",
              "<style scoped>\n",
              "    .dataframe tbody tr th:only-of-type {\n",
              "        vertical-align: middle;\n",
              "    }\n",
              "\n",
              "    .dataframe tbody tr th {\n",
              "        vertical-align: top;\n",
              "    }\n",
              "\n",
              "    .dataframe thead th {\n",
              "        text-align: right;\n",
              "    }\n",
              "</style>\n",
              "<table border=\"1\" class=\"dataframe\">\n",
              "  <thead>\n",
              "    <tr style=\"text-align: right;\">\n",
              "      <th></th>\n",
              "      <th>headline</th>\n",
              "      <th>category</th>\n",
              "      <th>date</th>\n",
              "      <th>views</th>\n",
              "      <th>article</th>\n",
              "      <th>link</th>\n",
              "      <th>word_len</th>\n",
              "    </tr>\n",
              "  </thead>\n",
              "  <tbody>\n",
              "    <tr>\n",
              "      <th>44810</th>\n",
              "      <td>በመዲናዋ የጋራ መኖሪያ ቤቶችን ግንባታ ለማጠናቀቅና ለማስጀመር የ20 ቢሊ...</td>\n",
              "      <td>ፖለቲካ</td>\n",
              "      <td>September 14, 2017</td>\n",
              "      <td>Unknown</td>\n",
              "      <td>በአዲስ አበባ የተጀመሩ የጋራ መኖሪያ ቤቶችን ግንባታ ለማጠናቀቅና አዳዲስ...</td>\n",
              "      <td>https://waltainfo.com/am/29360/</td>\n",
              "      <td>302</td>\n",
              "    </tr>\n",
              "    <tr>\n",
              "      <th>18329</th>\n",
              "      <td>አሸንዳ፣ ሻደይ፣ አሸንድዬ፣ ሶለል፣ ማሪያና ዓይኒ ዋሪ በዓል በዩኔስኮ አ...</td>\n",
              "      <td>ሀገር አቀፍ ዜና</td>\n",
              "      <td>Jan 8, 2020</td>\n",
              "      <td>387</td>\n",
              "      <td>አዲስ አበባ፣ ታህሳስ 29፣ 2012 (ኤፍ.ቢ.ሲ) የአሸንዳ፣ ሻደይ፣ አሸ...</td>\n",
              "      <td>https://www.fanabc.com/%e1%8b%a8%e1%8a%a0%e1%8...</td>\n",
              "      <td>165</td>\n",
              "    </tr>\n",
              "    <tr>\n",
              "      <th>17644</th>\n",
              "      <td>ግምታዊ ዋጋቸው ከ31 ነጥብ 6 ሚሊየን ብር በላይ የሆኑ የኮንትሮባንድ ዕ...</td>\n",
              "      <td>ሀገር አቀፍ ዜና</td>\n",
              "      <td>Mar 4, 2020</td>\n",
              "      <td>634</td>\n",
              "      <td>አዲስ አበባ ፣ የካቲት 25 ፣ 2012 (ኤፍ ቢ ሲ) ባለፉት አምስት ቀና...</td>\n",
              "      <td>https://www.fanabc.com/%e1%8c%8d%e1%88%9d%e1%8...</td>\n",
              "      <td>102</td>\n",
              "    </tr>\n",
              "    <tr>\n",
              "      <th>32773</th>\n",
              "      <td>​ባምላክ ተሰማ የዓለም ዋንጫ ለመምራት እጩ ከሆኑ ዳኞች ውስጥ ተካተተ</td>\n",
              "      <td>ስፖርት</td>\n",
              "      <td>November 19, 2017</td>\n",
              "      <td>Unknown</td>\n",
              "      <td>ሩሲያ በ2018 ለምታስተናግደው የዓለም ዋንጫ ፊፋ ጨዋታዎችን ሊመሩ የሚች...</td>\n",
              "      <td>https://soccerethiopia.net/football/31318</td>\n",
              "      <td>143</td>\n",
              "    </tr>\n",
              "    <tr>\n",
              "      <th>4139</th>\n",
              "      <td>“መንገድ ለሰው” መርሐ ግብር በየሳምንቱ እንደሚካሄድ ተገለፀ</td>\n",
              "      <td>ሀገር አቀፍ ዜና</td>\n",
              "      <td>August 7, 2019</td>\n",
              "      <td>32</td>\n",
              "      <td>አዲስ አበባ፤- “መንገድ ለሰው” በሚል በአዲስ አበባ ከተማ ሲካሄድ የነ...</td>\n",
              "      <td>https://www.press.et/Ama/?p=15606</td>\n",
              "      <td>193</td>\n",
              "    </tr>\n",
              "  </tbody>\n",
              "</table>\n",
              "</div>\n",
              "      <button class=\"colab-df-convert\" onclick=\"convertToInteractive('df-40d8b4be-b116-4b02-8b23-ae24745a6eab')\"\n",
              "              title=\"Convert this dataframe to an interactive table.\"\n",
              "              style=\"display:none;\">\n",
              "        \n",
              "  <svg xmlns=\"http://www.w3.org/2000/svg\" height=\"24px\"viewBox=\"0 0 24 24\"\n",
              "       width=\"24px\">\n",
              "    <path d=\"M0 0h24v24H0V0z\" fill=\"none\"/>\n",
              "    <path d=\"M18.56 5.44l.94 2.06.94-2.06 2.06-.94-2.06-.94-.94-2.06-.94 2.06-2.06.94zm-11 1L8.5 8.5l.94-2.06 2.06-.94-2.06-.94L8.5 2.5l-.94 2.06-2.06.94zm10 10l.94 2.06.94-2.06 2.06-.94-2.06-.94-.94-2.06-.94 2.06-2.06.94z\"/><path d=\"M17.41 7.96l-1.37-1.37c-.4-.4-.92-.59-1.43-.59-.52 0-1.04.2-1.43.59L10.3 9.45l-7.72 7.72c-.78.78-.78 2.05 0 2.83L4 21.41c.39.39.9.59 1.41.59.51 0 1.02-.2 1.41-.59l7.78-7.78 2.81-2.81c.8-.78.8-2.07 0-2.86zM5.41 20L4 18.59l7.72-7.72 1.47 1.35L5.41 20z\"/>\n",
              "  </svg>\n",
              "      </button>\n",
              "      \n",
              "  <style>\n",
              "    .colab-df-container {\n",
              "      display:flex;\n",
              "      flex-wrap:wrap;\n",
              "      gap: 12px;\n",
              "    }\n",
              "\n",
              "    .colab-df-convert {\n",
              "      background-color: #E8F0FE;\n",
              "      border: none;\n",
              "      border-radius: 50%;\n",
              "      cursor: pointer;\n",
              "      display: none;\n",
              "      fill: #1967D2;\n",
              "      height: 32px;\n",
              "      padding: 0 0 0 0;\n",
              "      width: 32px;\n",
              "    }\n",
              "\n",
              "    .colab-df-convert:hover {\n",
              "      background-color: #E2EBFA;\n",
              "      box-shadow: 0px 1px 2px rgba(60, 64, 67, 0.3), 0px 1px 3px 1px rgba(60, 64, 67, 0.15);\n",
              "      fill: #174EA6;\n",
              "    }\n",
              "\n",
              "    [theme=dark] .colab-df-convert {\n",
              "      background-color: #3B4455;\n",
              "      fill: #D2E3FC;\n",
              "    }\n",
              "\n",
              "    [theme=dark] .colab-df-convert:hover {\n",
              "      background-color: #434B5C;\n",
              "      box-shadow: 0px 1px 3px 1px rgba(0, 0, 0, 0.15);\n",
              "      filter: drop-shadow(0px 1px 2px rgba(0, 0, 0, 0.3));\n",
              "      fill: #FFFFFF;\n",
              "    }\n",
              "  </style>\n",
              "\n",
              "      <script>\n",
              "        const buttonEl =\n",
              "          document.querySelector('#df-40d8b4be-b116-4b02-8b23-ae24745a6eab button.colab-df-convert');\n",
              "        buttonEl.style.display =\n",
              "          google.colab.kernel.accessAllowed ? 'block' : 'none';\n",
              "\n",
              "        async function convertToInteractive(key) {\n",
              "          const element = document.querySelector('#df-40d8b4be-b116-4b02-8b23-ae24745a6eab');\n",
              "          const dataTable =\n",
              "            await google.colab.kernel.invokeFunction('convertToInteractive',\n",
              "                                                     [key], {});\n",
              "          if (!dataTable) return;\n",
              "\n",
              "          const docLinkHtml = 'Like what you see? Visit the ' +\n",
              "            '<a target=\"_blank\" href=https://colab.research.google.com/notebooks/data_table.ipynb>data table notebook</a>'\n",
              "            + ' to learn more about interactive tables.';\n",
              "          element.innerHTML = '';\n",
              "          dataTable['output_type'] = 'display_data';\n",
              "          await google.colab.output.renderOutput(dataTable, element);\n",
              "          const docLink = document.createElement('div');\n",
              "          docLink.innerHTML = docLinkHtml;\n",
              "          element.appendChild(docLink);\n",
              "        }\n",
              "      </script>\n",
              "    </div>\n",
              "  </div>\n",
              "  "
            ]
          },
          "metadata": {},
          "execution_count": 10
        }
      ],
      "source": [
        "data['word_len'] = data['article'].str.split().str.len()\n",
        "data.head()"
      ]
    },
    {
      "cell_type": "code",
      "execution_count": null,
      "metadata": {
        "colab": {
          "base_uri": "https://localhost:8080/"
        },
        "id": "jLsE36CGwjxe",
        "outputId": "699b2f53-172d-4ba7-ce67-5df1e454075b"
      },
      "outputs": [
        {
          "name": "stdout",
          "output_type": "stream",
          "text": [
            "<class 'pandas.core.frame.DataFrame'>\n",
            "Int64Index: 51483 entries, 44810 to 15795\n",
            "Data columns (total 7 columns):\n",
            " #   Column    Non-Null Count  Dtype \n",
            "---  ------    --------------  ----- \n",
            " 0   headline  51470 non-null  object\n",
            " 1   category  51482 non-null  object\n",
            " 2   date      51483 non-null  object\n",
            " 3   views     51483 non-null  object\n",
            " 4   article   51483 non-null  object\n",
            " 5   link      51483 non-null  object\n",
            " 6   word_len  51483 non-null  int64 \n",
            "dtypes: int64(1), object(6)\n",
            "memory usage: 3.1+ MB\n"
          ]
        }
      ],
      "source": [
        "data.info()"
      ]
    },
    {
      "cell_type": "code",
      "execution_count": null,
      "metadata": {
        "colab": {
          "base_uri": "https://localhost:8080/"
        },
        "id": "q5i2n9igwjxi",
        "outputId": "85e9a089-9cf3-44fb-eb7a-24ac33db1eb3"
      },
      "outputs": [
        {
          "data": {
            "text/plain": [
              "248.9586853912942"
            ]
          },
          "execution_count": 18,
          "metadata": {},
          "output_type": "execute_result"
        }
      ],
      "source": [
        "data.word_len.mean()"
      ]
    },
    {
      "cell_type": "code",
      "execution_count": null,
      "metadata": {
        "id": "4DVXmcUPwjxw"
      },
      "outputs": [],
      "source": [
        "import re\n",
        "#method to normalize character level missmatch such as ጸሀይ and ፀሐይ\n",
        "def normalize_char_level_missmatch(input_token):\n",
        "    rep1=re.sub('[ሃኅኃሐሓኻ]','ሀ',input_token)\n",
        "    rep2=re.sub('[ሑኁዅ]','ሁ',rep1)\n",
        "    rep3=re.sub('[ኂሒኺ]','ሂ',rep2)\n",
        "    rep4=re.sub('[ኌሔዄ]','ሄ',rep3)\n",
        "    rep5=re.sub('[ሕኅ]','ህ',rep4)\n",
        "    rep6=re.sub('[ኆሖኾ]','ሆ',rep5)\n",
        "    rep7=re.sub('[ሠ]','ሰ',rep6)\n",
        "    rep8=re.sub('[ሡ]','ሱ',rep7)\n",
        "    rep9=re.sub('[ሢ]','ሲ',rep8)\n",
        "    rep10=re.sub('[ሣ]','ሳ',rep9)\n",
        "    rep11=re.sub('[ሤ]','ሴ',rep10)\n",
        "    rep12=re.sub('[ሥ]','ስ',rep11)\n",
        "    rep13=re.sub('[ሦ]','ሶ',rep12)\n",
        "    rep14=re.sub('[ዓኣዐ]','አ',rep13)\n",
        "    rep15=re.sub('[ዑ]','ኡ',rep14)\n",
        "    rep16=re.sub('[ዒ]','ኢ',rep15)\n",
        "    rep17=re.sub('[ዔ]','ኤ',rep16)\n",
        "    rep18=re.sub('[ዕ]','እ',rep17)\n",
        "    rep19=re.sub('[ዖ]','ኦ',rep18)\n",
        "    rep20=re.sub('[ጸ]','ፀ',rep19)\n",
        "    rep21=re.sub('[ጹ]','ፁ',rep20)\n",
        "    rep22=re.sub('[ጺ]','ፂ',rep21)\n",
        "    rep23=re.sub('[ጻ]','ፃ',rep22)\n",
        "    rep24=re.sub('[ጼ]','ፄ',rep23)\n",
        "    rep25=re.sub('[ጽ]','ፅ',rep24)\n",
        "    rep26=re.sub('[ጾ]','ፆ',rep25)\n",
        "    #Normalizing words with Labialized Amharic characters such as በልቱዋል or  በልቱአል to  በልቷል\n",
        "    rep27=re.sub('(ሉ[ዋአ])','ሏ',rep26)\n",
        "    rep28=re.sub('(ሙ[ዋአ])','ሟ',rep27)\n",
        "    rep29=re.sub('(ቱ[ዋአ])','ቷ',rep28)\n",
        "    rep30=re.sub('(ሩ[ዋአ])','ሯ',rep29)\n",
        "    rep31=re.sub('(ሱ[ዋአ])','ሷ',rep30)\n",
        "    rep32=re.sub('(ሹ[ዋአ])','ሿ',rep31)\n",
        "    rep33=re.sub('(ቁ[ዋአ])','ቋ',rep32)\n",
        "    rep34=re.sub('(ቡ[ዋአ])','ቧ',rep33)\n",
        "    rep35=re.sub('(ቹ[ዋአ])','ቿ',rep34)\n",
        "    rep36=re.sub('(ሁ[ዋአ])','ኋ',rep35)\n",
        "    rep37=re.sub('(ኑ[ዋአ])','ኗ',rep36)\n",
        "    rep38=re.sub('(ኙ[ዋአ])','ኟ',rep37)\n",
        "    rep39=re.sub('(ኩ[ዋአ])','ኳ',rep38)\n",
        "    rep40=re.sub('(ዙ[ዋአ])','ዟ',rep39)\n",
        "    rep41=re.sub('(ጉ[ዋአ])','ጓ',rep40)\n",
        "    rep42=re.sub('(ደ[ዋአ])','ዷ',rep41)\n",
        "    rep43=re.sub('(ጡ[ዋአ])','ጧ',rep42)\n",
        "    rep44=re.sub('(ጩ[ዋአ])','ጯ',rep43)\n",
        "    rep45=re.sub('(ጹ[ዋአ])','ጿ',rep44)\n",
        "    rep46=re.sub('(ፉ[ዋአ])','ፏ',rep45)\n",
        "    rep47=re.sub('[ቊ]','ቁ',rep46) #ቁ can be written as ቊ\n",
        "    rep48=re.sub('[ኵ]','ኩ',rep47) #ኩ can be also written as ኵ\n",
        "    return rep48\n"
      ]
    },
    {
      "cell_type": "code",
      "execution_count": null,
      "metadata": {
        "colab": {
          "base_uri": "https://localhost:8080/"
        },
        "id": "NECwzm77wjx1",
        "outputId": "a5eeceb9-2b17-4952-d3fc-b5592499802c"
      },
      "outputs": [
        {
          "output_type": "stream",
          "name": "stderr",
          "text": [
            "<ipython-input-12-4eb451acb354>:1: FutureWarning: The default value of regex will change from True to False in a future version.\n",
            "  data['article'] = data['article'].str.replace('[^\\w\\s]','')\n"
          ]
        }
      ],
      "source": [
        "data['article'] = data['article'].str.replace('[^\\w\\s]','')"
      ]
    },
    {
      "cell_type": "code",
      "execution_count": null,
      "metadata": {
        "id": "32o1zVTgwjx3"
      },
      "outputs": [],
      "source": [
        "data['article'] = data['article'].apply(lambda x: normalize_char_level_missmatch(x))"
      ]
    },
    {
      "cell_type": "code",
      "execution_count": null,
      "metadata": {
        "id": "iJbEdxBbwjx9"
      },
      "outputs": [],
      "source": [
        "n_data = data[['article','category']]\n",
        "n_data.head()\n",
        "\n",
        "text,label = data['article'].values,data['category'].values"
      ]
    },
    {
      "cell_type": "code",
      "execution_count": null,
      "metadata": {
        "colab": {
          "base_uri": "https://localhost:8080/"
        },
        "id": "dgQx0t5ms6O6",
        "outputId": "aa512bbb-6c7e-4e87-81e5-2131dbe3bd41"
      },
      "outputs": [
        {
          "output_type": "stream",
          "name": "stdout",
          "text": [
            "13788\n"
          ]
        }
      ],
      "source": [
        "a = ['ፖለቲካ', 'ሀገር አቀፍ ዜና', 'ስፖርት', 'ዓለም አቀፍ ዜና', 'ቢዝነስ', 'መዝናኛ']\n",
        "j=-1\n",
        "for i in label:\n",
        "    j=j+1\n",
        "    if (i not in a):\n",
        "         print(j)"
      ]
    },
    {
      "cell_type": "code",
      "execution_count": null,
      "metadata": {
        "colab": {
          "base_uri": "https://localhost:8080/",
          "height": 35
        },
        "id": "IG07K-8kq8vN",
        "outputId": "0cb7c826-0cea-4577-9f11-3303c6ac9390"
      },
      "outputs": [
        {
          "output_type": "execute_result",
          "data": {
            "text/plain": [
              "'\\xa0\\xa0'"
            ],
            "application/vnd.google.colaboratory.intrinsic+json": {
              "type": "string"
            }
          },
          "metadata": {},
          "execution_count": 16
        }
      ],
      "source": [
        "data['article'].values[13788]"
      ]
    },
    {
      "cell_type": "code",
      "execution_count": null,
      "metadata": {
        "colab": {
          "base_uri": "https://localhost:8080/",
          "height": 35
        },
        "id": "WCae7J19o3Pc",
        "outputId": "17cee787-cc74-47cc-dc06-eed7ba179e1d"
      },
      "outputs": [
        {
          "data": {
            "application/vnd.google.colaboratory.intrinsic+json": {
              "type": "string"
            },
            "text/plain": [
              "'\\xa0\\xa0'"
            ]
          },
          "execution_count": 25,
          "metadata": {},
          "output_type": "execute_result"
        }
      ],
      "source": [
        "text[13788]"
      ]
    },
    {
      "cell_type": "code",
      "execution_count": null,
      "metadata": {
        "colab": {
          "base_uri": "https://localhost:8080/",
          "height": 35
        },
        "id": "d8ZeXqFS1kIo",
        "outputId": "e04d9db1-2a57-476f-81a5-3ce6836c4add"
      },
      "outputs": [
        {
          "data": {
            "application/vnd.google.colaboratory.intrinsic+json": {
              "type": "string"
            },
            "text/plain": [
              "'ሀገር አቀፍ ዜና'"
            ]
          },
          "execution_count": 27,
          "metadata": {},
          "output_type": "execute_result"
        }
      ],
      "source": [
        "cat[-1]"
      ]
    },
    {
      "cell_type": "code",
      "execution_count": null,
      "metadata": {
        "id": "3bSsUHf2rl0p"
      },
      "outputs": [],
      "source": [
        "text=list(text)"
      ]
    },
    {
      "cell_type": "code",
      "execution_count": null,
      "metadata": {
        "id": "Qxmou8eAsFZp"
      },
      "outputs": [],
      "source": [
        "label=list(label)"
      ]
    },
    {
      "cell_type": "code",
      "execution_count": null,
      "metadata": {
        "colab": {
          "base_uri": "https://localhost:8080/"
        },
        "id": "DmhbR_14sOVL",
        "outputId": "22c84b70-ca19-4665-fb68-bcc7e56432e9"
      },
      "outputs": [
        {
          "output_type": "execute_result",
          "data": {
            "text/plain": [
              "51483"
            ]
          },
          "metadata": {},
          "execution_count": 19
        }
      ],
      "source": [
        "len(label)"
      ]
    },
    {
      "cell_type": "code",
      "execution_count": null,
      "metadata": {
        "colab": {
          "base_uri": "https://localhost:8080/"
        },
        "id": "Kin-F_uqqfFR",
        "outputId": "cb78f569-a390-4edd-d6e4-19a0e1d4ba2e"
      },
      "outputs": [
        {
          "output_type": "execute_result",
          "data": {
            "text/plain": [
              "51483"
            ]
          },
          "metadata": {},
          "execution_count": 20
        }
      ],
      "source": [
        "len(text)"
      ]
    },
    {
      "cell_type": "code",
      "execution_count": null,
      "metadata": {
        "id": "-JxEP3wFqlSD"
      },
      "outputs": [],
      "source": [
        "text.remove(text[13788])"
      ]
    },
    {
      "cell_type": "code",
      "execution_count": null,
      "metadata": {
        "id": "I0-VS568sXEU"
      },
      "outputs": [],
      "source": [
        "label.remove(label[13788])"
      ]
    },
    {
      "cell_type": "code",
      "execution_count": null,
      "metadata": {
        "id": "gdN2dDT4OFL6"
      },
      "outputs": [],
      "source": [
        "cat=list(label)"
      ]
    },
    {
      "cell_type": "code",
      "execution_count": null,
      "metadata": {
        "colab": {
          "base_uri": "https://localhost:8080/"
        },
        "id": "8ThHKdaTr9rk",
        "outputId": "68f4adb6-ca77-459b-852e-bc43b25f0517"
      },
      "outputs": [
        {
          "output_type": "execute_result",
          "data": {
            "text/plain": [
              "51482"
            ]
          },
          "metadata": {},
          "execution_count": 24
        }
      ],
      "source": [
        "len(text)"
      ]
    },
    {
      "cell_type": "code",
      "execution_count": null,
      "metadata": {
        "colab": {
          "base_uri": "https://localhost:8080/"
        },
        "id": "glqymNnVshEY",
        "outputId": "3c51e532-82d6-4680-c6a9-f3d7f18ffb0b"
      },
      "outputs": [
        {
          "output_type": "execute_result",
          "data": {
            "text/plain": [
              "51482"
            ]
          },
          "metadata": {},
          "execution_count": 25
        }
      ],
      "source": [
        "len(label)"
      ]
    },
    {
      "cell_type": "code",
      "execution_count": null,
      "metadata": {
        "id": "SG2Kijyf30p5"
      },
      "outputs": [],
      "source": [
        "a = ['ፖለቲካ', 'ሀገር አቀፍ ዜና', 'ስፖርት', 'ዓለም አቀፍ ዜና', 'ቢዝነስ', 'መዝናኛ']"
      ]
    },
    {
      "cell_type": "code",
      "execution_count": null,
      "metadata": {
        "id": "kZWXae5f35gH"
      },
      "outputs": [],
      "source": [
        "b = ['politics', 'Country News', 'sport', 'world News', 'business', 'Entertainment']"
      ]
    },
    {
      "cell_type": "code",
      "execution_count": null,
      "metadata": {
        "id": "8-gGg1lFwjyC"
      },
      "outputs": [],
      "source": [
        "unique_label = list(set(label))\n",
        "Y= []\n",
        "for i in label:\n",
        "    Y.append(unique_label.index(i))"
      ]
    },
    {
      "cell_type": "code",
      "execution_count": null,
      "metadata": {
        "colab": {
          "base_uri": "https://localhost:8080/",
          "height": 35
        },
        "id": "5JQZFmsPoMO8",
        "outputId": "f55d19ab-4df7-4be3-acb8-bb6455c1d53f"
      },
      "outputs": [
        {
          "output_type": "execute_result",
          "data": {
            "text/plain": [
              "'መዝናኛ'"
            ],
            "application/vnd.google.colaboratory.intrinsic+json": {
              "type": "string"
            }
          },
          "metadata": {},
          "execution_count": 29
        }
      ],
      "source": [
        "unique_label[0]"
      ]
    },
    {
      "cell_type": "code",
      "execution_count": null,
      "metadata": {
        "colab": {
          "base_uri": "https://localhost:8080/"
        },
        "id": "wH4ClwFCnBFI",
        "outputId": "ed476606-d95a-49bf-c47b-0b84221590c7"
      },
      "outputs": [
        {
          "data": {
            "text/plain": [
              "['መዝናኛ', 'ዓለም አቀፍ ዜና', 'ቢዝነስ', 'ፖለቲካ', 'ሀገር አቀፍ ዜና', 'ስፖርት']"
            ]
          },
          "execution_count": 40,
          "metadata": {},
          "output_type": "execute_result"
        }
      ],
      "source": [
        "unique_label"
      ]
    },
    {
      "cell_type": "code",
      "execution_count": null,
      "metadata": {
        "id": "1VGqnjqV5ojw"
      },
      "outputs": [],
      "source": [
        "lab= []\n",
        "for i in label:\n",
        "    for j in range(0,len(a)):\n",
        "      if a[j]==i:\n",
        "          lab.append(b[j])"
      ]
    },
    {
      "cell_type": "code",
      "execution_count": null,
      "metadata": {
        "id": "-ODtP98_6SLC"
      },
      "outputs": [],
      "source": []
    },
    {
      "cell_type": "code",
      "execution_count": null,
      "metadata": {
        "colab": {
          "base_uri": "https://localhost:8080/"
        },
        "id": "LJsCvu4I5hpS",
        "outputId": "9076c72f-7ad3-4a58-a1fe-b9d43a53e7df"
      },
      "outputs": [
        {
          "output_type": "execute_result",
          "data": {
            "text/plain": [
              "(51482, 51482)"
            ]
          },
          "metadata": {},
          "execution_count": 31
        }
      ],
      "source": [
        "len(Y),len(lab)"
      ]
    },
    {
      "cell_type": "markdown",
      "metadata": {
        "id": "4l3qdznfjo_A"
      },
      "source": [
        "# New Section"
      ]
    },
    {
      "cell_type": "code",
      "execution_count": null,
      "metadata": {
        "id": "ctEjNI4XxAN3"
      },
      "outputs": [],
      "source": [
        "data=data.drop([13788])"
      ]
    },
    {
      "cell_type": "code",
      "execution_count": null,
      "metadata": {
        "id": "7El3qXV-RdGQ"
      },
      "outputs": [],
      "source": [
        "from tensorflow.keras.preprocessing.sequence import pad_sequences\n",
        "import seaborn as sns"
      ]
    },
    {
      "cell_type": "code",
      "execution_count": null,
      "metadata": {
        "id": "in3UKDBC6sFf"
      },
      "outputs": [],
      "source": [
        "data['category']=lab"
      ]
    },
    {
      "cell_type": "code",
      "execution_count": null,
      "metadata": {
        "colab": {
          "base_uri": "https://localhost:8080/"
        },
        "id": "HgBhBj13vHhc",
        "outputId": "d0840e11-68d3-4215-beca-e9b826e46b01"
      },
      "outputs": [
        {
          "data": {
            "text/plain": [
              "51482"
            ]
          },
          "execution_count": 46,
          "metadata": {},
          "output_type": "execute_result"
        }
      ],
      "source": [
        "len(data)"
      ]
    },
    {
      "cell_type": "code",
      "execution_count": null,
      "metadata": {
        "colab": {
          "base_uri": "https://localhost:8080/",
          "height": 337
        },
        "id": "UvQvljdtQFvO",
        "outputId": "51203af4-f51d-483d-ccea-e2074114a3a0"
      },
      "outputs": [
        {
          "output_type": "stream",
          "name": "stderr",
          "text": [
            "/usr/local/lib/python3.8/dist-packages/seaborn/_decorators.py:36: FutureWarning: Pass the following variables as keyword args: x, y. From version 0.12, the only valid positional argument will be `data`, and passing other arguments without an explicit keyword will result in an error or misinterpretation.\n",
            "  warnings.warn(\n"
          ]
        },
        {
          "output_type": "display_data",
          "data": {
            "text/plain": [
              "<Figure size 864x288 with 1 Axes>"
            ],
            "image/png": "[encoded data removed]"
          },
          "metadata": {
            "needs_background": "light"
          }
        }
      ],
      "source": [
        "from pyparsing.core import ExceptionWordUnicode\n",
        "cnt_pro = data['category'].value_counts()\n",
        "plt.figure(figsize=(12,4))\n",
        "sns.barplot(cnt_pro.index, cnt_pro.values, alpha=0.8)\n",
        "plt.ylabel('Number of Occurrences', fontsize=12)\n",
        "plt.xlabel('Category', fontsize=12)\n",
        "plt.xticks(rotation=360)\n",
        "plt.show();"
      ]
    },
    {
      "cell_type": "code",
      "execution_count": null,
      "metadata": {
        "colab": {
          "base_uri": "https://localhost:8080/",
          "height": 281
        },
        "id": "_qL9sDXs8any",
        "outputId": "4c6a36c2-3882-4aaf-bbb8-985e4ccbdc1c"
      },
      "outputs": [
        {
          "output_type": "display_data",
          "data": {
            "text/plain": [
              "<Figure size 432x288 with 1 Axes>"
            ],
            "image/png": "[encoded data removed]"
          },
          "metadata": {
            "needs_background": "light"
          }
        }
      ],
      "source": [
        "    cnt_pro = data['word_len']\n",
        "    length_df = pd.DataFrame({'word_len':cnt_pro})\n",
        "\n",
        "    length_df.hist(legend=True,bins = 60,color='red' )\n",
        "    plt.show()"
      ]
    },
    {
      "cell_type": "code",
      "execution_count": null,
      "metadata": {
        "colab": {
          "base_uri": "https://localhost:8080/",
          "height": 441
        },
        "id": "zcWGRq2C_Z4n",
        "outputId": "1c4f8127-7ed1-455f-d505-4ca447c7b5e2"
      },
      "outputs": [
        {
          "output_type": "stream",
          "name": "stdout",
          "text": [
            "['politics' 'Country News' 'sport' 'world News' 'business' 'Entertainment']\n"
          ]
        },
        {
          "output_type": "execute_result",
          "data": {
            "text/plain": [
              "                                                headline      category  \\\n",
              "44810  በመዲናዋ የጋራ መኖሪያ ቤቶችን ግንባታ ለማጠናቀቅና ለማስጀመር የ20 ቢሊ...      politics   \n",
              "18329  አሸንዳ፣ ሻደይ፣ አሸንድዬ፣ ሶለል፣ ማሪያና ዓይኒ ዋሪ በዓል በዩኔስኮ አ...  Country News   \n",
              "17644  ግምታዊ ዋጋቸው ከ31 ነጥብ 6 ሚሊየን ብር በላይ የሆኑ የኮንትሮባንድ ዕ...  Country News   \n",
              "32773       ​ባምላክ ተሰማ የዓለም ዋንጫ ለመምራት እጩ ከሆኑ ዳኞች ውስጥ ተካተተ         sport   \n",
              "4139              “መንገድ ለሰው” መርሐ ግብር በየሳምንቱ እንደሚካሄድ ተገለፀ  Country News   \n",
              "\n",
              "                     date    views  \\\n",
              "44810  September 14, 2017  Unknown   \n",
              "18329         Jan 8, 2020      387   \n",
              "17644         Mar 4, 2020      634   \n",
              "32773   November 19, 2017  Unknown   \n",
              "4139       August 7, 2019       32   \n",
              "\n",
              "                                                 article  \\\n",
              "44810  በአዲስ አበባ የተጀመሩ የጋራ መኖሪያ ቤቶችን ግንባታ ለማጠናቀቅና አዳዲስ...   \n",
              "18329  አዲስ አበባ ታህሳስ 29 2012 ኤፍቢሲ የአሸንዳ ሻደይ አሸንድዬ ሶለል ...   \n",
              "17644  አዲስ አበባ  የካቲት 25  2012 ኤፍ ቢ ሲ ባለፉት አምስት ቀናት ግም...   \n",
              "32773  ሩሲያ በ2018 ለምታስተናግደው የአለም ዋንጫ ፊፋ ጨዋታዎችን ሊመሩ የሚች...   \n",
              "4139    አዲስ አበባ መንገድ ለሰው በሚል በአዲስ አበባ ከተማ ሲካሄድ የነበረው ...   \n",
              "\n",
              "                                                    link  word_len  CategoryId  \n",
              "44810                    https://waltainfo.com/am/29360/       302           0  \n",
              "18329  https://www.fanabc.com/%e1%8b%a8%e1%8a%a0%e1%8...       165           1  \n",
              "17644  https://www.fanabc.com/%e1%8c%8d%e1%88%9d%e1%8...       102           1  \n",
              "32773          https://soccerethiopia.net/football/31318       143           2  \n",
              "4139                   https://www.press.et/Ama/?p=15606       193           1  "
            ],
            "text/html": [
              "\n",
              "  <div id=\"df-dd41a3bb-884f-4ed9-b031-d39b94c94af4\">\n",
              "    <div class=\"colab-df-container\">\n",
              "      <div>\n",
              "<style scoped>\n",
              "    .dataframe tbody tr th:only-of-type {\n",
              "        vertical-align: middle;\n",
              "    }\n",
              "\n",
              "    .dataframe tbody tr th {\n",
              "        vertical-align: top;\n",
              "    }\n",
              "\n",
              "    .dataframe thead th {\n",
              "        text-align: right;\n",
              "    }\n",
              "</style>\n",
              "<table border=\"1\" class=\"dataframe\">\n",
              "  <thead>\n",
              "    <tr style=\"text-align: right;\">\n",
              "      <th></th>\n",
              "      <th>headline</th>\n",
              "      <th>category</th>\n",
              "      <th>date</th>\n",
              "      <th>views</th>\n",
              "      <th>article</th>\n",
              "      <th>link</th>\n",
              "      <th>word_len</th>\n",
              "      <th>CategoryId</th>\n",
              "    </tr>\n",
              "  </thead>\n",
              "  <tbody>\n",
              "    <tr>\n",
              "      <th>44810</th>\n",
              "      <td>በመዲናዋ የጋራ መኖሪያ ቤቶችን ግንባታ ለማጠናቀቅና ለማስጀመር የ20 ቢሊ...</td>\n",
              "      <td>politics</td>\n",
              "      <td>September 14, 2017</td>\n",
              "      <td>Unknown</td>\n",
              "      <td>በአዲስ አበባ የተጀመሩ የጋራ መኖሪያ ቤቶችን ግንባታ ለማጠናቀቅና አዳዲስ...</td>\n",
              "      <td>https://waltainfo.com/am/29360/</td>\n",
              "      <td>302</td>\n",
              "      <td>0</td>\n",
              "    </tr>\n",
              "    <tr>\n",
              "      <th>18329</th>\n",
              "      <td>አሸንዳ፣ ሻደይ፣ አሸንድዬ፣ ሶለል፣ ማሪያና ዓይኒ ዋሪ በዓል በዩኔስኮ አ...</td>\n",
              "      <td>Country News</td>\n",
              "      <td>Jan 8, 2020</td>\n",
              "      <td>387</td>\n",
              "      <td>አዲስ አበባ ታህሳስ 29 2012 ኤፍቢሲ የአሸንዳ ሻደይ አሸንድዬ ሶለል ...</td>\n",
              "      <td>https://www.fanabc.com/%e1%8b%a8%e1%8a%a0%e1%8...</td>\n",
              "      <td>165</td>\n",
              "      <td>1</td>\n",
              "    </tr>\n",
              "    <tr>\n",
              "      <th>17644</th>\n",
              "      <td>ግምታዊ ዋጋቸው ከ31 ነጥብ 6 ሚሊየን ብር በላይ የሆኑ የኮንትሮባንድ ዕ...</td>\n",
              "      <td>Country News</td>\n",
              "      <td>Mar 4, 2020</td>\n",
              "      <td>634</td>\n",
              "      <td>አዲስ አበባ  የካቲት 25  2012 ኤፍ ቢ ሲ ባለፉት አምስት ቀናት ግም...</td>\n",
              "      <td>https://www.fanabc.com/%e1%8c%8d%e1%88%9d%e1%8...</td>\n",
              "      <td>102</td>\n",
              "      <td>1</td>\n",
              "    </tr>\n",
              "    <tr>\n",
              "      <th>32773</th>\n",
              "      <td>​ባምላክ ተሰማ የዓለም ዋንጫ ለመምራት እጩ ከሆኑ ዳኞች ውስጥ ተካተተ</td>\n",
              "      <td>sport</td>\n",
              "      <td>November 19, 2017</td>\n",
              "      <td>Unknown</td>\n",
              "      <td>ሩሲያ በ2018 ለምታስተናግደው የአለም ዋንጫ ፊፋ ጨዋታዎችን ሊመሩ የሚች...</td>\n",
              "      <td>https://soccerethiopia.net/football/31318</td>\n",
              "      <td>143</td>\n",
              "      <td>2</td>\n",
              "    </tr>\n",
              "    <tr>\n",
              "      <th>4139</th>\n",
              "      <td>“መንገድ ለሰው” መርሐ ግብር በየሳምንቱ እንደሚካሄድ ተገለፀ</td>\n",
              "      <td>Country News</td>\n",
              "      <td>August 7, 2019</td>\n",
              "      <td>32</td>\n",
              "      <td>አዲስ አበባ መንገድ ለሰው በሚል በአዲስ አበባ ከተማ ሲካሄድ የነበረው ...</td>\n",
              "      <td>https://www.press.et/Ama/?p=15606</td>\n",
              "      <td>193</td>\n",
              "      <td>1</td>\n",
              "    </tr>\n",
              "  </tbody>\n",
              "</table>\n",
              "</div>\n",
              "      <button class=\"colab-df-convert\" onclick=\"convertToInteractive('df-dd41a3bb-884f-4ed9-b031-d39b94c94af4')\"\n",
              "              title=\"Convert this dataframe to an interactive table.\"\n",
              "              style=\"display:none;\">\n",
              "        \n",
              "  <svg xmlns=\"http://www.w3.org/2000/svg\" height=\"24px\"viewBox=\"0 0 24 24\"\n",
              "       width=\"24px\">\n",
              "    <path d=\"M0 0h24v24H0V0z\" fill=\"none\"/>\n",
              "    <path d=\"M18.56 5.44l.94 2.06.94-2.06 2.06-.94-2.06-.94-.94-2.06-.94 2.06-2.06.94zm-11 1L8.5 8.5l.94-2.06 2.06-.94-2.06-.94L8.5 2.5l-.94 2.06-2.06.94zm10 10l.94 2.06.94-2.06 2.06-.94-2.06-.94-.94-2.06-.94 2.06-2.06.94z\"/><path d=\"M17.41 7.96l-1.37-1.37c-.4-.4-.92-.59-1.43-.59-.52 0-1.04.2-1.43.59L10.3 9.45l-7.72 7.72c-.78.78-.78 2.05 0 2.83L4 21.41c.39.39.9.59 1.41.59.51 0 1.02-.2 1.41-.59l7.78-7.78 2.81-2.81c.8-.78.8-2.07 0-2.86zM5.41 20L4 18.59l7.72-7.72 1.47 1.35L5.41 20z\"/>\n",
              "  </svg>\n",
              "      </button>\n",
              "      \n",
              "  <style>\n",
              "    .colab-df-container {\n",
              "      display:flex;\n",
              "      flex-wrap:wrap;\n",
              "      gap: 12px;\n",
              "    }\n",
              "\n",
              "    .colab-df-convert {\n",
              "      background-color: #E8F0FE;\n",
              "      border: none;\n",
              "      border-radius: 50%;\n",
              "      cursor: pointer;\n",
              "      display: none;\n",
              "      fill: #1967D2;\n",
              "      height: 32px;\n",
              "      padding: 0 0 0 0;\n",
              "      width: 32px;\n",
              "    }\n",
              "\n",
              "    .colab-df-convert:hover {\n",
              "      background-color: #E2EBFA;\n",
              "      box-shadow: 0px 1px 2px rgba(60, 64, 67, 0.3), 0px 1px 3px 1px rgba(60, 64, 67, 0.15);\n",
              "      fill: #174EA6;\n",
              "    }\n",
              "\n",
              "    [theme=dark] .colab-df-convert {\n",
              "      background-color: #3B4455;\n",
              "      fill: #D2E3FC;\n",
              "    }\n",
              "\n",
              "    [theme=dark] .colab-df-convert:hover {\n",
              "      background-color: #434B5C;\n",
              "      box-shadow: 0px 1px 3px 1px rgba(0, 0, 0, 0.15);\n",
              "      filter: drop-shadow(0px 1px 2px rgba(0, 0, 0, 0.3));\n",
              "      fill: #FFFFFF;\n",
              "    }\n",
              "  </style>\n",
              "\n",
              "      <script>\n",
              "        const buttonEl =\n",
              "          document.querySelector('#df-dd41a3bb-884f-4ed9-b031-d39b94c94af4 button.colab-df-convert');\n",
              "        buttonEl.style.display =\n",
              "          google.colab.kernel.accessAllowed ? 'block' : 'none';\n",
              "\n",
              "        async function convertToInteractive(key) {\n",
              "          const element = document.querySelector('#df-dd41a3bb-884f-4ed9-b031-d39b94c94af4');\n",
              "          const dataTable =\n",
              "            await google.colab.kernel.invokeFunction('convertToInteractive',\n",
              "                                                     [key], {});\n",
              "          if (!dataTable) return;\n",
              "\n",
              "          const docLinkHtml = 'Like what you see? Visit the ' +\n",
              "            '<a target=\"_blank\" href=https://colab.research.google.com/notebooks/data_table.ipynb>data table notebook</a>'\n",
              "            + ' to learn more about interactive tables.';\n",
              "          element.innerHTML = '';\n",
              "          dataTable['output_type'] = 'display_data';\n",
              "          await google.colab.output.renderOutput(dataTable, element);\n",
              "          const docLink = document.createElement('div');\n",
              "          docLink.innerHTML = docLinkHtml;\n",
              "          element.appendChild(docLink);\n",
              "        }\n",
              "      </script>\n",
              "    </div>\n",
              "  </div>\n",
              "  "
            ]
          },
          "metadata": {},
          "execution_count": 37
        }
      ],
      "source": [
        "# Associate Category names with numerical index and save it in new column CategoryId\n",
        "target_category =data['category'].unique()\n",
        "print(target_category)\n",
        "#convert categories\n",
        "data['CategoryId'] = data['category'].factorize()[0]\n",
        "data.head()"
      ]
    },
    {
      "cell_type": "code",
      "execution_count": null,
      "metadata": {
        "id": "FSwxYZL6nffK"
      },
      "outputs": [],
      "source": [
        "dataset=data"
      ]
    },
    {
      "cell_type": "code",
      "execution_count": null,
      "metadata": {
        "colab": {
          "base_uri": "https://localhost:8080/",
          "height": 411
        },
        "id": "OgSvf6H0-_Kb",
        "outputId": "0a00bcf3-7b2f-4645-e335-b6b0b020a3f5"
      },
      "outputs": [
        {
          "output_type": "display_data",
          "data": {
            "text/plain": [
              "<Figure size 504x504 with 1 Axes>"
            ],
            "image/png": "[encoded data removed]"
          },
          "metadata": {}
        }
      ],
      "source": [
        "fig = plt.figure(figsize = (7,7))\n",
        "colors = [\"skyblue\",\"red\",\"blue\",\"green\",\"black\",\"pink\"]\n",
        "politics = dataset[dataset['CategoryId'] == 0 ]\n",
        "CountryNews = dataset[dataset['CategoryId'] == 1 ]\n",
        "sport = dataset[dataset['CategoryId'] == 2]\n",
        "worldNews = dataset[dataset['CategoryId'] == 3]\n",
        "business = dataset[dataset['CategoryId'] == 4]\n",
        "entertainment = dataset[dataset['CategoryId'] == 5]\n",
        "nan = dataset[dataset['CategoryId'] == 6]\n",
        "count = [politics['CategoryId'].count(), CountryNews['CategoryId'].count(), sport['CategoryId'].count(), worldNews['CategoryId'].count(), business['CategoryId'].count(), entertainment['CategoryId'].count()]\n",
        "pie = plt.pie(count, labels = ['politics', 'Country News', 'sport', 'world News', 'business', 'Entertainment'],\n",
        "              autopct = \"%1.1f%%\",\n",
        "              shadow = True,\n",
        "              colors = colors,\n",
        "              startangle = 45,\n",
        "              explode = (0.05, 0.05, 0.05, 0.05,0.05,0.05))"
      ]
    },
    {
      "cell_type": "code",
      "execution_count": null,
      "metadata": {
        "id": "WrSAT7tMQnkx"
      },
      "outputs": [],
      "source": [
        "# function to build a tokenizer\n",
        "def tokenization(lines):\n",
        "      tokenizer = Tokenizer()\n",
        "      tokenizer.fit_on_texts(lines)\n",
        "      return tokenizer\n",
        "\n",
        "def max_length(lang):\n",
        "  return max(t for t in lang)\n",
        "\n",
        "def encode_sequences(tokenizer, length, lines):\n",
        "         # integer encode sequences\n",
        "         seq = tokenizer.texts_to_sequences(lines)\n",
        "         # pad sequences with 0 values\n",
        "         seq = pad_sequences(seq, maxlen=length, padding='post')\n",
        "         return seq\n",
        "\n",
        "\n",
        "\n",
        "\n",
        "\n",
        "\n",
        "\n",
        "\n",
        "\n",
        ""
      ]
    },
    {
      "cell_type": "code",
      "execution_count": null,
      "metadata": {
        "id": "giqrptc0RS0L"
      },
      "outputs": [],
      "source": [
        "Amharic_News_tokenizer = tokenization(text)\n",
        "Amharic_News_vocab=len(Amharic_News_tokenizer.word_index)+1\n",
        "    #//data_yt=encode_sequences(so_tokenizer,so_length,testso)\n",
        "\n",
        "    #data_y=np.array(data_y)\n",
        "    #data_yt=np.array(data_yt)"
      ]
    },
    {
      "cell_type": "code",
      "execution_count": null,
      "metadata": {
        "id": "HAa5SAtNNCCS"
      },
      "outputs": [],
      "source": []
    },
    {
      "cell_type": "code",
      "execution_count": null,
      "metadata": {
        "id": "ZPFT90FHqtDA"
      },
      "outputs": [],
      "source": []
    },
    {
      "cell_type": "code",
      "execution_count": null,
      "metadata": {
        "id": "1yK73j54rQNG"
      },
      "outputs": [],
      "source": [
        "Amharic_News_tokenizer.index_word"
      ]
    },
    {
      "cell_type": "code",
      "execution_count": null,
      "metadata": {
        "id": "vDqxAalyVDoh"
      },
      "outputs": [],
      "source": [
        "Amharic_News_length=len(max_length(text))\n"
      ]
    },
    {
      "cell_type": "code",
      "execution_count": null,
      "metadata": {
        "colab": {
          "base_uri": "https://localhost:8080/"
        },
        "id": "sqrtl6MbTFbC",
        "outputId": "ca31716c-6e77-44d0-d4b2-526fc267ff77"
      },
      "outputs": [
        {
          "data": {
            "text/plain": [
              "891"
            ]
          },
          "execution_count": 56,
          "metadata": {},
          "output_type": "execute_result"
        }
      ],
      "source": [
        "Amharic_News_length"
      ]
    },
    {
      "cell_type": "code",
      "execution_count": null,
      "metadata": {
        "id": "4epf3lCrrz9g"
      },
      "outputs": [],
      "source": [
        "         # integer encode sequences\n",
        "         seq = Amharic_News_tokenizer.texts_to_sequences(text[0])\n",
        "         seq\n",
        ""
      ]
    },
    {
      "cell_type": "code",
      "execution_count": null,
      "metadata": {
        "id": "r_uRgZP5r8Aj"
      },
      "outputs": [],
      "source": [
        "# pad sequences with 0 values\n",
        "padding = pad_sequences(seq, maxlen=Amharic_News_length, padding='post')\n",
        "padding"
      ]
    },
    {
      "cell_type": "code",
      "execution_count": null,
      "metadata": {
        "id": "iEJ6cTq8S1XG"
      },
      "outputs": [],
      "source": [
        "data_y=encode_sequences(Amharic_News_tokenizer,Amharic_News_length,text)\n"
      ]
    },
    {
      "cell_type": "code",
      "execution_count": null,
      "metadata": {
        "id": "0dbPgXfxymx0"
      },
      "outputs": [],
      "source": [
        "X=data_y"
      ]
    },
    {
      "cell_type": "code",
      "execution_count": null,
      "metadata": {
        "colab": {
          "base_uri": "https://localhost:8080/"
        },
        "id": "m_2yfkf6ytnB",
        "outputId": "ae9d4e01-dbd4-481e-eef3-7cba9e67b78e"
      },
      "outputs": [
        {
          "data": {
            "text/plain": [
              "array([[ 126,   10, 3820, ...,    0,    0,    0],\n",
              "       [  19,   10,  654, ...,    0,    0,    0],\n",
              "       [  19,   10,  694, ...,    0,    0,    0],\n",
              "       ...,\n",
              "       [  21,   48,   83, ...,    0,    0,    0],\n",
              "       [1728,  433,   88, ...,    0,    0,    0],\n",
              "       [  19,   10,  748, ...,    0,    0,    0]], dtype=int32)"
            ]
          },
          "execution_count": 61,
          "metadata": {},
          "output_type": "execute_result"
        }
      ],
      "source": [
        "X"
      ]
    },
    {
      "cell_type": "code",
      "execution_count": null,
      "metadata": {
        "id": "jwf-6ADH2DL8"
      },
      "outputs": [],
      "source": [
        "N=Y"
      ]
    },
    {
      "cell_type": "code",
      "execution_count": null,
      "metadata": {
        "id": "zQr8uplvWXTY"
      },
      "outputs": [],
      "source": [
        "Y=np.array(Y,dtype='int32').reshape(1,-1,1)"
      ]
    },
    {
      "cell_type": "code",
      "execution_count": null,
      "metadata": {
        "colab": {
          "base_uri": "https://localhost:8080/"
        },
        "id": "--sUoOeLWguj",
        "outputId": "c01b16d1-5931-48ac-c0c9-ddf3b3a7c205"
      },
      "outputs": [
        {
          "data": {
            "text/plain": [
              "array([[[3],\n",
              "        [4],\n",
              "        [4],\n",
              "        ...,\n",
              "        [4],\n",
              "        [5],\n",
              "        [4]]], dtype=int32)"
            ]
          },
          "execution_count": 64,
          "metadata": {},
          "output_type": "execute_result"
        }
      ],
      "source": [
        "Y"
      ]
    },
    {
      "cell_type": "code",
      "execution_count": null,
      "metadata": {
        "colab": {
          "base_uri": "https://localhost:8080/"
        },
        "id": "sxZ_qkHF098P",
        "outputId": "0c63eed3-b2d9-4ec6-c423-d74982860359"
      },
      "outputs": [
        {
          "data": {
            "text/plain": [
              "True"
            ]
          },
          "execution_count": 65,
          "metadata": {},
          "output_type": "execute_result"
        }
      ],
      "source": [
        "Y.dtype==X.dtype"
      ]
    },
    {
      "cell_type": "code",
      "execution_count": null,
      "metadata": {
        "id": "6nCqWEkMWN9g"
      },
      "outputs": [],
      "source": [
        "Y=Y[0]"
      ]
    },
    {
      "cell_type": "code",
      "execution_count": null,
      "metadata": {
        "id": "7JfoWHFZgEu7"
      },
      "outputs": [],
      "source": [
        "# author - Richard Liao\n",
        "# Dec 26 2016\n",
        "import numpy as np\n",
        "import pandas as pd\n",
        "import pickle\n",
        "from collections import defaultdict\n",
        "import re\n",
        "\n",
        "from bs4 import BeautifulSoup\n",
        "\n",
        "import sys\n",
        "import os\n",
        "\n",
        "\n",
        "\n",
        "from keras.layers import Dense, Input, Flatten,RepeatVector\n",
        "# Constants\n",
        "from tensorflow.keras.callbacks import ModelCheckpoint,ReduceLROnPlateau,LearningRateScheduler,EarlyStopping\n",
        "\n",
        "batch_Size = 128\n",
        "adam = keras.optimizers.Adam(lr=0.01)\n",
        "early = EarlyStopping(monitor = 'val_sparse_categorical_accuracy', verbose=1, mode = 'max', patience = 3)\n"
      ]
    },
    {
      "cell_type": "code",
      "execution_count": null,
      "metadata": {
        "colab": {
          "base_uri": "https://localhost:8080/"
        },
        "id": "Xs9dIoKSiM8b",
        "outputId": "f3aee1ec-a29e-4eea-cd15-ccae90ecd6ef"
      },
      "outputs": [
        {
          "name": "stdout",
          "output_type": "stream",
          "text": [
            "model fitting - simplified convolutional neural network\n",
            "Model: \"model\"\n",
            "_________________________________________________________________\n",
            " Layer (type)                Output Shape              Param #   \n",
            "=================================================================\n",
            " input_3 (InputLayer)        [(None, 891)]             0         \n",
            "                                                                 \n",
            " embedding_2 (Embedding)     (None, 891, 128)          94461312  \n",
            "                                                                 \n",
            " conv1d_6 (Conv1D)           (None, 887, 128)          82048     \n",
            "                                                                 \n",
            " max_pooling1d_6 (MaxPooling  (None, 177, 128)         0         \n",
            " 1D)                                                             \n",
            "                                                                 \n",
            " conv1d_7 (Conv1D)           (None, 173, 128)          82048     \n",
            "                                                                 \n",
            " max_pooling1d_7 (MaxPooling  (None, 34, 128)          0         \n",
            " 1D)                                                             \n",
            "                                                                 \n",
            " conv1d_8 (Conv1D)           (None, 30, 128)           82048     \n",
            "                                                                 \n",
            " flatten (Flatten)           (None, 3840)              0         \n",
            "                                                                 \n",
            " dense (Dense)               (None, 128)               491648    \n",
            "                                                                 \n",
            " dense_1 (Dense)             (None, 6)                 774       \n",
            "                                                                 \n",
            "=================================================================\n",
            "Total params: 95,199,878\n",
            "Trainable params: 738,566\n",
            "Non-trainable params: 94,461,312\n",
            "_________________________________________________________________\n",
            "Epoch 1/10\n",
            "282/282 [==============================] - 17s 32ms/step - loss: 1.3463 - acc: 0.4466 - val_loss: 1.3593 - val_acc: 0.4710\n",
            "Epoch 2/10\n",
            "282/282 [==============================] - 8s 30ms/step - loss: 0.9387 - acc: 0.6192 - val_loss: 0.8349 - val_acc: 0.6640\n",
            "Epoch 3/10\n",
            "282/282 [==============================] - 9s 30ms/step - loss: 0.7267 - acc: 0.7083 - val_loss: 0.7005 - val_acc: 0.7070\n",
            "Epoch 4/10\n",
            "282/282 [==============================] - 9s 31ms/step - loss: 0.6190 - acc: 0.7557 - val_loss: 0.6822 - val_acc: 0.7235\n",
            "Epoch 5/10\n",
            "282/282 [==============================] - 9s 31ms/step - loss: 0.5324 - acc: 0.7966 - val_loss: 0.5730 - val_acc: 0.7736\n",
            "Epoch 6/10\n",
            "282/282 [==============================] - 9s 31ms/step - loss: 0.4526 - acc: 0.8320 - val_loss: 0.6596 - val_acc: 0.7535\n",
            "Epoch 7/10\n",
            "282/282 [==============================] - 9s 31ms/step - loss: 0.3772 - acc: 0.8644 - val_loss: 0.6485 - val_acc: 0.7648\n",
            "Epoch 8/10\n",
            "282/282 [==============================] - 10s 36ms/step - loss: 0.3092 - acc: 0.8896 - val_loss: 0.9087 - val_acc: 0.7186\n",
            "Epoch 9/10\n",
            "282/282 [==============================] - 9s 31ms/step - loss: 0.2426 - acc: 0.9162 - val_loss: 0.7063 - val_acc: 0.7700\n",
            "Epoch 10/10\n",
            "282/282 [==============================] - 9s 31ms/step - loss: 0.1944 - acc: 0.9334 - val_loss: 0.7721 - val_acc: 0.7665\n"
          ]
        },
        {
          "data": {
            "text/plain": [
              "<keras.callbacks.History at 0x7f939314c5e0>"
            ]
          },
          "execution_count": 84,
          "metadata": {},
          "output_type": "execute_result"
        }
      ],
      "source": [
        "embedding_layer = Embedding(Amharic_News_vocab,\n",
        "                            128,\n",
        "                            input_length=Amharic_News_length,\n",
        "                            trainable=False)\n",
        "\n",
        "sequence_input = Input(shape=(Amharic_News_length,), dtype='int32')\n",
        "embedded_sequences = embedding_layer(sequence_input)\n",
        "l_cov1= Conv1D(128, 5, activation='relu')(embedded_sequences)\n",
        "l_pool1 = MaxPooling1D(5)(l_cov1)\n",
        "l_cov2 = Conv1D(128, 5, activation='relu')(l_pool1)\n",
        "l_pool2 = MaxPooling1D(5)(l_cov2)\n",
        "l_cov3 = Conv1D(128, 5, activation='relu')(l_pool2)\n",
        "#l_pool3 = MaxPooling1D(Amharic_News_length)(l_cov3)  # global max pooling\n",
        "l_flat = Flatten()(l_cov3)\n",
        "l_dense = Dense(128, activation='relu')(l_flat)\n",
        "preds = Dense(6, activation='softmax')(l_dense)\n",
        "\n",
        "model = Model(sequence_input, preds)\n",
        "model.compile(loss='sparse_categorical_crossentropy',\n",
        "              optimizer='rmsprop',\n",
        "              metrics=['acc'])\n",
        "\n",
        "print(\"model fitting - simplified convolutional neural network\")\n",
        "model.summary()\n",
        "model.fit(data_y, Y, validation_split=0.3,\n",
        "          epochs=10, batch_size=128)"
      ]
    },
    {
      "cell_type": "code",
      "execution_count": null,
      "metadata": {
        "colab": {
          "base_uri": "https://localhost:8080/"
        },
        "id": "bEDe13Fen6EA",
        "outputId": "36913d03-6b1c-4994-b711-32c2d894db34"
      },
      "outputs": [
        {
          "name": "stdout",
          "output_type": "stream",
          "text": [
            "Epoch 1/10\n",
            "282/282 [==============================] - 9s 31ms/step - loss: 0.1646 - acc: 0.9459 - val_loss: 1.1318 - val_acc: 0.7124\n",
            "Epoch 2/10\n",
            "282/282 [==============================] - 9s 31ms/step - loss: 0.1380 - acc: 0.9537 - val_loss: 0.9903 - val_acc: 0.7613\n",
            "Epoch 3/10\n",
            "282/282 [==============================] - 9s 31ms/step - loss: 0.1210 - acc: 0.9609 - val_loss: 1.0493 - val_acc: 0.7632\n",
            "Epoch 4/10\n",
            "282/282 [==============================] - 9s 32ms/step - loss: 0.1117 - acc: 0.9648 - val_loss: 1.0681 - val_acc: 0.7659\n",
            "Epoch 5/10\n",
            "282/282 [==============================] - 9s 32ms/step - loss: 0.1000 - acc: 0.9660 - val_loss: 1.3673 - val_acc: 0.7481\n",
            "Epoch 6/10\n",
            "282/282 [==============================] - 9s 32ms/step - loss: 0.1025 - acc: 0.9670 - val_loss: 1.1369 - val_acc: 0.7429\n",
            "Epoch 7/10\n",
            "282/282 [==============================] - 9s 31ms/step - loss: 0.0829 - acc: 0.9744 - val_loss: 1.6972 - val_acc: 0.7384\n",
            "Epoch 8/10\n",
            "282/282 [==============================] - 9s 31ms/step - loss: 0.0831 - acc: 0.9726 - val_loss: 1.2072 - val_acc: 0.7612\n",
            "Epoch 9/10\n",
            "282/282 [==============================] - 9s 31ms/step - loss: 0.0858 - acc: 0.9739 - val_loss: 1.6301 - val_acc: 0.7326\n",
            "Epoch 10/10\n",
            "282/282 [==============================] - 9s 31ms/step - loss: 0.0819 - acc: 0.9741 - val_loss: 1.5643 - val_acc: 0.7466\n"
          ]
        },
        {
          "data": {
            "text/plain": [
              "<keras.callbacks.History at 0x7f93923480d0>"
            ]
          },
          "execution_count": 97,
          "metadata": {},
          "output_type": "execute_result"
        }
      ],
      "source": [
        "model.fit(data_y, Y, validation_split=0.3,\n",
        "          epochs=10, batch_size=128)"
      ]
    },
    {
      "cell_type": "code",
      "execution_count": null,
      "metadata": {
        "id": "xgIVqiWZlIvq"
      },
      "outputs": [],
      "source": [
        "model.history.history"
      ]
    },
    {
      "cell_type": "code",
      "execution_count": null,
      "metadata": {
        "colab": {
          "base_uri": "https://localhost:8080/",
          "height": 573
        },
        "id": "sA0c84bjkuRA",
        "outputId": "c2f14381-7764-46a8-e46e-791ba49a1ac4"
      },
      "outputs": [
        {
          "data": {
            "image/png": "[encoded data removed]",
            "text/plain": [
              "<Figure size 432x288 with 1 Axes>"
            ]
          },
          "metadata": {},
          "output_type": "display_data"
        },
        {
          "data": {
            "image/png": "[encoded data removed]",
            "text/plain": [
              "<Figure size 432x288 with 1 Axes>"
            ]
          },
          "metadata": {},
          "output_type": "display_data"
        }
      ],
      "source": [
        "#Initialize history with correct name of the history (given on top of each model in comments)\n",
        "#history = modelrnn\n",
        "# Plot training & validation accuracy values\n",
        "\n",
        "plt.plot(model.history.history['acc'])\n",
        "plt.plot(model.history.history['val_acc'])\n",
        "plt.title('WRNN Model accuracy') #change name accordingly\n",
        "plt.ylabel('Accuracy')\n",
        "plt.xlabel('Epoch')\n",
        "plt.legend(['Train', 'Test'], loc='upper left')\n",
        "plt.show()\n",
        "\n",
        "# Plot training & validation loss values\n",
        "plt.plot(model.history.history['loss'])\n",
        "plt.plot(model.history.history['val_loss'])\n",
        "plt.title('WRNN Model loss') #change name accordingly\n",
        "plt.ylabel('Loss')\n",
        "plt.xlabel('Epoch')\n",
        "plt.legend(['Train', 'Test'], loc='upper left')\n",
        "plt.show()"
      ]
    },
    {
      "cell_type": "code",
      "execution_count": null,
      "metadata": {
        "colab": {
          "base_uri": "https://localhost:8080/"
        },
        "id": "wLzg8YormMZ2",
        "outputId": "cf87c772-ca0a-4f11-b960-b8dbca88db6f"
      },
      "outputs": [
        {
          "data": {
            "text/plain": [
              "['መዝናኛ', 'ዓለም አቀፍ ዜና', 'ቢዝነስ', 'ፖለቲካ', 'ሀገር አቀፍ ዜና', 'ስፖርት']"
            ]
          },
          "execution_count": 93,
          "metadata": {},
          "output_type": "execute_result"
        }
      ],
      "source": [
        "unique_label"
      ]
    },
    {
      "cell_type": "code",
      "execution_count": null,
      "metadata": {
        "id": "RTOzHzc_kiEb"
      },
      "outputs": [],
      "source": [
        "Categories = {0:'መዝናኛ', 1:'ዓለም አቀፍ ዜና', 2:'ቢዝነስ', 3:'ፖለቲካ', 4:'ሀገር አቀፍ ዜና', 5:'ስፖርት'}\n",
        "#Categories={1: 'ፖለቲካ', 2: 'ሀገር አቀፍ ዜና', 3: 'ስፖርት', 4: 'ዓለም አቀፍ ዜና', 5: 'ቢዝነስ', 6: 'መዝናኛ'}\n",
        "No_of_Samples = 50\n",
        "Results = model.predict(data_y[:No_of_Samples])\n",
        "Predictions=[]\n",
        "for i in range(No_of_Samples):\n",
        "    k=[]\n",
        "    b=Categories.get(Results.argmax(axis=1)[i])\n",
        "    a=cat[:50][i]\n",
        "    k.append( Categories.get(Results.argmax(axis=1)[i]))\n",
        "    k.append(cat[:50][i])\n",
        "    if(k[0]==k[1]):\n",
        "        k.append('Correct')\n",
        "    else:\n",
        "        k.append('InCorrect')\n",
        "    Predictions.append(k.copy())\n",
        "df = pd.DataFrame(Predictions,columns=['Predicted','Actual','Status'])\n",
        "df"
      ]
    },
    {
      "cell_type": "code",
      "execution_count": null,
      "metadata": {
        "id": "1dz_4-5ymrcK"
      },
      "outputs": [],
      "source": [
        "model.save('/content/drive/MyDrive/yirga/cnnmodel.h5')"
      ]
    },
    {
      "cell_type": "code",
      "execution_count": null,
      "metadata": {
        "id": "nxRAjhnYJabz"
      },
      "outputs": [],
      "source": [
        "class attention(Layer):\n",
        "    def init(self):\n",
        "        super(attention,self).__init__()\n",
        "    def build(self,input_shape):\n",
        "        self.W=self.add_weight(name='att_weight',shape=(input_shape[-1],1),initializer=\"normal\")\n",
        "        self.b=self.add_weight(name='att_bias',shape=(input_shape[-2],1),initializer=\"zeros\")\n",
        "        super(attention, self).build(input_shape)\n",
        "    def call(self,x):\n",
        "        e = K.tanh(K.dot(x,self.W)+self.b)\n",
        "        a = K.softmax(e, axis=1)\n",
        "        output = x*a\n",
        "        return K.sum(output, axis=1)"
      ]
    },
    {
      "cell_type": "code",
      "execution_count": null,
      "metadata": {
        "id": "V_o98uful-kk"
      },
      "outputs": [],
      "source": [
        "## Network architecture\n",
        "#Model name - modelnn_LSTM, history name - history_LSTM\n",
        "modelnn_LSTM = Sequential()\n",
        "modelnn_LSTM.add(Embedding(Amharic_News_vocab,64, input_length=Amharic_News_length))\n",
        "\n",
        "modelnn_LSTM.add((LSTM(64, dropout=0.2,recurrent_dropout=0.2,return_sequences = True )))  # Creates individual word vectors\n",
        "modelnn_LSTM.add(Permute((2,1)))\n",
        "modelnn_LSTM.add(TimeDistributed(Dense(1)))\n",
        "modelnn_LSTM.add(Flatten()) # Final Document Vector\n",
        "# Classification\n",
        "modelnn_LSTM.add(Dense(64,activation='relu'))\n",
        "modelnn_LSTM.add(Dense(8,activation='softmax',kernel_initializer='he_normal',kernel_regularizer=regularizers.l1_l2(l1=0.01,l2=0.01)))\n",
        "\n",
        "modelnn_LSTM.compile(loss='sparse_categorical_crossentropy',optimizer=adam, metrics=[keras.metrics.sparse_categorical_accuracy])\n",
        "modelnn_LSTM.summary()\n",
        "history_LSTM = modelnn_LSTM.fit(data_y,Y, validation_split=0.05,epochs=5 ,batch_size=batch_Size, callbacks= [early])\n",
        "## Network architecture\n",
        "#model name - modelnn_BiLSTM, history name - history_BiLSTM\n",
        "modelnn_BiLSTM = Sequential()\n",
        "# The LSTM network is changed\n",
        "modelnn_BiLSTM.add(Bidirectional(LSTM(128, input_shape=(Amharic_News_vocab,Amharic_News_length), dropout=0.2,recurrent_dropout=0.2,return_sequences = True )))  # Creates individual word vectors\n",
        "modelnn_LSTM.add(Permute((2,1)))\n",
        "modelnn_BiLSTM.add(TimeDistributed(Dense(1)))\n",
        "modelnn_BiLSTM.add(Flatten()) # Final Document Vector\n",
        "# Classification\n",
        "modelnn_BiLSTM.add(Dense(128,activation='relu'))\n",
        "modelnn_BiLSTM.add(Dense(20,activation='softmax',kernel_initializer='he_normal',kernel_regularizer=regularizers.l1_l2(l1=0.01,l2=0.01)))\n",
        "\n",
        "modelnn_BiLSTM.compile(loss='categorical_crossentropy',optimizer=adam, metrics=[keras.metrics.categorical_accuracy])\n",
        "history_BiLSTM = modelnn_BiLSTM.fit(data_y,Y, validation_split=0.05,epochs=100 ,batch_size=batch_Size, callbacks= [early])\n",
        "modelnn_BiLSTM.summary()"
      ]
    },
    {
      "cell_type": "code",
      "source": [
        "from keras import backend as K\n"
      ],
      "metadata": {
        "id": "xbs5YIepKwyS"
      },
      "execution_count": null,
      "outputs": []
    },
    {
      "cell_type": "markdown",
      "source": [],
      "metadata": {
        "id": "LpTnWgFpT9qz"
      }
    },
    {
      "cell_type": "code",
      "source": [
        "'''inp = Input(shape=(Amharic_News_length,))\n",
        "    x = Embedding(Amharic_News_vocab, 128, trainable=False)(inp)\n",
        "    x = Bidirectional(LSTM(128, return_sequences=True))(x)\n",
        "    x = Bidirectional(LSTM(64, return_sequences=True))(x)\n",
        "    x = attention()(x)\n",
        "    x = Dense(64, activation=\"relu\")(x)\n",
        "    x = Dense(6, activation=\"sigmoid\")(x)\n",
        "    model = Model(inputs=inp, outputs=x)'''\n",
        "embedding_layer = Embedding(Amharic_News_vocab ,\n",
        "                            128,\n",
        "                            input_length=Amharic_News_length)\n",
        "\n",
        "sequence_input = Input(shape=(Amharic_News_length,), dtype='int32')\n",
        "embedded_sequences = embedding_layer(sequence_input)\n",
        "l_lstm = Bidirectional(LSTM(100, return_sequences=True))(embedded_sequences)\n",
        "att= attention()(l_lstm)\n",
        "x = Dense(64, activation=\"relu\")(att)\n",
        "\n",
        "preds = Dense(6, activation='softmax')(x)\n",
        "model = Model(sequence_input, preds)\n",
        "model.compile(loss='sparse_categorical_crossentropy',\n",
        "              optimizer='rmsprop',\n",
        "              metrics=['acc'])\n",
        "\n",
        "print(\"model fitting - Bidirectional LSTM\")\n",
        "model.summary()\n",
        "model.fit(data_y, Y[0], validation_split=0.3,\n",
        "          epochs=10, batch_size=50)"
      ],
      "metadata": {
        "colab": {
          "base_uri": "https://localhost:8080/",
          "height": 797
        },
        "id": "oSO0sACHJWkX",
        "outputId": "27c689b1-a52e-40ee-de45-d23958d71ec8"
      },
      "execution_count": null,
      "outputs": [
        {
          "output_type": "stream",
          "name": "stdout",
          "text": [
            "model fitting - Bidirectional LSTM\n",
            "Model: \"model_3\"\n",
            "_________________________________________________________________\n",
            " Layer (type)                Output Shape              Param #   \n",
            "=================================================================\n",
            " input_16 (InputLayer)       [(None, 891)]             0         \n",
            "                                                                 \n",
            " embedding_15 (Embedding)    (None, 891, 128)          94461312  \n",
            "                                                                 \n",
            " bidirectional_23 (Bidirecti  (None, 891, 200)         183200    \n",
            " onal)                                                           \n",
            "                                                                 \n",
            " attention_6 (attention)     (None, 200)               1091      \n",
            "                                                                 \n",
            " dense_7 (Dense)             (None, 64)                12864     \n",
            "                                                                 \n",
            " dense_8 (Dense)             (None, 6)                 390       \n",
            "                                                                 \n",
            "=================================================================\n",
            "Total params: 94,658,857\n",
            "Trainable params: 94,658,857\n",
            "Non-trainable params: 0\n",
            "_________________________________________________________________\n",
            "Epoch 1/10\n",
            " 31/721 [>.............................] - ETA: 21:34 - loss: 1.5502 - acc: 0.3858"
          ]
        },
        {
          "output_type": "error",
          "ename": "KeyboardInterrupt",
          "evalue": "ignored",
          "traceback": [
            "\u001b[0;31m---------------------------------------------------------------------------\u001b[0m",
            "\u001b[0;31mKeyboardInterrupt\u001b[0m                         Traceback (most recent call last)",
            "\u001b[0;32m<ipython-input-75-ab917363f3e0>\u001b[0m in \u001b[0;36m<module>\u001b[0;34m\u001b[0m\n\u001b[1;32m     25\u001b[0m \u001b[0mprint\u001b[0m\u001b[0;34m(\u001b[0m\u001b[0;34m\"model fitting - Bidirectional LSTM\"\u001b[0m\u001b[0;34m)\u001b[0m\u001b[0;34m\u001b[0m\u001b[0;34m\u001b[0m\u001b[0m\n\u001b[1;32m     26\u001b[0m \u001b[0mmodel\u001b[0m\u001b[0;34m.\u001b[0m\u001b[0msummary\u001b[0m\u001b[0;34m(\u001b[0m\u001b[0;34m)\u001b[0m\u001b[0;34m\u001b[0m\u001b[0;34m\u001b[0m\u001b[0m\n\u001b[0;32m---> 27\u001b[0;31m model.fit(data_y, Y[0], validation_split=0.3,\n\u001b[0m\u001b[1;32m     28\u001b[0m           epochs=10, batch_size=50)\n",
            "\u001b[0;32m/usr/local/lib/python3.8/dist-packages/keras/utils/traceback_utils.py\u001b[0m in \u001b[0;36merror_handler\u001b[0;34m(*args, **kwargs)\u001b[0m\n\u001b[1;32m     62\u001b[0m     \u001b[0mfiltered_tb\u001b[0m \u001b[0;34m=\u001b[0m \u001b[0;32mNone\u001b[0m\u001b[0;34m\u001b[0m\u001b[0;34m\u001b[0m\u001b[0m\n\u001b[1;32m     63\u001b[0m     \u001b[0;32mtry\u001b[0m\u001b[0;34m:\u001b[0m\u001b[0;34m\u001b[0m\u001b[0;34m\u001b[0m\u001b[0m\n\u001b[0;32m---> 64\u001b[0;31m       \u001b[0;32mreturn\u001b[0m \u001b[0mfn\u001b[0m\u001b[0;34m(\u001b[0m\u001b[0;34m*\u001b[0m\u001b[0margs\u001b[0m\u001b[0;34m,\u001b[0m \u001b[0;34m**\u001b[0m\u001b[0mkwargs\u001b[0m\u001b[0;34m)\u001b[0m\u001b[0;34m\u001b[0m\u001b[0;34m\u001b[0m\u001b[0m\n\u001b[0m\u001b[1;32m     65\u001b[0m     \u001b[0;32mexcept\u001b[0m \u001b[0mException\u001b[0m \u001b[0;32mas\u001b[0m \u001b[0me\u001b[0m\u001b[0;34m:\u001b[0m  \u001b[0;31m# pylint: disable=broad-except\u001b[0m\u001b[0;34m\u001b[0m\u001b[0;34m\u001b[0m\u001b[0m\n\u001b[1;32m     66\u001b[0m       \u001b[0mfiltered_tb\u001b[0m \u001b[0;34m=\u001b[0m \u001b[0m_process_traceback_frames\u001b[0m\u001b[0;34m(\u001b[0m\u001b[0me\u001b[0m\u001b[0;34m.\u001b[0m\u001b[0m__traceback__\u001b[0m\u001b[0;34m)\u001b[0m\u001b[0;34m\u001b[0m\u001b[0;34m\u001b[0m\u001b[0m\n",
            "\u001b[0;32m/usr/local/lib/python3.8/dist-packages/keras/engine/training.py\u001b[0m in \u001b[0;36mfit\u001b[0;34m(self, x, y, batch_size, epochs, verbose, callbacks, validation_split, validation_data, shuffle, class_weight, sample_weight, initial_epoch, steps_per_epoch, validation_steps, validation_batch_size, validation_freq, max_queue_size, workers, use_multiprocessing)\u001b[0m\n\u001b[1;32m   1407\u001b[0m                 _r=1):\n\u001b[1;32m   1408\u001b[0m               \u001b[0mcallbacks\u001b[0m\u001b[0;34m.\u001b[0m\u001b[0mon_train_batch_begin\u001b[0m\u001b[0;34m(\u001b[0m\u001b[0mstep\u001b[0m\u001b[0;34m)\u001b[0m\u001b[0;34m\u001b[0m\u001b[0;34m\u001b[0m\u001b[0m\n\u001b[0;32m-> 1409\u001b[0;31m               \u001b[0mtmp_logs\u001b[0m \u001b[0;34m=\u001b[0m \u001b[0mself\u001b[0m\u001b[0;34m.\u001b[0m\u001b[0mtrain_function\u001b[0m\u001b[0;34m(\u001b[0m\u001b[0miterator\u001b[0m\u001b[0;34m)\u001b[0m\u001b[0;34m\u001b[0m\u001b[0;34m\u001b[0m\u001b[0m\n\u001b[0m\u001b[1;32m   1410\u001b[0m               \u001b[0;32mif\u001b[0m \u001b[0mdata_handler\u001b[0m\u001b[0;34m.\u001b[0m\u001b[0mshould_sync\u001b[0m\u001b[0;34m:\u001b[0m\u001b[0;34m\u001b[0m\u001b[0;34m\u001b[0m\u001b[0m\n\u001b[1;32m   1411\u001b[0m                 \u001b[0mcontext\u001b[0m\u001b[0;34m.\u001b[0m\u001b[0masync_wait\u001b[0m\u001b[0;34m(\u001b[0m\u001b[0;34m)\u001b[0m\u001b[0;34m\u001b[0m\u001b[0;34m\u001b[0m\u001b[0m\n",
            "\u001b[0;32m/usr/local/lib/python3.8/dist-packages/tensorflow/python/util/traceback_utils.py\u001b[0m in \u001b[0;36merror_handler\u001b[0;34m(*args, **kwargs)\u001b[0m\n\u001b[1;32m    148\u001b[0m     \u001b[0mfiltered_tb\u001b[0m \u001b[0;34m=\u001b[0m \u001b[0;32mNone\u001b[0m\u001b[0;34m\u001b[0m\u001b[0;34m\u001b[0m\u001b[0m\n\u001b[1;32m    149\u001b[0m     \u001b[0;32mtry\u001b[0m\u001b[0;34m:\u001b[0m\u001b[0;34m\u001b[0m\u001b[0;34m\u001b[0m\u001b[0m\n\u001b[0;32m--> 150\u001b[0;31m       \u001b[0;32mreturn\u001b[0m \u001b[0mfn\u001b[0m\u001b[0;34m(\u001b[0m\u001b[0;34m*\u001b[0m\u001b[0margs\u001b[0m\u001b[0;34m,\u001b[0m \u001b[0;34m**\u001b[0m\u001b[0mkwargs\u001b[0m\u001b[0;34m)\u001b[0m\u001b[0;34m\u001b[0m\u001b[0;34m\u001b[0m\u001b[0m\n\u001b[0m\u001b[1;32m    151\u001b[0m     \u001b[0;32mexcept\u001b[0m \u001b[0mException\u001b[0m \u001b[0;32mas\u001b[0m \u001b[0me\u001b[0m\u001b[0;34m:\u001b[0m\u001b[0;34m\u001b[0m\u001b[0;34m\u001b[0m\u001b[0m\n\u001b[1;32m    152\u001b[0m       \u001b[0mfiltered_tb\u001b[0m \u001b[0;34m=\u001b[0m \u001b[0m_process_traceback_frames\u001b[0m\u001b[0;34m(\u001b[0m\u001b[0me\u001b[0m\u001b[0;34m.\u001b[0m\u001b[0m__traceback__\u001b[0m\u001b[0;34m)\u001b[0m\u001b[0;34m\u001b[0m\u001b[0;34m\u001b[0m\u001b[0m\n",
            "\u001b[0;32m/usr/local/lib/python3.8/dist-packages/tensorflow/python/eager/def_function.py\u001b[0m in \u001b[0;36m__call__\u001b[0;34m(self, *args, **kwds)\u001b[0m\n\u001b[1;32m    913\u001b[0m \u001b[0;34m\u001b[0m\u001b[0m\n\u001b[1;32m    914\u001b[0m       \u001b[0;32mwith\u001b[0m \u001b[0mOptionalXlaContext\u001b[0m\u001b[0;34m(\u001b[0m\u001b[0mself\u001b[0m\u001b[0;34m.\u001b[0m\u001b[0m_jit_compile\u001b[0m\u001b[0;34m)\u001b[0m\u001b[0;34m:\u001b[0m\u001b[0;34m\u001b[0m\u001b[0;34m\u001b[0m\u001b[0m\n\u001b[0;32m--> 915\u001b[0;31m         \u001b[0mresult\u001b[0m \u001b[0;34m=\u001b[0m \u001b[0mself\u001b[0m\u001b[0;34m.\u001b[0m\u001b[0m_call\u001b[0m\u001b[0;34m(\u001b[0m\u001b[0;34m*\u001b[0m\u001b[0margs\u001b[0m\u001b[0;34m,\u001b[0m \u001b[0;34m**\u001b[0m\u001b[0mkwds\u001b[0m\u001b[0;34m)\u001b[0m\u001b[0;34m\u001b[0m\u001b[0;34m\u001b[0m\u001b[0m\n\u001b[0m\u001b[1;32m    916\u001b[0m \u001b[0;34m\u001b[0m\u001b[0m\n\u001b[1;32m    917\u001b[0m       \u001b[0mnew_tracing_count\u001b[0m \u001b[0;34m=\u001b[0m \u001b[0mself\u001b[0m\u001b[0;34m.\u001b[0m\u001b[0mexperimental_get_tracing_count\u001b[0m\u001b[0;34m(\u001b[0m\u001b[0;34m)\u001b[0m\u001b[0;34m\u001b[0m\u001b[0;34m\u001b[0m\u001b[0m\n",
            "\u001b[0;32m/usr/local/lib/python3.8/dist-packages/tensorflow/python/eager/def_function.py\u001b[0m in \u001b[0;36m_call\u001b[0;34m(self, *args, **kwds)\u001b[0m\n\u001b[1;32m    945\u001b[0m       \u001b[0;31m# In this case we have created variables on the first call, so we run the\u001b[0m\u001b[0;34m\u001b[0m\u001b[0;34m\u001b[0m\u001b[0;34m\u001b[0m\u001b[0m\n\u001b[1;32m    946\u001b[0m       \u001b[0;31m# defunned version which is guaranteed to never create variables.\u001b[0m\u001b[0;34m\u001b[0m\u001b[0;34m\u001b[0m\u001b[0;34m\u001b[0m\u001b[0m\n\u001b[0;32m--> 947\u001b[0;31m       \u001b[0;32mreturn\u001b[0m \u001b[0mself\u001b[0m\u001b[0;34m.\u001b[0m\u001b[0m_stateless_fn\u001b[0m\u001b[0;34m(\u001b[0m\u001b[0;34m*\u001b[0m\u001b[0margs\u001b[0m\u001b[0;34m,\u001b[0m \u001b[0;34m**\u001b[0m\u001b[0mkwds\u001b[0m\u001b[0;34m)\u001b[0m  \u001b[0;31m# pylint: disable=not-callable\u001b[0m\u001b[0;34m\u001b[0m\u001b[0;34m\u001b[0m\u001b[0m\n\u001b[0m\u001b[1;32m    948\u001b[0m     \u001b[0;32melif\u001b[0m \u001b[0mself\u001b[0m\u001b[0;34m.\u001b[0m\u001b[0m_stateful_fn\u001b[0m \u001b[0;32mis\u001b[0m \u001b[0;32mnot\u001b[0m \u001b[0;32mNone\u001b[0m\u001b[0;34m:\u001b[0m\u001b[0;34m\u001b[0m\u001b[0;34m\u001b[0m\u001b[0m\n\u001b[1;32m    949\u001b[0m       \u001b[0;31m# Release the lock early so that multiple threads can perform the call\u001b[0m\u001b[0;34m\u001b[0m\u001b[0;34m\u001b[0m\u001b[0;34m\u001b[0m\u001b[0m\n",
            "\u001b[0;32m/usr/local/lib/python3.8/dist-packages/tensorflow/python/eager/function.py\u001b[0m in \u001b[0;36m__call__\u001b[0;34m(self, *args, **kwargs)\u001b[0m\n\u001b[1;32m   2451\u001b[0m       (graph_function,\n\u001b[1;32m   2452\u001b[0m        filtered_flat_args) = self._maybe_define_function(args, kwargs)\n\u001b[0;32m-> 2453\u001b[0;31m     return graph_function._call_flat(\n\u001b[0m\u001b[1;32m   2454\u001b[0m         filtered_flat_args, captured_inputs=graph_function.captured_inputs)  # pylint: disable=protected-access\n\u001b[1;32m   2455\u001b[0m \u001b[0;34m\u001b[0m\u001b[0m\n",
            "\u001b[0;32m/usr/local/lib/python3.8/dist-packages/tensorflow/python/eager/function.py\u001b[0m in \u001b[0;36m_call_flat\u001b[0;34m(self, args, captured_inputs, cancellation_manager)\u001b[0m\n\u001b[1;32m   1858\u001b[0m         and executing_eagerly):\n\u001b[1;32m   1859\u001b[0m       \u001b[0;31m# No tape is watching; skip to running the function.\u001b[0m\u001b[0;34m\u001b[0m\u001b[0;34m\u001b[0m\u001b[0;34m\u001b[0m\u001b[0m\n\u001b[0;32m-> 1860\u001b[0;31m       return self._build_call_outputs(self._inference_function.call(\n\u001b[0m\u001b[1;32m   1861\u001b[0m           ctx, args, cancellation_manager=cancellation_manager))\n\u001b[1;32m   1862\u001b[0m     forward_backward = self._select_forward_and_backward_functions(\n",
            "\u001b[0;32m/usr/local/lib/python3.8/dist-packages/tensorflow/python/eager/function.py\u001b[0m in \u001b[0;36mcall\u001b[0;34m(self, ctx, args, cancellation_manager)\u001b[0m\n\u001b[1;32m    495\u001b[0m       \u001b[0;32mwith\u001b[0m \u001b[0m_InterpolateFunctionError\u001b[0m\u001b[0;34m(\u001b[0m\u001b[0mself\u001b[0m\u001b[0;34m)\u001b[0m\u001b[0;34m:\u001b[0m\u001b[0;34m\u001b[0m\u001b[0;34m\u001b[0m\u001b[0m\n\u001b[1;32m    496\u001b[0m         \u001b[0;32mif\u001b[0m \u001b[0mcancellation_manager\u001b[0m \u001b[0;32mis\u001b[0m \u001b[0;32mNone\u001b[0m\u001b[0;34m:\u001b[0m\u001b[0;34m\u001b[0m\u001b[0;34m\u001b[0m\u001b[0m\n\u001b[0;32m--> 497\u001b[0;31m           outputs = execute.execute(\n\u001b[0m\u001b[1;32m    498\u001b[0m               \u001b[0mstr\u001b[0m\u001b[0;34m(\u001b[0m\u001b[0mself\u001b[0m\u001b[0;34m.\u001b[0m\u001b[0msignature\u001b[0m\u001b[0;34m.\u001b[0m\u001b[0mname\u001b[0m\u001b[0;34m)\u001b[0m\u001b[0;34m,\u001b[0m\u001b[0;34m\u001b[0m\u001b[0;34m\u001b[0m\u001b[0m\n\u001b[1;32m    499\u001b[0m               \u001b[0mnum_outputs\u001b[0m\u001b[0;34m=\u001b[0m\u001b[0mself\u001b[0m\u001b[0;34m.\u001b[0m\u001b[0m_num_outputs\u001b[0m\u001b[0;34m,\u001b[0m\u001b[0;34m\u001b[0m\u001b[0;34m\u001b[0m\u001b[0m\n",
            "\u001b[0;32m/usr/local/lib/python3.8/dist-packages/tensorflow/python/eager/execute.py\u001b[0m in \u001b[0;36mquick_execute\u001b[0;34m(op_name, num_outputs, inputs, attrs, ctx, name)\u001b[0m\n\u001b[1;32m     52\u001b[0m   \u001b[0;32mtry\u001b[0m\u001b[0;34m:\u001b[0m\u001b[0;34m\u001b[0m\u001b[0;34m\u001b[0m\u001b[0m\n\u001b[1;32m     53\u001b[0m     \u001b[0mctx\u001b[0m\u001b[0;34m.\u001b[0m\u001b[0mensure_initialized\u001b[0m\u001b[0;34m(\u001b[0m\u001b[0;34m)\u001b[0m\u001b[0;34m\u001b[0m\u001b[0;34m\u001b[0m\u001b[0m\n\u001b[0;32m---> 54\u001b[0;31m     tensors = pywrap_tfe.TFE_Py_Execute(ctx._handle, device_name, op_name,\n\u001b[0m\u001b[1;32m     55\u001b[0m                                         inputs, attrs, num_outputs)\n\u001b[1;32m     56\u001b[0m   \u001b[0;32mexcept\u001b[0m \u001b[0mcore\u001b[0m\u001b[0;34m.\u001b[0m\u001b[0m_NotOkStatusException\u001b[0m \u001b[0;32mas\u001b[0m \u001b[0me\u001b[0m\u001b[0;34m:\u001b[0m\u001b[0;34m\u001b[0m\u001b[0;34m\u001b[0m\u001b[0m\n",
            "\u001b[0;31mKeyboardInterrupt\u001b[0m: "
          ]
        }
      ]
    },
    {
      "cell_type": "code",
      "source": [
        "    model.compile(loss='sparse_categorical_crossentropy',\n",
        "              optimizer='rmsprop',\n",
        "              metrics=['acc'])\n",
        "    model.fit(data_y, Y[0], validation_split=0.3,\n",
        "          epochs=10, batch_size=50)"
      ],
      "metadata": {
        "colab": {
          "base_uri": "https://localhost:8080/",
          "height": 397
        },
        "id": "u6aInCgJP1VQ",
        "outputId": "362d79d6-6671-4278-d913-9283f0a3baf4"
      },
      "execution_count": null,
      "outputs": [
        {
          "output_type": "stream",
          "name": "stdout",
          "text": [
            "Epoch 1/10\n",
            "104/721 [===>..........................] - ETA: 38:33 - loss: 1.5228 - acc: 0.3869"
          ]
        },
        {
          "output_type": "error",
          "ename": "KeyboardInterrupt",
          "evalue": "ignored",
          "traceback": [
            "\u001b[0;31m---------------------------------------------------------------------------\u001b[0m",
            "\u001b[0;31mKeyboardInterrupt\u001b[0m                         Traceback (most recent call last)",
            "\u001b[0;32m<ipython-input-68-7d657ecfb400>\u001b[0m in \u001b[0;36m<module>\u001b[0;34m\u001b[0m\n\u001b[1;32m      2\u001b[0m           \u001b[0moptimizer\u001b[0m\u001b[0;34m=\u001b[0m\u001b[0;34m'rmsprop'\u001b[0m\u001b[0;34m,\u001b[0m\u001b[0;34m\u001b[0m\u001b[0;34m\u001b[0m\u001b[0m\n\u001b[1;32m      3\u001b[0m           metrics=['acc'])\n\u001b[0;32m----> 4\u001b[0;31m model.fit(data_y, Y[0], validation_split=0.3,\n\u001b[0m\u001b[1;32m      5\u001b[0m       epochs=10, batch_size=50)\n",
            "\u001b[0;32m/usr/local/lib/python3.8/dist-packages/keras/utils/traceback_utils.py\u001b[0m in \u001b[0;36merror_handler\u001b[0;34m(*args, **kwargs)\u001b[0m\n\u001b[1;32m     62\u001b[0m     \u001b[0mfiltered_tb\u001b[0m \u001b[0;34m=\u001b[0m \u001b[0;32mNone\u001b[0m\u001b[0;34m\u001b[0m\u001b[0;34m\u001b[0m\u001b[0m\n\u001b[1;32m     63\u001b[0m     \u001b[0;32mtry\u001b[0m\u001b[0;34m:\u001b[0m\u001b[0;34m\u001b[0m\u001b[0;34m\u001b[0m\u001b[0m\n\u001b[0;32m---> 64\u001b[0;31m       \u001b[0;32mreturn\u001b[0m \u001b[0mfn\u001b[0m\u001b[0;34m(\u001b[0m\u001b[0;34m*\u001b[0m\u001b[0margs\u001b[0m\u001b[0;34m,\u001b[0m \u001b[0;34m**\u001b[0m\u001b[0mkwargs\u001b[0m\u001b[0;34m)\u001b[0m\u001b[0;34m\u001b[0m\u001b[0;34m\u001b[0m\u001b[0m\n\u001b[0m\u001b[1;32m     65\u001b[0m     \u001b[0;32mexcept\u001b[0m \u001b[0mException\u001b[0m \u001b[0;32mas\u001b[0m \u001b[0me\u001b[0m\u001b[0;34m:\u001b[0m  \u001b[0;31m# pylint: disable=broad-except\u001b[0m\u001b[0;34m\u001b[0m\u001b[0;34m\u001b[0m\u001b[0m\n\u001b[1;32m     66\u001b[0m       \u001b[0mfiltered_tb\u001b[0m \u001b[0;34m=\u001b[0m \u001b[0m_process_traceback_frames\u001b[0m\u001b[0;34m(\u001b[0m\u001b[0me\u001b[0m\u001b[0;34m.\u001b[0m\u001b[0m__traceback__\u001b[0m\u001b[0;34m)\u001b[0m\u001b[0;34m\u001b[0m\u001b[0;34m\u001b[0m\u001b[0m\n",
            "\u001b[0;32m/usr/local/lib/python3.8/dist-packages/keras/engine/training.py\u001b[0m in \u001b[0;36mfit\u001b[0;34m(self, x, y, batch_size, epochs, verbose, callbacks, validation_split, validation_data, shuffle, class_weight, sample_weight, initial_epoch, steps_per_epoch, validation_steps, validation_batch_size, validation_freq, max_queue_size, workers, use_multiprocessing)\u001b[0m\n\u001b[1;32m   1407\u001b[0m                 _r=1):\n\u001b[1;32m   1408\u001b[0m               \u001b[0mcallbacks\u001b[0m\u001b[0;34m.\u001b[0m\u001b[0mon_train_batch_begin\u001b[0m\u001b[0;34m(\u001b[0m\u001b[0mstep\u001b[0m\u001b[0;34m)\u001b[0m\u001b[0;34m\u001b[0m\u001b[0;34m\u001b[0m\u001b[0m\n\u001b[0;32m-> 1409\u001b[0;31m               \u001b[0mtmp_logs\u001b[0m \u001b[0;34m=\u001b[0m \u001b[0mself\u001b[0m\u001b[0;34m.\u001b[0m\u001b[0mtrain_function\u001b[0m\u001b[0;34m(\u001b[0m\u001b[0miterator\u001b[0m\u001b[0;34m)\u001b[0m\u001b[0;34m\u001b[0m\u001b[0;34m\u001b[0m\u001b[0m\n\u001b[0m\u001b[1;32m   1410\u001b[0m               \u001b[0;32mif\u001b[0m \u001b[0mdata_handler\u001b[0m\u001b[0;34m.\u001b[0m\u001b[0mshould_sync\u001b[0m\u001b[0;34m:\u001b[0m\u001b[0;34m\u001b[0m\u001b[0;34m\u001b[0m\u001b[0m\n\u001b[1;32m   1411\u001b[0m                 \u001b[0mcontext\u001b[0m\u001b[0;34m.\u001b[0m\u001b[0masync_wait\u001b[0m\u001b[0;34m(\u001b[0m\u001b[0;34m)\u001b[0m\u001b[0;34m\u001b[0m\u001b[0;34m\u001b[0m\u001b[0m\n",
            "\u001b[0;32m/usr/local/lib/python3.8/dist-packages/tensorflow/python/util/traceback_utils.py\u001b[0m in \u001b[0;36merror_handler\u001b[0;34m(*args, **kwargs)\u001b[0m\n\u001b[1;32m    148\u001b[0m     \u001b[0mfiltered_tb\u001b[0m \u001b[0;34m=\u001b[0m \u001b[0;32mNone\u001b[0m\u001b[0;34m\u001b[0m\u001b[0;34m\u001b[0m\u001b[0m\n\u001b[1;32m    149\u001b[0m     \u001b[0;32mtry\u001b[0m\u001b[0;34m:\u001b[0m\u001b[0;34m\u001b[0m\u001b[0;34m\u001b[0m\u001b[0m\n\u001b[0;32m--> 150\u001b[0;31m       \u001b[0;32mreturn\u001b[0m \u001b[0mfn\u001b[0m\u001b[0;34m(\u001b[0m\u001b[0;34m*\u001b[0m\u001b[0margs\u001b[0m\u001b[0;34m,\u001b[0m \u001b[0;34m**\u001b[0m\u001b[0mkwargs\u001b[0m\u001b[0;34m)\u001b[0m\u001b[0;34m\u001b[0m\u001b[0;34m\u001b[0m\u001b[0m\n\u001b[0m\u001b[1;32m    151\u001b[0m     \u001b[0;32mexcept\u001b[0m \u001b[0mException\u001b[0m \u001b[0;32mas\u001b[0m \u001b[0me\u001b[0m\u001b[0;34m:\u001b[0m\u001b[0;34m\u001b[0m\u001b[0;34m\u001b[0m\u001b[0m\n\u001b[1;32m    152\u001b[0m       \u001b[0mfiltered_tb\u001b[0m \u001b[0;34m=\u001b[0m \u001b[0m_process_traceback_frames\u001b[0m\u001b[0;34m(\u001b[0m\u001b[0me\u001b[0m\u001b[0;34m.\u001b[0m\u001b[0m__traceback__\u001b[0m\u001b[0;34m)\u001b[0m\u001b[0;34m\u001b[0m\u001b[0;34m\u001b[0m\u001b[0m\n",
            "\u001b[0;32m/usr/local/lib/python3.8/dist-packages/tensorflow/python/eager/def_function.py\u001b[0m in \u001b[0;36m__call__\u001b[0;34m(self, *args, **kwds)\u001b[0m\n\u001b[1;32m    913\u001b[0m \u001b[0;34m\u001b[0m\u001b[0m\n\u001b[1;32m    914\u001b[0m       \u001b[0;32mwith\u001b[0m \u001b[0mOptionalXlaContext\u001b[0m\u001b[0;34m(\u001b[0m\u001b[0mself\u001b[0m\u001b[0;34m.\u001b[0m\u001b[0m_jit_compile\u001b[0m\u001b[0;34m)\u001b[0m\u001b[0;34m:\u001b[0m\u001b[0;34m\u001b[0m\u001b[0;34m\u001b[0m\u001b[0m\n\u001b[0;32m--> 915\u001b[0;31m         \u001b[0mresult\u001b[0m \u001b[0;34m=\u001b[0m \u001b[0mself\u001b[0m\u001b[0;34m.\u001b[0m\u001b[0m_call\u001b[0m\u001b[0;34m(\u001b[0m\u001b[0;34m*\u001b[0m\u001b[0margs\u001b[0m\u001b[0;34m,\u001b[0m \u001b[0;34m**\u001b[0m\u001b[0mkwds\u001b[0m\u001b[0;34m)\u001b[0m\u001b[0;34m\u001b[0m\u001b[0;34m\u001b[0m\u001b[0m\n\u001b[0m\u001b[1;32m    916\u001b[0m \u001b[0;34m\u001b[0m\u001b[0m\n\u001b[1;32m    917\u001b[0m       \u001b[0mnew_tracing_count\u001b[0m \u001b[0;34m=\u001b[0m \u001b[0mself\u001b[0m\u001b[0;34m.\u001b[0m\u001b[0mexperimental_get_tracing_count\u001b[0m\u001b[0;34m(\u001b[0m\u001b[0;34m)\u001b[0m\u001b[0;34m\u001b[0m\u001b[0;34m\u001b[0m\u001b[0m\n",
            "\u001b[0;32m/usr/local/lib/python3.8/dist-packages/tensorflow/python/eager/def_function.py\u001b[0m in \u001b[0;36m_call\u001b[0;34m(self, *args, **kwds)\u001b[0m\n\u001b[1;32m    945\u001b[0m       \u001b[0;31m# In this case we have created variables on the first call, so we run the\u001b[0m\u001b[0;34m\u001b[0m\u001b[0;34m\u001b[0m\u001b[0;34m\u001b[0m\u001b[0m\n\u001b[1;32m    946\u001b[0m       \u001b[0;31m# defunned version which is guaranteed to never create variables.\u001b[0m\u001b[0;34m\u001b[0m\u001b[0;34m\u001b[0m\u001b[0;34m\u001b[0m\u001b[0m\n\u001b[0;32m--> 947\u001b[0;31m       \u001b[0;32mreturn\u001b[0m \u001b[0mself\u001b[0m\u001b[0;34m.\u001b[0m\u001b[0m_stateless_fn\u001b[0m\u001b[0;34m(\u001b[0m\u001b[0;34m*\u001b[0m\u001b[0margs\u001b[0m\u001b[0;34m,\u001b[0m \u001b[0;34m**\u001b[0m\u001b[0mkwds\u001b[0m\u001b[0;34m)\u001b[0m  \u001b[0;31m# pylint: disable=not-callable\u001b[0m\u001b[0;34m\u001b[0m\u001b[0;34m\u001b[0m\u001b[0m\n\u001b[0m\u001b[1;32m    948\u001b[0m     \u001b[0;32melif\u001b[0m \u001b[0mself\u001b[0m\u001b[0;34m.\u001b[0m\u001b[0m_stateful_fn\u001b[0m \u001b[0;32mis\u001b[0m \u001b[0;32mnot\u001b[0m \u001b[0;32mNone\u001b[0m\u001b[0;34m:\u001b[0m\u001b[0;34m\u001b[0m\u001b[0;34m\u001b[0m\u001b[0m\n\u001b[1;32m    949\u001b[0m       \u001b[0;31m# Release the lock early so that multiple threads can perform the call\u001b[0m\u001b[0;34m\u001b[0m\u001b[0;34m\u001b[0m\u001b[0;34m\u001b[0m\u001b[0m\n",
            "\u001b[0;32m/usr/local/lib/python3.8/dist-packages/tensorflow/python/eager/function.py\u001b[0m in \u001b[0;36m__call__\u001b[0;34m(self, *args, **kwargs)\u001b[0m\n\u001b[1;32m   2451\u001b[0m       (graph_function,\n\u001b[1;32m   2452\u001b[0m        filtered_flat_args) = self._maybe_define_function(args, kwargs)\n\u001b[0;32m-> 2453\u001b[0;31m     return graph_function._call_flat(\n\u001b[0m\u001b[1;32m   2454\u001b[0m         filtered_flat_args, captured_inputs=graph_function.captured_inputs)  # pylint: disable=protected-access\n\u001b[1;32m   2455\u001b[0m \u001b[0;34m\u001b[0m\u001b[0m\n",
            "\u001b[0;32m/usr/local/lib/python3.8/dist-packages/tensorflow/python/eager/function.py\u001b[0m in \u001b[0;36m_call_flat\u001b[0;34m(self, args, captured_inputs, cancellation_manager)\u001b[0m\n\u001b[1;32m   1858\u001b[0m         and executing_eagerly):\n\u001b[1;32m   1859\u001b[0m       \u001b[0;31m# No tape is watching; skip to running the function.\u001b[0m\u001b[0;34m\u001b[0m\u001b[0;34m\u001b[0m\u001b[0;34m\u001b[0m\u001b[0m\n\u001b[0;32m-> 1860\u001b[0;31m       return self._build_call_outputs(self._inference_function.call(\n\u001b[0m\u001b[1;32m   1861\u001b[0m           ctx, args, cancellation_manager=cancellation_manager))\n\u001b[1;32m   1862\u001b[0m     forward_backward = self._select_forward_and_backward_functions(\n",
            "\u001b[0;32m/usr/local/lib/python3.8/dist-packages/tensorflow/python/eager/function.py\u001b[0m in \u001b[0;36mcall\u001b[0;34m(self, ctx, args, cancellation_manager)\u001b[0m\n\u001b[1;32m    495\u001b[0m       \u001b[0;32mwith\u001b[0m \u001b[0m_InterpolateFunctionError\u001b[0m\u001b[0;34m(\u001b[0m\u001b[0mself\u001b[0m\u001b[0;34m)\u001b[0m\u001b[0;34m:\u001b[0m\u001b[0;34m\u001b[0m\u001b[0;34m\u001b[0m\u001b[0m\n\u001b[1;32m    496\u001b[0m         \u001b[0;32mif\u001b[0m \u001b[0mcancellation_manager\u001b[0m \u001b[0;32mis\u001b[0m \u001b[0;32mNone\u001b[0m\u001b[0;34m:\u001b[0m\u001b[0;34m\u001b[0m\u001b[0;34m\u001b[0m\u001b[0m\n\u001b[0;32m--> 497\u001b[0;31m           outputs = execute.execute(\n\u001b[0m\u001b[1;32m    498\u001b[0m               \u001b[0mstr\u001b[0m\u001b[0;34m(\u001b[0m\u001b[0mself\u001b[0m\u001b[0;34m.\u001b[0m\u001b[0msignature\u001b[0m\u001b[0;34m.\u001b[0m\u001b[0mname\u001b[0m\u001b[0;34m)\u001b[0m\u001b[0;34m,\u001b[0m\u001b[0;34m\u001b[0m\u001b[0;34m\u001b[0m\u001b[0m\n\u001b[1;32m    499\u001b[0m               \u001b[0mnum_outputs\u001b[0m\u001b[0;34m=\u001b[0m\u001b[0mself\u001b[0m\u001b[0;34m.\u001b[0m\u001b[0m_num_outputs\u001b[0m\u001b[0;34m,\u001b[0m\u001b[0;34m\u001b[0m\u001b[0;34m\u001b[0m\u001b[0m\n",
            "\u001b[0;32m/usr/local/lib/python3.8/dist-packages/tensorflow/python/eager/execute.py\u001b[0m in \u001b[0;36mquick_execute\u001b[0;34m(op_name, num_outputs, inputs, attrs, ctx, name)\u001b[0m\n\u001b[1;32m     52\u001b[0m   \u001b[0;32mtry\u001b[0m\u001b[0;34m:\u001b[0m\u001b[0;34m\u001b[0m\u001b[0;34m\u001b[0m\u001b[0m\n\u001b[1;32m     53\u001b[0m     \u001b[0mctx\u001b[0m\u001b[0;34m.\u001b[0m\u001b[0mensure_initialized\u001b[0m\u001b[0;34m(\u001b[0m\u001b[0;34m)\u001b[0m\u001b[0;34m\u001b[0m\u001b[0;34m\u001b[0m\u001b[0m\n\u001b[0;32m---> 54\u001b[0;31m     tensors = pywrap_tfe.TFE_Py_Execute(ctx._handle, device_name, op_name,\n\u001b[0m\u001b[1;32m     55\u001b[0m                                         inputs, attrs, num_outputs)\n\u001b[1;32m     56\u001b[0m   \u001b[0;32mexcept\u001b[0m \u001b[0mcore\u001b[0m\u001b[0;34m.\u001b[0m\u001b[0m_NotOkStatusException\u001b[0m \u001b[0;32mas\u001b[0m \u001b[0me\u001b[0m\u001b[0;34m:\u001b[0m\u001b[0;34m\u001b[0m\u001b[0;34m\u001b[0m\u001b[0m\n",
            "\u001b[0;31mKeyboardInterrupt\u001b[0m: "
          ]
        }
      ]
    },
    {
      "cell_type": "code",
      "execution_count": null,
      "metadata": {
        "id": "jA62Hyqtc4W7",
        "colab": {
          "base_uri": "https://localhost:8080/",
          "height": 380
        },
        "outputId": "45ecfcdb-2c53-460c-b1a3-6956f52b25b1"
      },
      "outputs": [
        {
          "output_type": "error",
          "ename": "TypeError",
          "evalue": "ignored",
          "traceback": [
            "\u001b[0;31m---------------------------------------------------------------------------\u001b[0m",
            "\u001b[0;31mTypeError\u001b[0m                                 Traceback (most recent call last)",
            "\u001b[0;32m<ipython-input-56-eff213ac68f4>\u001b[0m in \u001b[0;36m<module>\u001b[0;34m\u001b[0m\n\u001b[1;32m      3\u001b[0m \u001b[0mmodel\u001b[0m\u001b[0;34m.\u001b[0m\u001b[0madd\u001b[0m\u001b[0;34m(\u001b[0m\u001b[0mEmbedding\u001b[0m\u001b[0;34m(\u001b[0m\u001b[0mAmharic_News_vocab\u001b[0m\u001b[0;34m,\u001b[0m\u001b[0;36m128\u001b[0m\u001b[0;34m,\u001b[0m \u001b[0minput_length\u001b[0m\u001b[0;34m=\u001b[0m\u001b[0mAmharic_News_length\u001b[0m\u001b[0;34m)\u001b[0m\u001b[0;34m)\u001b[0m\u001b[0;34m\u001b[0m\u001b[0;34m\u001b[0m\u001b[0m\n\u001b[1;32m      4\u001b[0m \u001b[0mmodel\u001b[0m\u001b[0;34m.\u001b[0m\u001b[0madd\u001b[0m\u001b[0;34m(\u001b[0m\u001b[0mGRU\u001b[0m\u001b[0;34m(\u001b[0m\u001b[0;36m128\u001b[0m\u001b[0;34m,\u001b[0m \u001b[0mreturn_sequences\u001b[0m\u001b[0;34m=\u001b[0m\u001b[0;32mTrue\u001b[0m\u001b[0;34m)\u001b[0m\u001b[0;34m)\u001b[0m\u001b[0;34m\u001b[0m\u001b[0;34m\u001b[0m\u001b[0m\n\u001b[0;32m----> 5\u001b[0;31m \u001b[0mmodel\u001b[0m\u001b[0;34m.\u001b[0m\u001b[0madd\u001b[0m\u001b[0;34m(\u001b[0m\u001b[0mAttentionWithContext\u001b[0m\u001b[0;34m(\u001b[0m\u001b[0;34m)\u001b[0m\u001b[0;34m)\u001b[0m\u001b[0;34m\u001b[0m\u001b[0;34m\u001b[0m\u001b[0m\n\u001b[0m\u001b[1;32m      6\u001b[0m \u001b[0;31m#model.add(Dropout(0.5))\u001b[0m\u001b[0;34m\u001b[0m\u001b[0;34m\u001b[0m\u001b[0;34m\u001b[0m\u001b[0m\n\u001b[1;32m      7\u001b[0m \u001b[0;31m#model.add(Dense(50, activation='relu'))\u001b[0m\u001b[0;34m\u001b[0m\u001b[0;34m\u001b[0m\u001b[0;34m\u001b[0m\u001b[0m\n",
            "\u001b[0;32m/usr/local/lib/python3.8/dist-packages/tensorflow/python/training/tracking/base.py\u001b[0m in \u001b[0;36m_method_wrapper\u001b[0;34m(self, *args, **kwargs)\u001b[0m\n\u001b[1;32m    585\u001b[0m     \u001b[0mself\u001b[0m\u001b[0;34m.\u001b[0m\u001b[0m_self_setattr_tracking\u001b[0m \u001b[0;34m=\u001b[0m \u001b[0;32mFalse\u001b[0m  \u001b[0;31m# pylint: disable=protected-access\u001b[0m\u001b[0;34m\u001b[0m\u001b[0;34m\u001b[0m\u001b[0m\n\u001b[1;32m    586\u001b[0m     \u001b[0;32mtry\u001b[0m\u001b[0;34m:\u001b[0m\u001b[0;34m\u001b[0m\u001b[0;34m\u001b[0m\u001b[0m\n\u001b[0;32m--> 587\u001b[0;31m       \u001b[0mresult\u001b[0m \u001b[0;34m=\u001b[0m \u001b[0mmethod\u001b[0m\u001b[0;34m(\u001b[0m\u001b[0mself\u001b[0m\u001b[0;34m,\u001b[0m \u001b[0;34m*\u001b[0m\u001b[0margs\u001b[0m\u001b[0;34m,\u001b[0m \u001b[0;34m**\u001b[0m\u001b[0mkwargs\u001b[0m\u001b[0;34m)\u001b[0m\u001b[0;34m\u001b[0m\u001b[0;34m\u001b[0m\u001b[0m\n\u001b[0m\u001b[1;32m    588\u001b[0m     \u001b[0;32mfinally\u001b[0m\u001b[0;34m:\u001b[0m\u001b[0;34m\u001b[0m\u001b[0;34m\u001b[0m\u001b[0m\n\u001b[1;32m    589\u001b[0m       \u001b[0mself\u001b[0m\u001b[0;34m.\u001b[0m\u001b[0m_self_setattr_tracking\u001b[0m \u001b[0;34m=\u001b[0m \u001b[0mprevious_value\u001b[0m  \u001b[0;31m# pylint: disable=protected-access\u001b[0m\u001b[0;34m\u001b[0m\u001b[0;34m\u001b[0m\u001b[0m\n",
            "\u001b[0;32m/usr/local/lib/python3.8/dist-packages/keras/utils/traceback_utils.py\u001b[0m in \u001b[0;36merror_handler\u001b[0;34m(*args, **kwargs)\u001b[0m\n\u001b[1;32m     65\u001b[0m     \u001b[0;32mexcept\u001b[0m \u001b[0mException\u001b[0m \u001b[0;32mas\u001b[0m \u001b[0me\u001b[0m\u001b[0;34m:\u001b[0m  \u001b[0;31m# pylint: disable=broad-except\u001b[0m\u001b[0;34m\u001b[0m\u001b[0;34m\u001b[0m\u001b[0m\n\u001b[1;32m     66\u001b[0m       \u001b[0mfiltered_tb\u001b[0m \u001b[0;34m=\u001b[0m \u001b[0m_process_traceback_frames\u001b[0m\u001b[0;34m(\u001b[0m\u001b[0me\u001b[0m\u001b[0;34m.\u001b[0m\u001b[0m__traceback__\u001b[0m\u001b[0;34m)\u001b[0m\u001b[0;34m\u001b[0m\u001b[0;34m\u001b[0m\u001b[0m\n\u001b[0;32m---> 67\u001b[0;31m       \u001b[0;32mraise\u001b[0m \u001b[0me\u001b[0m\u001b[0;34m.\u001b[0m\u001b[0mwith_traceback\u001b[0m\u001b[0;34m(\u001b[0m\u001b[0mfiltered_tb\u001b[0m\u001b[0;34m)\u001b[0m \u001b[0;32mfrom\u001b[0m \u001b[0;32mNone\u001b[0m\u001b[0;34m\u001b[0m\u001b[0;34m\u001b[0m\u001b[0m\n\u001b[0m\u001b[1;32m     68\u001b[0m     \u001b[0;32mfinally\u001b[0m\u001b[0;34m:\u001b[0m\u001b[0;34m\u001b[0m\u001b[0;34m\u001b[0m\u001b[0m\n\u001b[1;32m     69\u001b[0m       \u001b[0;32mdel\u001b[0m \u001b[0mfiltered_tb\u001b[0m\u001b[0;34m\u001b[0m\u001b[0;34m\u001b[0m\u001b[0m\n",
            "\u001b[0;32m<ipython-input-51-d9b2d4546e64>\u001b[0m in \u001b[0;36mbuild\u001b[0;34m(self, input_shape)\u001b[0m\n\u001b[1;32m     57\u001b[0m         \u001b[0;32massert\u001b[0m \u001b[0mlen\u001b[0m\u001b[0;34m(\u001b[0m\u001b[0minput_shape\u001b[0m\u001b[0;34m)\u001b[0m \u001b[0;34m==\u001b[0m \u001b[0;36m3\u001b[0m\u001b[0;34m\u001b[0m\u001b[0;34m\u001b[0m\u001b[0m\n\u001b[1;32m     58\u001b[0m \u001b[0;34m\u001b[0m\u001b[0m\n\u001b[0;32m---> 59\u001b[0;31m         self.W = self.add_weight((input_shape[-1], input_shape[-1],),\n\u001b[0m\u001b[1;32m     60\u001b[0m                                  \u001b[0minitializer\u001b[0m\u001b[0;34m=\u001b[0m\u001b[0mself\u001b[0m\u001b[0;34m.\u001b[0m\u001b[0minit\u001b[0m\u001b[0;34m,\u001b[0m\u001b[0;34m\u001b[0m\u001b[0;34m\u001b[0m\u001b[0m\n\u001b[1;32m     61\u001b[0m                                  \u001b[0mname\u001b[0m\u001b[0;34m=\u001b[0m\u001b[0;34m'{}_W'\u001b[0m\u001b[0;34m.\u001b[0m\u001b[0mformat\u001b[0m\u001b[0;34m(\u001b[0m\u001b[0mself\u001b[0m\u001b[0;34m.\u001b[0m\u001b[0mname\u001b[0m\u001b[0;34m)\u001b[0m\u001b[0;34m,\u001b[0m\u001b[0;34m\u001b[0m\u001b[0;34m\u001b[0m\u001b[0m\n",
            "\u001b[0;31mTypeError\u001b[0m: add_weight() got multiple values for argument 'name'"
          ]
        }
      ],
      "source": [
        "    model = Sequential()\n",
        "    #model.add(Embedding(input_dim=v, output_dim=300 , input_length=length-1, weights = [embed_matrix], trainable=False))\n",
        "    model.add(Embedding(Amharic_News_vocab,128, input_length=Amharic_News_length))\n",
        "    model.add(GRU(128, return_sequences=True))\n",
        "    model.add(AttentionWithContext())\n",
        "    #model.add(Dropout(0.5))\n",
        "    #model.add(Dense(50, activation='relu'))\n",
        "    model.add(Dense(6, activation='softmax'))\n",
        "    model.compile(loss='sparse_categorical_crossentropy',\n",
        "              optimizer='rmsprop',\n",
        "              metrics=['acc'])\n",
        "    model.fit(data_y, Y.reshape(Y.shape[0], Y.shape[1], 1), validation_split=0.3,\n",
        "          epochs=10, batch_size=50)\n",
        "    model.save('/content/drive/MyDrive/yirga/gruatt.h5')"
      ]
    },
    {
      "cell_type": "code",
      "execution_count": null,
      "metadata": {
        "colab": {
          "background_save": true
        },
        "id": "dIeOgDitc4uN",
        "outputId": "aac3b780-fa07-48eb-c3b6-8e9c1c34c908"
      },
      "outputs": [
        {
          "name": "stdout",
          "output_type": "stream",
          "text": [
            "Epoch 1/10\n",
            "721/721 [==============================] - 83s 73ms/step - loss: 0.9068 - acc: 0.6620 - val_loss: 0.5891 - val_acc: 0.7826\n",
            "Epoch 2/10\n",
            "721/721 [==============================] - 56s 78ms/step - loss: 0.4702 - acc: 0.8419 - val_loss: 0.6377 - val_acc: 0.7905\n",
            "Epoch 3/10\n",
            "721/721 [==============================] - 52s 72ms/step - loss: 0.3049 - acc: 0.9029 - val_loss: 0.4586 - val_acc: 0.8390\n",
            "Epoch 4/10\n",
            "721/721 [==============================] - 54s 75ms/step - loss: 0.2031 - acc: 0.9387 - val_loss: 0.4957 - val_acc: 0.8298\n",
            "Epoch 5/10\n",
            "721/721 [==============================] - 52s 72ms/step - loss: 0.1421 - acc: 0.9586 - val_loss: 0.5254 - val_acc: 0.8286\n",
            "Epoch 6/10\n",
            "721/721 [==============================] - 51s 71ms/step - loss: 0.1016 - acc: 0.9706 - val_loss: 0.6509 - val_acc: 0.8167\n",
            "Epoch 7/10\n",
            "721/721 [==============================] - 57s 79ms/step - loss: 0.0780 - acc: 0.9766 - val_loss: 0.7192 - val_acc: 0.8160\n",
            "Epoch 8/10\n",
            "721/721 [==============================] - 52s 72ms/step - loss: 0.0631 - acc: 0.9819 - val_loss: 0.7334 - val_acc: 0.8095\n",
            "Epoch 9/10\n",
            "721/721 [==============================] - 52s 72ms/step - loss: 0.0516 - acc: 0.9849 - val_loss: 0.9054 - val_acc: 0.8028\n",
            "Epoch 10/10\n",
            "721/721 [==============================] - 53s 74ms/step - loss: 0.0440 - acc: 0.9867 - val_loss: 0.8073 - val_acc: 0.7983\n"
          ]
        }
      ],
      "source": [
        "    model = Sequential()\n",
        "    #model.add(Embedding(input_dim=v, output_dim=300 , input_length=length-1, weights = [embed_matrix], trainable=False))\n",
        "    model.add(Embedding(Amharic_News_vocab,128, input_length=Amharic_News_length))\n",
        "    model.add(LSTM(128, return_sequences=True))\n",
        "    model.add(attention())\n",
        "    #model.add(Dropout(0.5))\n",
        "    #model.add(Dense(50, activation='relu'))\n",
        "    model.add(Dense(6, activation='softmax'))\n",
        "    model.compile(loss='sparse_categorical_crossentropy',\n",
        "              optimizer='rmsprop',\n",
        "              metrics=['acc'])\n",
        "    model.fit(data_y, Y.reshape(Y.shape[0], Y.shape[1], 1), validation_split=0.3,\n",
        "          epochs=10, batch_size=50)\n",
        "    model.save('/content/drive/MyDrive/yirga/lstatt.h5')"
      ]
    },
    {
      "cell_type": "code",
      "execution_count": null,
      "metadata": {
        "id": "mk55j_lzeQyz"
      },
      "outputs": [],
      "source": [
        "    model = Sequential()\n",
        "    #model.add(Embedding(input_dim=v, output_dim=300 , input_length=length-1, weights = [embed_matrix], trainable=False))\n",
        "    model.add(Embedding(Amharic_News_vocab,128, input_length=Amharic_News_length))\n",
        "    model.add(Bidirectional(LSTM(128, return_sequences=True)))\n",
        "    model.add(attention())\n",
        "    #model.add(Dropout(0.5))\n",
        "    #model.add(Dense(50, activation='relu'))\n",
        "    model.add(Dense(6, activation='softmax'))\n",
        "    model.compile(loss='sparse_categorical_crossentropy',\n",
        "              optimizer='rmsprop',\n",
        "              metrics=['acc'])\n",
        "    model.fit(data_y, Y.reshape(Y.shape[0], Y.shape[1], 1), validation_split=0.3,\n",
        "          epochs=10, batch_size=50)\n",
        "    model.save('/content/drive/MyDrive/yirga/Bilstmatt.h5')"
      ]
    },
    {
      "cell_type": "code",
      "execution_count": null,
      "metadata": {
        "id": "l0VpkgpeC_fV"
      },
      "outputs": [],
      "source": [
        "    model = Sequential()\n",
        "    #model.add(Embedding(input_dim=v, output_dim=300 , input_length=length-1, weights = [embed_matrix], trainable=False))\n",
        "    model.add(Embedding(Amharic_News_vocab,128, input_length=Amharic_News_length))\n",
        "    model.add(Bidirectional(GRU(128, return_sequences=True)))\n",
        "    model.add(attention())\n",
        "    #model.add(Dropout(0.5))\n",
        "    #model.add(Dense(50, activation='relu'))\n",
        "    model.add(Dense(6, activation='softmax'))\n",
        "    model.compile(loss='sparse_categorical_crossentropy',\n",
        "              optimizer='rmsprop',\n",
        "              metrics=['acc'])\n",
        "    model.fit(data_y, Y.reshape(Y.shape[0], Y.shape[1], 1), validation_split=0.3,\n",
        "          epochs=10, batch_size=50)\n",
        ""
      ]
    },
    {
      "cell_type": "code",
      "execution_count": null,
      "metadata": {
        "id": "eihoeeWpDliF"
      },
      "outputs": [],
      "source": [
        "model.compile(loss='sparse_categorical_crossentropy',\n",
        "              optimizer='rmsprop',\n",
        "              metrics=['acc'])\n",
        "model.fit(data_y, Y.reshape(Y.shape[0], Y.shape[1], 1), validation_split=0.3,\n",
        "          epochs=10, batch_size=50)"
      ]
    },
    {
      "cell_type": "code",
      "execution_count": null,
      "metadata": {
        "colab": {
          "base_uri": "https://localhost:8080/"
        },
        "id": "uqU8YeD6Drt4",
        "outputId": "a6028d68-c54a-4a70-c155-1e4fe9bbbb9d"
      },
      "outputs": [
        {
          "name": "stdout",
          "output_type": "stream",
          "text": [
            "Epoch 1/10\n",
            "721/721 [==============================] - 89s 119ms/step - loss: 0.8499 - acc: 0.6797 - val_loss: 0.5621 - val_acc: 0.7810\n",
            "Epoch 2/10\n",
            "721/721 [==============================] - 82s 113ms/step - loss: 0.4328 - acc: 0.8492 - val_loss: 0.4356 - val_acc: 0.8343\n",
            "Epoch 3/10\n",
            "721/721 [==============================] - 86s 119ms/step - loss: 0.2691 - acc: 0.9138 - val_loss: 0.4485 - val_acc: 0.8415\n",
            "Epoch 4/10\n",
            "721/721 [==============================] - 90s 125ms/step - loss: 0.1682 - acc: 0.9497 - val_loss: 0.5403 - val_acc: 0.8300\n",
            "Epoch 5/10\n",
            "721/721 [==============================] - 86s 120ms/step - loss: 0.1132 - acc: 0.9665 - val_loss: 0.6469 - val_acc: 0.8220\n",
            "Epoch 6/10\n",
            "721/721 [==============================] - 82s 113ms/step - loss: 0.0810 - acc: 0.9767 - val_loss: 0.6181 - val_acc: 0.8238\n",
            "Epoch 7/10\n",
            "721/721 [==============================] - 82s 114ms/step - loss: 0.0615 - acc: 0.9826 - val_loss: 0.6755 - val_acc: 0.8174\n",
            "Epoch 8/10\n",
            "721/721 [==============================] - 84s 116ms/step - loss: 0.0497 - acc: 0.9856 - val_loss: 0.7245 - val_acc: 0.8161\n",
            "Epoch 9/10\n",
            "721/721 [==============================] - 81s 113ms/step - loss: 0.0407 - acc: 0.9876 - val_loss: 0.7934 - val_acc: 0.8078\n",
            "Epoch 10/10\n",
            "721/721 [==============================] - 89s 124ms/step - loss: 0.0351 - acc: 0.9892 - val_loss: 0.7921 - val_acc: 0.8016\n"
          ]
        },
        {
          "data": {
            "text/plain": [
              "<keras.callbacks.History at 0x7f938e124f10>"
            ]
          },
          "execution_count": 177,
          "metadata": {},
          "output_type": "execute_result"
        }
      ],
      "source": [
        "model.fit(data_y, Y.reshape(Y.shape[0], Y.shape[1], 1), validation_split=0.3,\n",
        "          epochs=10, batch_size=50)"
      ]
    },
    {
      "cell_type": "code",
      "execution_count": null,
      "metadata": {
        "id": "WzGnuv7Fc41K"
      },
      "outputs": [],
      "source": []
    },
    {
      "cell_type": "code",
      "execution_count": null,
      "metadata": {
        "colab": {
          "base_uri": "https://localhost:8080/",
          "height": 551
        },
        "id": "GsmtjT-lR5a5",
        "outputId": "a264e6d5-079b-4ae6-fe3d-2fc2af7945fb"
      },
      "outputs": [
        {
          "data": {
            "image/png": "[encoded data removed]",
            "text/plain": [
              "<Figure size 1080x720 with 2 Axes>"
            ]
          },
          "metadata": {},
          "output_type": "display_data"
        }
      ],
      "source": [
        "plothisto(model,\"Bigruatt\")"
      ]
    },
    {
      "cell_type": "code",
      "execution_count": null,
      "metadata": {
        "colab": {
          "base_uri": "https://localhost:8080/",
          "height": 1000
        },
        "id": "duXeK5HLSe46",
        "outputId": "14348857-f135-4c99-9678-a206e95f0b31"
      },
      "outputs": [
        {
          "name": "stdout",
          "output_type": "stream",
          "text": [
            "2/2 [==============================] - 1s 44ms/step\n"
          ]
        },
        {
          "data": {
            "text/html": [
              "\n",
              "  <div id=\"df-4d57ef60-cfb5-4ed1-930d-5a8137c7d831\">\n",
              "    <div class=\"colab-df-container\">\n",
              "      <div>\n",
              "<style scoped>\n",
              "    .dataframe tbody tr th:only-of-type {\n",
              "        vertical-align: middle;\n",
              "    }\n",
              "\n",
              "    .dataframe tbody tr th {\n",
              "        vertical-align: top;\n",
              "    }\n",
              "\n",
              "    .dataframe thead th {\n",
              "        text-align: right;\n",
              "    }\n",
              "</style>\n",
              "<table border=\"1\" class=\"dataframe\">\n",
              "  <thead>\n",
              "    <tr style=\"text-align: right;\">\n",
              "      <th></th>\n",
              "      <th>Predicted</th>\n",
              "      <th>Actual</th>\n",
              "      <th>Status</th>\n",
              "    </tr>\n",
              "  </thead>\n",
              "  <tbody>\n",
              "    <tr>\n",
              "      <th>0</th>\n",
              "      <td>ፖለቲካ</td>\n",
              "      <td>ፖለቲካ</td>\n",
              "      <td>Correct</td>\n",
              "    </tr>\n",
              "    <tr>\n",
              "      <th>1</th>\n",
              "      <td>ሀገር አቀፍ ዜና</td>\n",
              "      <td>ሀገር አቀፍ ዜና</td>\n",
              "      <td>Correct</td>\n",
              "    </tr>\n",
              "    <tr>\n",
              "      <th>2</th>\n",
              "      <td>ሀገር አቀፍ ዜና</td>\n",
              "      <td>ሀገር አቀፍ ዜና</td>\n",
              "      <td>Correct</td>\n",
              "    </tr>\n",
              "    <tr>\n",
              "      <th>3</th>\n",
              "      <td>ስፖርት</td>\n",
              "      <td>ስፖርት</td>\n",
              "      <td>Correct</td>\n",
              "    </tr>\n",
              "    <tr>\n",
              "      <th>4</th>\n",
              "      <td>ሀገር አቀፍ ዜና</td>\n",
              "      <td>ሀገር አቀፍ ዜና</td>\n",
              "      <td>Correct</td>\n",
              "    </tr>\n",
              "    <tr>\n",
              "      <th>5</th>\n",
              "      <td>ፖለቲካ</td>\n",
              "      <td>ፖለቲካ</td>\n",
              "      <td>Correct</td>\n",
              "    </tr>\n",
              "    <tr>\n",
              "      <th>6</th>\n",
              "      <td>ስፖርት</td>\n",
              "      <td>ዓለም አቀፍ ዜና</td>\n",
              "      <td>InCorrect</td>\n",
              "    </tr>\n",
              "    <tr>\n",
              "      <th>7</th>\n",
              "      <td>ፖለቲካ</td>\n",
              "      <td>ፖለቲካ</td>\n",
              "      <td>Correct</td>\n",
              "    </tr>\n",
              "    <tr>\n",
              "      <th>8</th>\n",
              "      <td>ዓለም አቀፍ ዜና</td>\n",
              "      <td>ዓለም አቀፍ ዜና</td>\n",
              "      <td>Correct</td>\n",
              "    </tr>\n",
              "    <tr>\n",
              "      <th>9</th>\n",
              "      <td>ስፖርት</td>\n",
              "      <td>ስፖርት</td>\n",
              "      <td>Correct</td>\n",
              "    </tr>\n",
              "    <tr>\n",
              "      <th>10</th>\n",
              "      <td>ፖለቲካ</td>\n",
              "      <td>ፖለቲካ</td>\n",
              "      <td>Correct</td>\n",
              "    </tr>\n",
              "    <tr>\n",
              "      <th>11</th>\n",
              "      <td>ፖለቲካ</td>\n",
              "      <td>ፖለቲካ</td>\n",
              "      <td>Correct</td>\n",
              "    </tr>\n",
              "    <tr>\n",
              "      <th>12</th>\n",
              "      <td>ሀገር አቀፍ ዜና</td>\n",
              "      <td>ሀገር አቀፍ ዜና</td>\n",
              "      <td>Correct</td>\n",
              "    </tr>\n",
              "    <tr>\n",
              "      <th>13</th>\n",
              "      <td>ስፖርት</td>\n",
              "      <td>ስፖርት</td>\n",
              "      <td>Correct</td>\n",
              "    </tr>\n",
              "    <tr>\n",
              "      <th>14</th>\n",
              "      <td>ስፖርት</td>\n",
              "      <td>ስፖርት</td>\n",
              "      <td>Correct</td>\n",
              "    </tr>\n",
              "    <tr>\n",
              "      <th>15</th>\n",
              "      <td>ቢዝነስ</td>\n",
              "      <td>ቢዝነስ</td>\n",
              "      <td>Correct</td>\n",
              "    </tr>\n",
              "    <tr>\n",
              "      <th>16</th>\n",
              "      <td>ሀገር አቀፍ ዜና</td>\n",
              "      <td>ሀገር አቀፍ ዜና</td>\n",
              "      <td>Correct</td>\n",
              "    </tr>\n",
              "    <tr>\n",
              "      <th>17</th>\n",
              "      <td>ሀገር አቀፍ ዜና</td>\n",
              "      <td>ሀገር አቀፍ ዜና</td>\n",
              "      <td>Correct</td>\n",
              "    </tr>\n",
              "    <tr>\n",
              "      <th>18</th>\n",
              "      <td>ሀገር አቀፍ ዜና</td>\n",
              "      <td>ሀገር አቀፍ ዜና</td>\n",
              "      <td>Correct</td>\n",
              "    </tr>\n",
              "    <tr>\n",
              "      <th>19</th>\n",
              "      <td>ሀገር አቀፍ ዜና</td>\n",
              "      <td>ሀገር አቀፍ ዜና</td>\n",
              "      <td>Correct</td>\n",
              "    </tr>\n",
              "    <tr>\n",
              "      <th>20</th>\n",
              "      <td>ቢዝነስ</td>\n",
              "      <td>ቢዝነስ</td>\n",
              "      <td>Correct</td>\n",
              "    </tr>\n",
              "    <tr>\n",
              "      <th>21</th>\n",
              "      <td>ፖለቲካ</td>\n",
              "      <td>ፖለቲካ</td>\n",
              "      <td>Correct</td>\n",
              "    </tr>\n",
              "    <tr>\n",
              "      <th>22</th>\n",
              "      <td>ዓለም አቀፍ ዜና</td>\n",
              "      <td>ዓለም አቀፍ ዜና</td>\n",
              "      <td>Correct</td>\n",
              "    </tr>\n",
              "    <tr>\n",
              "      <th>23</th>\n",
              "      <td>ፖለቲካ</td>\n",
              "      <td>ፖለቲካ</td>\n",
              "      <td>Correct</td>\n",
              "    </tr>\n",
              "    <tr>\n",
              "      <th>24</th>\n",
              "      <td>ዓለም አቀፍ ዜና</td>\n",
              "      <td>ዓለም አቀፍ ዜና</td>\n",
              "      <td>Correct</td>\n",
              "    </tr>\n",
              "    <tr>\n",
              "      <th>25</th>\n",
              "      <td>ሀገር አቀፍ ዜና</td>\n",
              "      <td>ሀገር አቀፍ ዜና</td>\n",
              "      <td>Correct</td>\n",
              "    </tr>\n",
              "    <tr>\n",
              "      <th>26</th>\n",
              "      <td>ስፖርት</td>\n",
              "      <td>ስፖርት</td>\n",
              "      <td>Correct</td>\n",
              "    </tr>\n",
              "    <tr>\n",
              "      <th>27</th>\n",
              "      <td>ስፖርት</td>\n",
              "      <td>ስፖርት</td>\n",
              "      <td>Correct</td>\n",
              "    </tr>\n",
              "    <tr>\n",
              "      <th>28</th>\n",
              "      <td>ዓለም አቀፍ ዜና</td>\n",
              "      <td>ዓለም አቀፍ ዜና</td>\n",
              "      <td>Correct</td>\n",
              "    </tr>\n",
              "    <tr>\n",
              "      <th>29</th>\n",
              "      <td>ዓለም አቀፍ ዜና</td>\n",
              "      <td>ዓለም አቀፍ ዜና</td>\n",
              "      <td>Correct</td>\n",
              "    </tr>\n",
              "    <tr>\n",
              "      <th>30</th>\n",
              "      <td>ስፖርት</td>\n",
              "      <td>ስፖርት</td>\n",
              "      <td>Correct</td>\n",
              "    </tr>\n",
              "    <tr>\n",
              "      <th>31</th>\n",
              "      <td>ሀገር አቀፍ ዜና</td>\n",
              "      <td>ሀገር አቀፍ ዜና</td>\n",
              "      <td>Correct</td>\n",
              "    </tr>\n",
              "    <tr>\n",
              "      <th>32</th>\n",
              "      <td>ፖለቲካ</td>\n",
              "      <td>ፖለቲካ</td>\n",
              "      <td>Correct</td>\n",
              "    </tr>\n",
              "    <tr>\n",
              "      <th>33</th>\n",
              "      <td>ሀገር አቀፍ ዜና</td>\n",
              "      <td>ሀገር አቀፍ ዜና</td>\n",
              "      <td>Correct</td>\n",
              "    </tr>\n",
              "    <tr>\n",
              "      <th>34</th>\n",
              "      <td>ፖለቲካ</td>\n",
              "      <td>ፖለቲካ</td>\n",
              "      <td>Correct</td>\n",
              "    </tr>\n",
              "    <tr>\n",
              "      <th>35</th>\n",
              "      <td>ሀገር አቀፍ ዜና</td>\n",
              "      <td>ሀገር አቀፍ ዜና</td>\n",
              "      <td>Correct</td>\n",
              "    </tr>\n",
              "    <tr>\n",
              "      <th>36</th>\n",
              "      <td>ሀገር አቀፍ ዜና</td>\n",
              "      <td>ሀገር አቀፍ ዜና</td>\n",
              "      <td>Correct</td>\n",
              "    </tr>\n",
              "    <tr>\n",
              "      <th>37</th>\n",
              "      <td>ፖለቲካ</td>\n",
              "      <td>ፖለቲካ</td>\n",
              "      <td>Correct</td>\n",
              "    </tr>\n",
              "    <tr>\n",
              "      <th>38</th>\n",
              "      <td>ሀገር አቀፍ ዜና</td>\n",
              "      <td>ሀገር አቀፍ ዜና</td>\n",
              "      <td>Correct</td>\n",
              "    </tr>\n",
              "    <tr>\n",
              "      <th>39</th>\n",
              "      <td>ሀገር አቀፍ ዜና</td>\n",
              "      <td>ሀገር አቀፍ ዜና</td>\n",
              "      <td>Correct</td>\n",
              "    </tr>\n",
              "    <tr>\n",
              "      <th>40</th>\n",
              "      <td>ስፖርት</td>\n",
              "      <td>ስፖርት</td>\n",
              "      <td>Correct</td>\n",
              "    </tr>\n",
              "    <tr>\n",
              "      <th>41</th>\n",
              "      <td>ስፖርት</td>\n",
              "      <td>ስፖርት</td>\n",
              "      <td>Correct</td>\n",
              "    </tr>\n",
              "    <tr>\n",
              "      <th>42</th>\n",
              "      <td>ሀገር አቀፍ ዜና</td>\n",
              "      <td>ሀገር አቀፍ ዜና</td>\n",
              "      <td>Correct</td>\n",
              "    </tr>\n",
              "    <tr>\n",
              "      <th>43</th>\n",
              "      <td>ሀገር አቀፍ ዜና</td>\n",
              "      <td>ሀገር አቀፍ ዜና</td>\n",
              "      <td>Correct</td>\n",
              "    </tr>\n",
              "    <tr>\n",
              "      <th>44</th>\n",
              "      <td>ሀገር አቀፍ ዜና</td>\n",
              "      <td>ሀገር አቀፍ ዜና</td>\n",
              "      <td>Correct</td>\n",
              "    </tr>\n",
              "    <tr>\n",
              "      <th>45</th>\n",
              "      <td>መዝናኛ</td>\n",
              "      <td>መዝናኛ</td>\n",
              "      <td>Correct</td>\n",
              "    </tr>\n",
              "    <tr>\n",
              "      <th>46</th>\n",
              "      <td>ሀገር አቀፍ ዜና</td>\n",
              "      <td>ሀገር አቀፍ ዜና</td>\n",
              "      <td>Correct</td>\n",
              "    </tr>\n",
              "    <tr>\n",
              "      <th>47</th>\n",
              "      <td>ዓለም አቀፍ ዜና</td>\n",
              "      <td>ዓለም አቀፍ ዜና</td>\n",
              "      <td>Correct</td>\n",
              "    </tr>\n",
              "    <tr>\n",
              "      <th>48</th>\n",
              "      <td>ሀገር አቀፍ ዜና</td>\n",
              "      <td>ሀገር አቀፍ ዜና</td>\n",
              "      <td>Correct</td>\n",
              "    </tr>\n",
              "    <tr>\n",
              "      <th>49</th>\n",
              "      <td>ስፖርት</td>\n",
              "      <td>ስፖርት</td>\n",
              "      <td>Correct</td>\n",
              "    </tr>\n",
              "  </tbody>\n",
              "</table>\n",
              "</div>\n",
              "      <button class=\"colab-df-convert\" onclick=\"convertToInteractive('df-4d57ef60-cfb5-4ed1-930d-5a8137c7d831')\"\n",
              "              title=\"Convert this dataframe to an interactive table.\"\n",
              "              style=\"display:none;\">\n",
              "        \n",
              "  <svg xmlns=\"http://www.w3.org/2000/svg\" height=\"24px\"viewBox=\"0 0 24 24\"\n",
              "       width=\"24px\">\n",
              "    <path d=\"M0 0h24v24H0V0z\" fill=\"none\"/>\n",
              "    <path d=\"M18.56 5.44l.94 2.06.94-2.06 2.06-.94-2.06-.94-.94-2.06-.94 2.06-2.06.94zm-11 1L8.5 8.5l.94-2.06 2.06-.94-2.06-.94L8.5 2.5l-.94 2.06-2.06.94zm10 10l.94 2.06.94-2.06 2.06-.94-2.06-.94-.94-2.06-.94 2.06-2.06.94z\"/><path d=\"M17.41 7.96l-1.37-1.37c-.4-.4-.92-.59-1.43-.59-.52 0-1.04.2-1.43.59L10.3 9.45l-7.72 7.72c-.78.78-.78 2.05 0 2.83L4 21.41c.39.39.9.59 1.41.59.51 0 1.02-.2 1.41-.59l7.78-7.78 2.81-2.81c.8-.78.8-2.07 0-2.86zM5.41 20L4 18.59l7.72-7.72 1.47 1.35L5.41 20z\"/>\n",
              "  </svg>\n",
              "      </button>\n",
              "      \n",
              "  <style>\n",
              "    .colab-df-container {\n",
              "      display:flex;\n",
              "      flex-wrap:wrap;\n",
              "      gap: 12px;\n",
              "    }\n",
              "\n",
              "    .colab-df-convert {\n",
              "      background-color: #E8F0FE;\n",
              "      border: none;\n",
              "      border-radius: 50%;\n",
              "      cursor: pointer;\n",
              "      display: none;\n",
              "      fill: #1967D2;\n",
              "      height: 32px;\n",
              "      padding: 0 0 0 0;\n",
              "      width: 32px;\n",
              "    }\n",
              "\n",
              "    .colab-df-convert:hover {\n",
              "      background-color: #E2EBFA;\n",
              "      box-shadow: 0px 1px 2px rgba(60, 64, 67, 0.3), 0px 1px 3px 1px rgba(60, 64, 67, 0.15);\n",
              "      fill: #174EA6;\n",
              "    }\n",
              "\n",
              "    [theme=dark] .colab-df-convert {\n",
              "      background-color: #3B4455;\n",
              "      fill: #D2E3FC;\n",
              "    }\n",
              "\n",
              "    [theme=dark] .colab-df-convert:hover {\n",
              "      background-color: #434B5C;\n",
              "      box-shadow: 0px 1px 3px 1px rgba(0, 0, 0, 0.15);\n",
              "      filter: drop-shadow(0px 1px 2px rgba(0, 0, 0, 0.3));\n",
              "      fill: #FFFFFF;\n",
              "    }\n",
              "  </style>\n",
              "\n",
              "      <script>\n",
              "        const buttonEl =\n",
              "          document.querySelector('#df-4d57ef60-cfb5-4ed1-930d-5a8137c7d831 button.colab-df-convert');\n",
              "        buttonEl.style.display =\n",
              "          google.colab.kernel.accessAllowed ? 'block' : 'none';\n",
              "\n",
              "        async function convertToInteractive(key) {\n",
              "          const element = document.querySelector('#df-4d57ef60-cfb5-4ed1-930d-5a8137c7d831');\n",
              "          const dataTable =\n",
              "            await google.colab.kernel.invokeFunction('convertToInteractive',\n",
              "                                                     [key], {});\n",
              "          if (!dataTable) return;\n",
              "\n",
              "          const docLinkHtml = 'Like what you see? Visit the ' +\n",
              "            '<a target=\"_blank\" href=https://colab.research.google.com/notebooks/data_table.ipynb>data table notebook</a>'\n",
              "            + ' to learn more about interactive tables.';\n",
              "          element.innerHTML = '';\n",
              "          dataTable['output_type'] = 'display_data';\n",
              "          await google.colab.output.renderOutput(dataTable, element);\n",
              "          const docLink = document.createElement('div');\n",
              "          docLink.innerHTML = docLinkHtml;\n",
              "          element.appendChild(docLink);\n",
              "        }\n",
              "      </script>\n",
              "    </div>\n",
              "  </div>\n",
              "  "
            ],
            "text/plain": [
              "     Predicted      Actual     Status\n",
              "0         ፖለቲካ        ፖለቲካ    Correct\n",
              "1   ሀገር አቀፍ ዜና  ሀገር አቀፍ ዜና    Correct\n",
              "2   ሀገር አቀፍ ዜና  ሀገር አቀፍ ዜና    Correct\n",
              "3         ስፖርት        ስፖርት    Correct\n",
              "4   ሀገር አቀፍ ዜና  ሀገር አቀፍ ዜና    Correct\n",
              "5         ፖለቲካ        ፖለቲካ    Correct\n",
              "6         ስፖርት  ዓለም አቀፍ ዜና  InCorrect\n",
              "7         ፖለቲካ        ፖለቲካ    Correct\n",
              "8   ዓለም አቀፍ ዜና  ዓለም አቀፍ ዜና    Correct\n",
              "9         ስፖርት        ስፖርት    Correct\n",
              "10        ፖለቲካ        ፖለቲካ    Correct\n",
              "11        ፖለቲካ        ፖለቲካ    Correct\n",
              "12  ሀገር አቀፍ ዜና  ሀገር አቀፍ ዜና    Correct\n",
              "13        ስፖርት        ስፖርት    Correct\n",
              "14        ስፖርት        ስፖርት    Correct\n",
              "15        ቢዝነስ        ቢዝነስ    Correct\n",
              "16  ሀገር አቀፍ ዜና  ሀገር አቀፍ ዜና    Correct\n",
              "17  ሀገር አቀፍ ዜና  ሀገር አቀፍ ዜና    Correct\n",
              "18  ሀገር አቀፍ ዜና  ሀገር አቀፍ ዜና    Correct\n",
              "19  ሀገር አቀፍ ዜና  ሀገር አቀፍ ዜና    Correct\n",
              "20        ቢዝነስ        ቢዝነስ    Correct\n",
              "21        ፖለቲካ        ፖለቲካ    Correct\n",
              "22  ዓለም አቀፍ ዜና  ዓለም አቀፍ ዜና    Correct\n",
              "23        ፖለቲካ        ፖለቲካ    Correct\n",
              "24  ዓለም አቀፍ ዜና  ዓለም አቀፍ ዜና    Correct\n",
              "25  ሀገር አቀፍ ዜና  ሀገር አቀፍ ዜና    Correct\n",
              "26        ስፖርት        ስፖርት    Correct\n",
              "27        ስፖርት        ስፖርት    Correct\n",
              "28  ዓለም አቀፍ ዜና  ዓለም አቀፍ ዜና    Correct\n",
              "29  ዓለም አቀፍ ዜና  ዓለም አቀፍ ዜና    Correct\n",
              "30        ስፖርት        ስፖርት    Correct\n",
              "31  ሀገር አቀፍ ዜና  ሀገር አቀፍ ዜና    Correct\n",
              "32        ፖለቲካ        ፖለቲካ    Correct\n",
              "33  ሀገር አቀፍ ዜና  ሀገር አቀፍ ዜና    Correct\n",
              "34        ፖለቲካ        ፖለቲካ    Correct\n",
              "35  ሀገር አቀፍ ዜና  ሀገር አቀፍ ዜና    Correct\n",
              "36  ሀገር አቀፍ ዜና  ሀገር አቀፍ ዜና    Correct\n",
              "37        ፖለቲካ        ፖለቲካ    Correct\n",
              "38  ሀገር አቀፍ ዜና  ሀገር አቀፍ ዜና    Correct\n",
              "39  ሀገር አቀፍ ዜና  ሀገር አቀፍ ዜና    Correct\n",
              "40        ስፖርት        ስፖርት    Correct\n",
              "41        ስፖርት        ስፖርት    Correct\n",
              "42  ሀገር አቀፍ ዜና  ሀገር አቀፍ ዜና    Correct\n",
              "43  ሀገር አቀፍ ዜና  ሀገር አቀፍ ዜና    Correct\n",
              "44  ሀገር አቀፍ ዜና  ሀገር አቀፍ ዜና    Correct\n",
              "45        መዝናኛ        መዝናኛ    Correct\n",
              "46  ሀገር አቀፍ ዜና  ሀገር አቀፍ ዜና    Correct\n",
              "47  ዓለም አቀፍ ዜና  ዓለም አቀፍ ዜና    Correct\n",
              "48  ሀገር አቀፍ ዜና  ሀገር አቀፍ ዜና    Correct\n",
              "49        ስፖርት        ስፖርት    Correct"
            ]
          },
          "execution_count": 180,
          "metadata": {},
          "output_type": "execute_result"
        }
      ],
      "source": [
        "Categories = {0:'መዝናኛ', 1:'ዓለም አቀፍ ዜና', 2:'ቢዝነስ', 3:'ፖለቲካ', 4:'ሀገር አቀፍ ዜና', 5:'ስፖርት'}\n",
        "#Categories={1: 'ፖለቲካ', 2: 'ሀገር አቀፍ ዜና', 3: 'ስፖርት', 4: 'ዓለም አቀፍ ዜና', 5: 'ቢዝነስ', 6: 'መዝናኛ'}\n",
        "No_of_Samples = 50\n",
        "Results = model.predict(data_y[:No_of_Samples])\n",
        "Predictions=[]\n",
        "for i in range(No_of_Samples):\n",
        "    k=[]\n",
        "    b=Categories.get(Results.argmax(axis=1)[i])\n",
        "    a=cat[:50][i]\n",
        "    k.append( Categories.get(Results.argmax(axis=1)[i]))\n",
        "    k.append(cat[:50][i])\n",
        "    if(k[0]==k[1]):\n",
        "        k.append('Correct')\n",
        "    else:\n",
        "        k.append('InCorrect')\n",
        "    Predictions.append(k.copy())\n",
        "df = pd.DataFrame(Predictions,columns=['Predicted','Actual','Status'])\n",
        "df"
      ]
    },
    {
      "cell_type": "code",
      "execution_count": null,
      "metadata": {
        "id": "CfzFwfHMSEVC"
      },
      "outputs": [],
      "source": [
        "model.save('/content/drive/MyDrive/yirga/Bigruatt.h5')"
      ]
    },
    {
      "cell_type": "code",
      "execution_count": null,
      "metadata": {
        "colab": {
          "base_uri": "https://localhost:8080/"
        },
        "id": "ZdCRntZspcLv",
        "outputId": "d88d58f3-cfe6-4357-f46b-c99bb4182189"
      },
      "outputs": [
        {
          "name": "stdout",
          "output_type": "stream",
          "text": [
            "model fitting - Bidirectional LSTM\n",
            "Model: \"model_5\"\n",
            "_________________________________________________________________\n",
            " Layer (type)                Output Shape              Param #   \n",
            "=================================================================\n",
            " input_15 (InputLayer)       [(None, 891)]             0         \n",
            "                                                                 \n",
            " embedding_5 (Embedding)     (None, 891, 128)          94461312  \n",
            "                                                                 \n",
            " bidirectional_11 (Bidirecti  (None, 200)              183200    \n",
            " onal)                                                           \n",
            "                                                                 \n",
            " dense_5 (Dense)             (None, 6)                 1206      \n",
            "                                                                 \n",
            "=================================================================\n",
            "Total params: 94,645,718\n",
            "Trainable params: 94,645,718\n",
            "Non-trainable params: 0\n",
            "_________________________________________________________________\n",
            "Epoch 1/10\n",
            "721/721 [==============================] - 80s 105ms/step - loss: 0.7847 - acc: 0.7099 - val_loss: 0.5593 - val_acc: 0.7946\n",
            "Epoch 2/10\n",
            "721/721 [==============================] - 81s 112ms/step - loss: 0.4336 - acc: 0.8524 - val_loss: 0.4867 - val_acc: 0.8219\n",
            "Epoch 3/10\n",
            "721/721 [==============================] - 77s 107ms/step - loss: 0.3022 - acc: 0.9033 - val_loss: 0.5017 - val_acc: 0.8250\n",
            "Epoch 4/10\n",
            "721/721 [==============================] - 85s 118ms/step - loss: 0.2106 - acc: 0.9360 - val_loss: 0.5973 - val_acc: 0.8082\n",
            "Epoch 5/10\n",
            "721/721 [==============================] - 77s 107ms/step - loss: 0.1479 - acc: 0.9575 - val_loss: 0.6049 - val_acc: 0.8117\n",
            "Epoch 6/10\n",
            "721/721 [==============================] - 77s 106ms/step - loss: 0.1064 - acc: 0.9703 - val_loss: 0.7058 - val_acc: 0.8056\n",
            "Epoch 7/10\n",
            "721/721 [==============================] - 74s 103ms/step - loss: 0.0803 - acc: 0.9777 - val_loss: 0.7423 - val_acc: 0.7970\n",
            "Epoch 8/10\n",
            "721/721 [==============================] - 76s 105ms/step - loss: 0.0634 - acc: 0.9831 - val_loss: 1.0316 - val_acc: 0.7830\n",
            "Epoch 9/10\n",
            "721/721 [==============================] - 83s 115ms/step - loss: 0.0519 - acc: 0.9858 - val_loss: 0.7787 - val_acc: 0.7886\n",
            "Epoch 10/10\n",
            "721/721 [==============================] - 75s 104ms/step - loss: 0.0458 - acc: 0.9873 - val_loss: 0.8440 - val_acc: 0.7847\n"
          ]
        },
        {
          "data": {
            "text/plain": [
              "<keras.callbacks.History at 0x7f93856f9130>"
            ]
          },
          "execution_count": 109,
          "metadata": {},
          "output_type": "execute_result"
        }
      ],
      "source": [
        "embedding_layer = Embedding(Amharic_News_vocab ,\n",
        "                            128,\n",
        "                            input_length=Amharic_News_length)\n",
        "\n",
        "sequence_input = Input(shape=(Amharic_News_length,), dtype='int32')\n",
        "embedded_sequences = embedding_layer(sequence_input)\n",
        "l_lstm = Bidirectional(LSTM(100))(embedded_sequences)\n",
        "preds = Dense(6, activation='softmax')(l_lstm)\n",
        "model = Model(sequence_input, preds)\n",
        "model.compile(loss='sparse_categorical_crossentropy',\n",
        "              optimizer='rmsprop',\n",
        "              metrics=['acc'])\n",
        "\n",
        "print(\"model fitting - Bidirectional LSTM\")\n",
        "model.summary()\n",
        "model.fit(data_y, Y, validation_split=0.3,\n",
        "          epochs=10, batch_size=50)"
      ]
    },
    {
      "cell_type": "code",
      "execution_count": null,
      "metadata": {
        "id": "Z6ULDcAdw2fw"
      },
      "outputs": [],
      "source": [
        "model.save('/content/drive/MyDrive/yirga/BILSTM.h5')"
      ]
    },
    {
      "cell_type": "code",
      "execution_count": null,
      "metadata": {
        "id": "x3GGaamfc6Li"
      },
      "outputs": [],
      "source": [
        "def plothisto(history,name):\n",
        "\n",
        "    fig, ax = plt.subplots(nrows=1,ncols=2,figsize=(15,10))\n",
        "\n",
        "    ax[0].plot(history.history.history['acc'],'red')\n",
        "    ax[0].plot(history.history.history['val_acc'],'blue')\n",
        "    ax[0].legend(['train accuracy','validation accuracy'])\n",
        "    ax[0].set_title(name+'model accuracy')\n",
        "\n",
        "    ax[0].set_ylabel('model accuracy')\n",
        "    ax[0].set_xlabel('epoch')\n",
        "    ax[1].plot(history.history.history['loss'])\n",
        "    ax[1].plot(history.history.history['val_loss'])\n",
        "    ax[1].legend(['train loss','validation loss'])\n",
        "    ax[1].set_title(name+'model loss')\n",
        "\n",
        "    ax[1].set_ylabel('model loss')\n",
        "    ax[1].set_xlabel('epoch')\n",
        "    fig.tight_layout(pad=10.0)\n",
        "\n",
        "    plt.show()"
      ]
    },
    {
      "cell_type": "code",
      "execution_count": null,
      "metadata": {
        "colab": {
          "base_uri": "https://localhost:8080/",
          "height": 551
        },
        "id": "e9b5x4Owv4C5",
        "outputId": "a83b90cf-aa0d-423d-89e3-9cf64af019be"
      },
      "outputs": [
        {
          "data": {
            "image/png": "[encoded data removed]",
            "text/plain": [
              "<Figure size 1080x720 with 2 Axes>"
            ]
          },
          "metadata": {},
          "output_type": "display_data"
        }
      ],
      "source": [
        "plothisto(model,\"BILSTM\")"
      ]
    },
    {
      "cell_type": "code",
      "execution_count": null,
      "metadata": {
        "colab": {
          "base_uri": "https://localhost:8080/",
          "height": 1000
        },
        "id": "DN5tPA3hxE2K",
        "outputId": "91b4d676-c5c8-460c-bef2-b11d4c9ff856"
      },
      "outputs": [
        {
          "name": "stdout",
          "output_type": "stream",
          "text": [
            "2/2 [==============================] - 1s 54ms/step\n"
          ]
        },
        {
          "data": {
            "text/html": [
              "\n",
              "  <div id=\"df-13bce8e1-c8df-4e74-8d31-5d22f0a3efa0\">\n",
              "    <div class=\"colab-df-container\">\n",
              "      <div>\n",
              "<style scoped>\n",
              "    .dataframe tbody tr th:only-of-type {\n",
              "        vertical-align: middle;\n",
              "    }\n",
              "\n",
              "    .dataframe tbody tr th {\n",
              "        vertical-align: top;\n",
              "    }\n",
              "\n",
              "    .dataframe thead th {\n",
              "        text-align: right;\n",
              "    }\n",
              "</style>\n",
              "<table border=\"1\" class=\"dataframe\">\n",
              "  <thead>\n",
              "    <tr style=\"text-align: right;\">\n",
              "      <th></th>\n",
              "      <th>Predicted</th>\n",
              "      <th>Actual</th>\n",
              "      <th>Status</th>\n",
              "    </tr>\n",
              "  </thead>\n",
              "  <tbody>\n",
              "    <tr>\n",
              "      <th>0</th>\n",
              "      <td>ፖለቲካ</td>\n",
              "      <td>ፖለቲካ</td>\n",
              "      <td>Correct</td>\n",
              "    </tr>\n",
              "    <tr>\n",
              "      <th>1</th>\n",
              "      <td>ሀገር አቀፍ ዜና</td>\n",
              "      <td>ሀገር አቀፍ ዜና</td>\n",
              "      <td>Correct</td>\n",
              "    </tr>\n",
              "    <tr>\n",
              "      <th>2</th>\n",
              "      <td>ሀገር አቀፍ ዜና</td>\n",
              "      <td>ሀገር አቀፍ ዜና</td>\n",
              "      <td>Correct</td>\n",
              "    </tr>\n",
              "    <tr>\n",
              "      <th>3</th>\n",
              "      <td>ስፖርት</td>\n",
              "      <td>ስፖርት</td>\n",
              "      <td>Correct</td>\n",
              "    </tr>\n",
              "    <tr>\n",
              "      <th>4</th>\n",
              "      <td>ሀገር አቀፍ ዜና</td>\n",
              "      <td>ሀገር አቀፍ ዜና</td>\n",
              "      <td>Correct</td>\n",
              "    </tr>\n",
              "    <tr>\n",
              "      <th>5</th>\n",
              "      <td>ፖለቲካ</td>\n",
              "      <td>ፖለቲካ</td>\n",
              "      <td>Correct</td>\n",
              "    </tr>\n",
              "    <tr>\n",
              "      <th>6</th>\n",
              "      <td>ስፖርት</td>\n",
              "      <td>ዓለም አቀፍ ዜና</td>\n",
              "      <td>InCorrect</td>\n",
              "    </tr>\n",
              "    <tr>\n",
              "      <th>7</th>\n",
              "      <td>ፖለቲካ</td>\n",
              "      <td>ፖለቲካ</td>\n",
              "      <td>Correct</td>\n",
              "    </tr>\n",
              "    <tr>\n",
              "      <th>8</th>\n",
              "      <td>ዓለም አቀፍ ዜና</td>\n",
              "      <td>ዓለም አቀፍ ዜና</td>\n",
              "      <td>Correct</td>\n",
              "    </tr>\n",
              "    <tr>\n",
              "      <th>9</th>\n",
              "      <td>ስፖርት</td>\n",
              "      <td>ስፖርት</td>\n",
              "      <td>Correct</td>\n",
              "    </tr>\n",
              "    <tr>\n",
              "      <th>10</th>\n",
              "      <td>ፖለቲካ</td>\n",
              "      <td>ፖለቲካ</td>\n",
              "      <td>Correct</td>\n",
              "    </tr>\n",
              "    <tr>\n",
              "      <th>11</th>\n",
              "      <td>ፖለቲካ</td>\n",
              "      <td>ፖለቲካ</td>\n",
              "      <td>Correct</td>\n",
              "    </tr>\n",
              "    <tr>\n",
              "      <th>12</th>\n",
              "      <td>ሀገር አቀፍ ዜና</td>\n",
              "      <td>ሀገር አቀፍ ዜና</td>\n",
              "      <td>Correct</td>\n",
              "    </tr>\n",
              "    <tr>\n",
              "      <th>13</th>\n",
              "      <td>ስፖርት</td>\n",
              "      <td>ስፖርት</td>\n",
              "      <td>Correct</td>\n",
              "    </tr>\n",
              "    <tr>\n",
              "      <th>14</th>\n",
              "      <td>ስፖርት</td>\n",
              "      <td>ስፖርት</td>\n",
              "      <td>Correct</td>\n",
              "    </tr>\n",
              "    <tr>\n",
              "      <th>15</th>\n",
              "      <td>ቢዝነስ</td>\n",
              "      <td>ቢዝነስ</td>\n",
              "      <td>Correct</td>\n",
              "    </tr>\n",
              "    <tr>\n",
              "      <th>16</th>\n",
              "      <td>ሀገር አቀፍ ዜና</td>\n",
              "      <td>ሀገር አቀፍ ዜና</td>\n",
              "      <td>Correct</td>\n",
              "    </tr>\n",
              "    <tr>\n",
              "      <th>17</th>\n",
              "      <td>ሀገር አቀፍ ዜና</td>\n",
              "      <td>ሀገር አቀፍ ዜና</td>\n",
              "      <td>Correct</td>\n",
              "    </tr>\n",
              "    <tr>\n",
              "      <th>18</th>\n",
              "      <td>ሀገር አቀፍ ዜና</td>\n",
              "      <td>ሀገር አቀፍ ዜና</td>\n",
              "      <td>Correct</td>\n",
              "    </tr>\n",
              "    <tr>\n",
              "      <th>19</th>\n",
              "      <td>ሀገር አቀፍ ዜና</td>\n",
              "      <td>ሀገር አቀፍ ዜና</td>\n",
              "      <td>Correct</td>\n",
              "    </tr>\n",
              "    <tr>\n",
              "      <th>20</th>\n",
              "      <td>ቢዝነስ</td>\n",
              "      <td>ቢዝነስ</td>\n",
              "      <td>Correct</td>\n",
              "    </tr>\n",
              "    <tr>\n",
              "      <th>21</th>\n",
              "      <td>ፖለቲካ</td>\n",
              "      <td>ፖለቲካ</td>\n",
              "      <td>Correct</td>\n",
              "    </tr>\n",
              "    <tr>\n",
              "      <th>22</th>\n",
              "      <td>ዓለም አቀፍ ዜና</td>\n",
              "      <td>ዓለም አቀፍ ዜና</td>\n",
              "      <td>Correct</td>\n",
              "    </tr>\n",
              "    <tr>\n",
              "      <th>23</th>\n",
              "      <td>ፖለቲካ</td>\n",
              "      <td>ፖለቲካ</td>\n",
              "      <td>Correct</td>\n",
              "    </tr>\n",
              "    <tr>\n",
              "      <th>24</th>\n",
              "      <td>ዓለም አቀፍ ዜና</td>\n",
              "      <td>ዓለም አቀፍ ዜና</td>\n",
              "      <td>Correct</td>\n",
              "    </tr>\n",
              "    <tr>\n",
              "      <th>25</th>\n",
              "      <td>ሀገር አቀፍ ዜና</td>\n",
              "      <td>ሀገር አቀፍ ዜና</td>\n",
              "      <td>Correct</td>\n",
              "    </tr>\n",
              "    <tr>\n",
              "      <th>26</th>\n",
              "      <td>ስፖርት</td>\n",
              "      <td>ስፖርት</td>\n",
              "      <td>Correct</td>\n",
              "    </tr>\n",
              "    <tr>\n",
              "      <th>27</th>\n",
              "      <td>ስፖርት</td>\n",
              "      <td>ስፖርት</td>\n",
              "      <td>Correct</td>\n",
              "    </tr>\n",
              "    <tr>\n",
              "      <th>28</th>\n",
              "      <td>ዓለም አቀፍ ዜና</td>\n",
              "      <td>ዓለም አቀፍ ዜና</td>\n",
              "      <td>Correct</td>\n",
              "    </tr>\n",
              "    <tr>\n",
              "      <th>29</th>\n",
              "      <td>ዓለም አቀፍ ዜና</td>\n",
              "      <td>ዓለም አቀፍ ዜና</td>\n",
              "      <td>Correct</td>\n",
              "    </tr>\n",
              "    <tr>\n",
              "      <th>30</th>\n",
              "      <td>ስፖርት</td>\n",
              "      <td>ስፖርት</td>\n",
              "      <td>Correct</td>\n",
              "    </tr>\n",
              "    <tr>\n",
              "      <th>31</th>\n",
              "      <td>ሀገር አቀፍ ዜና</td>\n",
              "      <td>ሀገር አቀፍ ዜና</td>\n",
              "      <td>Correct</td>\n",
              "    </tr>\n",
              "    <tr>\n",
              "      <th>32</th>\n",
              "      <td>ፖለቲካ</td>\n",
              "      <td>ፖለቲካ</td>\n",
              "      <td>Correct</td>\n",
              "    </tr>\n",
              "    <tr>\n",
              "      <th>33</th>\n",
              "      <td>ሀገር አቀፍ ዜና</td>\n",
              "      <td>ሀገር አቀፍ ዜና</td>\n",
              "      <td>Correct</td>\n",
              "    </tr>\n",
              "    <tr>\n",
              "      <th>34</th>\n",
              "      <td>ፖለቲካ</td>\n",
              "      <td>ፖለቲካ</td>\n",
              "      <td>Correct</td>\n",
              "    </tr>\n",
              "    <tr>\n",
              "      <th>35</th>\n",
              "      <td>ሀገር አቀፍ ዜና</td>\n",
              "      <td>ሀገር አቀፍ ዜና</td>\n",
              "      <td>Correct</td>\n",
              "    </tr>\n",
              "    <tr>\n",
              "      <th>36</th>\n",
              "      <td>ሀገር አቀፍ ዜና</td>\n",
              "      <td>ሀገር አቀፍ ዜና</td>\n",
              "      <td>Correct</td>\n",
              "    </tr>\n",
              "    <tr>\n",
              "      <th>37</th>\n",
              "      <td>ፖለቲካ</td>\n",
              "      <td>ፖለቲካ</td>\n",
              "      <td>Correct</td>\n",
              "    </tr>\n",
              "    <tr>\n",
              "      <th>38</th>\n",
              "      <td>ሀገር አቀፍ ዜና</td>\n",
              "      <td>ሀገር አቀፍ ዜና</td>\n",
              "      <td>Correct</td>\n",
              "    </tr>\n",
              "    <tr>\n",
              "      <th>39</th>\n",
              "      <td>ሀገር አቀፍ ዜና</td>\n",
              "      <td>ሀገር አቀፍ ዜና</td>\n",
              "      <td>Correct</td>\n",
              "    </tr>\n",
              "    <tr>\n",
              "      <th>40</th>\n",
              "      <td>ስፖርት</td>\n",
              "      <td>ስፖርት</td>\n",
              "      <td>Correct</td>\n",
              "    </tr>\n",
              "    <tr>\n",
              "      <th>41</th>\n",
              "      <td>ስፖርት</td>\n",
              "      <td>ስፖርት</td>\n",
              "      <td>Correct</td>\n",
              "    </tr>\n",
              "    <tr>\n",
              "      <th>42</th>\n",
              "      <td>ሀገር አቀፍ ዜና</td>\n",
              "      <td>ሀገር አቀፍ ዜና</td>\n",
              "      <td>Correct</td>\n",
              "    </tr>\n",
              "    <tr>\n",
              "      <th>43</th>\n",
              "      <td>ሀገር አቀፍ ዜና</td>\n",
              "      <td>ሀገር አቀፍ ዜና</td>\n",
              "      <td>Correct</td>\n",
              "    </tr>\n",
              "    <tr>\n",
              "      <th>44</th>\n",
              "      <td>ሀገር አቀፍ ዜና</td>\n",
              "      <td>ሀገር አቀፍ ዜና</td>\n",
              "      <td>Correct</td>\n",
              "    </tr>\n",
              "    <tr>\n",
              "      <th>45</th>\n",
              "      <td>መዝናኛ</td>\n",
              "      <td>መዝናኛ</td>\n",
              "      <td>Correct</td>\n",
              "    </tr>\n",
              "    <tr>\n",
              "      <th>46</th>\n",
              "      <td>ሀገር አቀፍ ዜና</td>\n",
              "      <td>ሀገር አቀፍ ዜና</td>\n",
              "      <td>Correct</td>\n",
              "    </tr>\n",
              "    <tr>\n",
              "      <th>47</th>\n",
              "      <td>ዓለም አቀፍ ዜና</td>\n",
              "      <td>ዓለም አቀፍ ዜና</td>\n",
              "      <td>Correct</td>\n",
              "    </tr>\n",
              "    <tr>\n",
              "      <th>48</th>\n",
              "      <td>ሀገር አቀፍ ዜና</td>\n",
              "      <td>ሀገር አቀፍ ዜና</td>\n",
              "      <td>Correct</td>\n",
              "    </tr>\n",
              "    <tr>\n",
              "      <th>49</th>\n",
              "      <td>ስፖርት</td>\n",
              "      <td>ስፖርት</td>\n",
              "      <td>Correct</td>\n",
              "    </tr>\n",
              "  </tbody>\n",
              "</table>\n",
              "</div>\n",
              "      <button class=\"colab-df-convert\" onclick=\"convertToInteractive('df-13bce8e1-c8df-4e74-8d31-5d22f0a3efa0')\"\n",
              "              title=\"Convert this dataframe to an interactive table.\"\n",
              "              style=\"display:none;\">\n",
              "        \n",
              "  <svg xmlns=\"http://www.w3.org/2000/svg\" height=\"24px\"viewBox=\"0 0 24 24\"\n",
              "       width=\"24px\">\n",
              "    <path d=\"M0 0h24v24H0V0z\" fill=\"none\"/>\n",
              "    <path d=\"M18.56 5.44l.94 2.06.94-2.06 2.06-.94-2.06-.94-.94-2.06-.94 2.06-2.06.94zm-11 1L8.5 8.5l.94-2.06 2.06-.94-2.06-.94L8.5 2.5l-.94 2.06-2.06.94zm10 10l.94 2.06.94-2.06 2.06-.94-2.06-.94-.94-2.06-.94 2.06-2.06.94z\"/><path d=\"M17.41 7.96l-1.37-1.37c-.4-.4-.92-.59-1.43-.59-.52 0-1.04.2-1.43.59L10.3 9.45l-7.72 7.72c-.78.78-.78 2.05 0 2.83L4 21.41c.39.39.9.59 1.41.59.51 0 1.02-.2 1.41-.59l7.78-7.78 2.81-2.81c.8-.78.8-2.07 0-2.86zM5.41 20L4 18.59l7.72-7.72 1.47 1.35L5.41 20z\"/>\n",
              "  </svg>\n",
              "      </button>\n",
              "      \n",
              "  <style>\n",
              "    .colab-df-container {\n",
              "      display:flex;\n",
              "      flex-wrap:wrap;\n",
              "      gap: 12px;\n",
              "    }\n",
              "\n",
              "    .colab-df-convert {\n",
              "      background-color: #E8F0FE;\n",
              "      border: none;\n",
              "      border-radius: 50%;\n",
              "      cursor: pointer;\n",
              "      display: none;\n",
              "      fill: #1967D2;\n",
              "      height: 32px;\n",
              "      padding: 0 0 0 0;\n",
              "      width: 32px;\n",
              "    }\n",
              "\n",
              "    .colab-df-convert:hover {\n",
              "      background-color: #E2EBFA;\n",
              "      box-shadow: 0px 1px 2px rgba(60, 64, 67, 0.3), 0px 1px 3px 1px rgba(60, 64, 67, 0.15);\n",
              "      fill: #174EA6;\n",
              "    }\n",
              "\n",
              "    [theme=dark] .colab-df-convert {\n",
              "      background-color: #3B4455;\n",
              "      fill: #D2E3FC;\n",
              "    }\n",
              "\n",
              "    [theme=dark] .colab-df-convert:hover {\n",
              "      background-color: #434B5C;\n",
              "      box-shadow: 0px 1px 3px 1px rgba(0, 0, 0, 0.15);\n",
              "      filter: drop-shadow(0px 1px 2px rgba(0, 0, 0, 0.3));\n",
              "      fill: #FFFFFF;\n",
              "    }\n",
              "  </style>\n",
              "\n",
              "      <script>\n",
              "        const buttonEl =\n",
              "          document.querySelector('#df-13bce8e1-c8df-4e74-8d31-5d22f0a3efa0 button.colab-df-convert');\n",
              "        buttonEl.style.display =\n",
              "          google.colab.kernel.accessAllowed ? 'block' : 'none';\n",
              "\n",
              "        async function convertToInteractive(key) {\n",
              "          const element = document.querySelector('#df-13bce8e1-c8df-4e74-8d31-5d22f0a3efa0');\n",
              "          const dataTable =\n",
              "            await google.colab.kernel.invokeFunction('convertToInteractive',\n",
              "                                                     [key], {});\n",
              "          if (!dataTable) return;\n",
              "\n",
              "          const docLinkHtml = 'Like what you see? Visit the ' +\n",
              "            '<a target=\"_blank\" href=https://colab.research.google.com/notebooks/data_table.ipynb>data table notebook</a>'\n",
              "            + ' to learn more about interactive tables.';\n",
              "          element.innerHTML = '';\n",
              "          dataTable['output_type'] = 'display_data';\n",
              "          await google.colab.output.renderOutput(dataTable, element);\n",
              "          const docLink = document.createElement('div');\n",
              "          docLink.innerHTML = docLinkHtml;\n",
              "          element.appendChild(docLink);\n",
              "        }\n",
              "      </script>\n",
              "    </div>\n",
              "  </div>\n",
              "  "
            ],
            "text/plain": [
              "     Predicted      Actual     Status\n",
              "0         ፖለቲካ        ፖለቲካ    Correct\n",
              "1   ሀገር አቀፍ ዜና  ሀገር አቀፍ ዜና    Correct\n",
              "2   ሀገር አቀፍ ዜና  ሀገር አቀፍ ዜና    Correct\n",
              "3         ስፖርት        ስፖርት    Correct\n",
              "4   ሀገር አቀፍ ዜና  ሀገር አቀፍ ዜና    Correct\n",
              "5         ፖለቲካ        ፖለቲካ    Correct\n",
              "6         ስፖርት  ዓለም አቀፍ ዜና  InCorrect\n",
              "7         ፖለቲካ        ፖለቲካ    Correct\n",
              "8   ዓለም አቀፍ ዜና  ዓለም አቀፍ ዜና    Correct\n",
              "9         ስፖርት        ስፖርት    Correct\n",
              "10        ፖለቲካ        ፖለቲካ    Correct\n",
              "11        ፖለቲካ        ፖለቲካ    Correct\n",
              "12  ሀገር አቀፍ ዜና  ሀገር አቀፍ ዜና    Correct\n",
              "13        ስፖርት        ስፖርት    Correct\n",
              "14        ስፖርት        ስፖርት    Correct\n",
              "15        ቢዝነስ        ቢዝነስ    Correct\n",
              "16  ሀገር አቀፍ ዜና  ሀገር አቀፍ ዜና    Correct\n",
              "17  ሀገር አቀፍ ዜና  ሀገር አቀፍ ዜና    Correct\n",
              "18  ሀገር አቀፍ ዜና  ሀገር አቀፍ ዜና    Correct\n",
              "19  ሀገር አቀፍ ዜና  ሀገር አቀፍ ዜና    Correct\n",
              "20        ቢዝነስ        ቢዝነስ    Correct\n",
              "21        ፖለቲካ        ፖለቲካ    Correct\n",
              "22  ዓለም አቀፍ ዜና  ዓለም አቀፍ ዜና    Correct\n",
              "23        ፖለቲካ        ፖለቲካ    Correct\n",
              "24  ዓለም አቀፍ ዜና  ዓለም አቀፍ ዜና    Correct\n",
              "25  ሀገር አቀፍ ዜና  ሀገር አቀፍ ዜና    Correct\n",
              "26        ስፖርት        ስፖርት    Correct\n",
              "27        ስፖርት        ስፖርት    Correct\n",
              "28  ዓለም አቀፍ ዜና  ዓለም አቀፍ ዜና    Correct\n",
              "29  ዓለም አቀፍ ዜና  ዓለም አቀፍ ዜና    Correct\n",
              "30        ስፖርት        ስፖርት    Correct\n",
              "31  ሀገር አቀፍ ዜና  ሀገር አቀፍ ዜና    Correct\n",
              "32        ፖለቲካ        ፖለቲካ    Correct\n",
              "33  ሀገር አቀፍ ዜና  ሀገር አቀፍ ዜና    Correct\n",
              "34        ፖለቲካ        ፖለቲካ    Correct\n",
              "35  ሀገር አቀፍ ዜና  ሀገር አቀፍ ዜና    Correct\n",
              "36  ሀገር አቀፍ ዜና  ሀገር አቀፍ ዜና    Correct\n",
              "37        ፖለቲካ        ፖለቲካ    Correct\n",
              "38  ሀገር አቀፍ ዜና  ሀገር አቀፍ ዜና    Correct\n",
              "39  ሀገር አቀፍ ዜና  ሀገር አቀፍ ዜና    Correct\n",
              "40        ስፖርት        ስፖርት    Correct\n",
              "41        ስፖርት        ስፖርት    Correct\n",
              "42  ሀገር አቀፍ ዜና  ሀገር አቀፍ ዜና    Correct\n",
              "43  ሀገር አቀፍ ዜና  ሀገር አቀፍ ዜና    Correct\n",
              "44  ሀገር አቀፍ ዜና  ሀገር አቀፍ ዜና    Correct\n",
              "45        መዝናኛ        መዝናኛ    Correct\n",
              "46  ሀገር አቀፍ ዜና  ሀገር አቀፍ ዜና    Correct\n",
              "47  ዓለም አቀፍ ዜና  ዓለም አቀፍ ዜና    Correct\n",
              "48  ሀገር አቀፍ ዜና  ሀገር አቀፍ ዜና    Correct\n",
              "49        ስፖርት        ስፖርት    Correct"
            ]
          },
          "execution_count": 115,
          "metadata": {},
          "output_type": "execute_result"
        }
      ],
      "source": [
        "plothisto(model,\"BILSTM\")\n",
        "Categories = {0:'መዝናኛ', 1:'ዓለም አቀፍ ዜና', 2:'ቢዝነስ', 3:'ፖለቲካ', 4:'ሀገር አቀፍ ዜና', 5:'ስፖርት'}\n",
        "#Categories={1: 'ፖለቲካ', 2: 'ሀገር አቀፍ ዜና', 3: 'ስፖርት', 4: 'ዓለም አቀፍ ዜና', 5: 'ቢዝነስ', 6: 'መዝናኛ'}\n",
        "No_of_Samples = 50\n",
        "Results = model.predict(data_y[:No_of_Samples])\n",
        "Predictions=[]\n",
        "for i in range(No_of_Samples):\n",
        "    k=[]\n",
        "    b=Categories.get(Results.argmax(axis=1)[i])\n",
        "    a=cat[:50][i]\n",
        "    k.append( Categories.get(Results.argmax(axis=1)[i]))\n",
        "    k.append(cat[:50][i])\n",
        "    if(k[0]==k[1]):\n",
        "        k.append('Correct')\n",
        "    else:\n",
        "        k.append('InCorrect')\n",
        "    Predictions.append(k.copy())\n",
        "df = pd.DataFrame(Predictions,columns=['Predicted','Actual','Status'])\n",
        "df"
      ]
    },
    {
      "cell_type": "code",
      "execution_count": null,
      "metadata": {
        "colab": {
          "base_uri": "https://localhost:8080/"
        },
        "id": "NSHBGSjLfvdc",
        "outputId": "2b291c6a-ae67-4118-ef6b-fa7832d0c46f"
      },
      "outputs": [
        {
          "name": "stdout",
          "output_type": "stream",
          "text": [
            "model fitting - Bidirectional LSTM\n",
            "Model: \"model_26\"\n",
            "_________________________________________________________________\n",
            " Layer (type)                Output Shape              Param #   \n",
            "=================================================================\n",
            " input_63 (InputLayer)       [(None, 891)]             0         \n",
            "                                                                 \n",
            " embedding_41 (Embedding)    (None, 891, 128)          94461312  \n",
            "                                                                 \n",
            " bidirectional_61 (Bidirecti  (None, 200)              138000    \n",
            " onal)                                                           \n",
            "                                                                 \n",
            " dense_43 (Dense)            (None, 6)                 1206      \n",
            "                                                                 \n",
            "=================================================================\n",
            "Total params: 94,600,518\n",
            "Trainable params: 94,600,518\n",
            "Non-trainable params: 0\n",
            "_________________________________________________________________\n",
            "Epoch 1/10\n",
            "721/721 [==============================] - 115s 100ms/step - loss: 0.8169 - acc: 0.6935 - val_loss: 0.6136 - val_acc: 0.7711\n",
            "Epoch 2/10\n",
            "721/721 [==============================] - 71s 98ms/step - loss: 0.4601 - acc: 0.8398 - val_loss: 0.6450 - val_acc: 0.7705\n",
            "Epoch 3/10\n",
            "721/721 [==============================] - 72s 100ms/step - loss: 0.2858 - acc: 0.9070 - val_loss: 0.4707 - val_acc: 0.8345\n",
            "Epoch 4/10\n",
            "721/721 [==============================] - 73s 101ms/step - loss: 0.1773 - acc: 0.9459 - val_loss: 0.5884 - val_acc: 0.8179\n",
            "Epoch 5/10\n",
            "721/721 [==============================] - 71s 98ms/step - loss: 0.1146 - acc: 0.9671 - val_loss: 0.5866 - val_acc: 0.8179\n",
            "Epoch 6/10\n",
            "721/721 [==============================] - 81s 113ms/step - loss: 0.0795 - acc: 0.9773 - val_loss: 0.6964 - val_acc: 0.8054\n",
            "Epoch 7/10\n",
            "721/721 [==============================] - 78s 108ms/step - loss: 0.0600 - acc: 0.9832 - val_loss: 0.7459 - val_acc: 0.8063\n",
            "Epoch 8/10\n",
            "721/721 [==============================] - 72s 100ms/step - loss: 0.0493 - acc: 0.9865 - val_loss: 0.7211 - val_acc: 0.8135\n",
            "Epoch 9/10\n",
            "721/721 [==============================] - 76s 105ms/step - loss: 0.0411 - acc: 0.9880 - val_loss: 0.8627 - val_acc: 0.7875\n",
            "Epoch 10/10\n",
            "721/721 [==============================] - 71s 99ms/step - loss: 0.0355 - acc: 0.9897 - val_loss: 0.8568 - val_acc: 0.8017\n"
          ]
        },
        {
          "data": {
            "text/plain": [
              "<keras.callbacks.History at 0x7f936c04c280>"
            ]
          },
          "execution_count": 184,
          "metadata": {},
          "output_type": "execute_result"
        }
      ],
      "source": [
        "embedding_layer = Embedding(Amharic_News_vocab ,\n",
        "                            128,\n",
        "                            input_length=Amharic_News_length)\n",
        "\n",
        "sequence_input = Input(shape=(Amharic_News_length,), dtype='int32')\n",
        "embedded_sequences = embedding_layer(sequence_input)\n",
        "l_lstm = Bidirectional(GRU(100))(embedded_sequences)\n",
        "preds = Dense(6, activation='softmax')(l_lstm)\n",
        "model = Model(sequence_input, preds)\n",
        "model.compile(loss='sparse_categorical_crossentropy',\n",
        "              optimizer='rmsprop',\n",
        "              metrics=['acc'])\n",
        "\n",
        "print(\"model fitting - Bidirectional LSTM\")\n",
        "model.summary()\n",
        "model.fit(data_y, Y, validation_split=0.3,\n",
        "          epochs=10, batch_size=50)"
      ]
    },
    {
      "cell_type": "code",
      "execution_count": null,
      "metadata": {
        "colab": {
          "base_uri": "https://localhost:8080/",
          "height": 1000
        },
        "id": "bWaNEaGRhcKW",
        "outputId": "e5ab98c8-ccd3-4513-f36f-19776bf53f71"
      },
      "outputs": [
        {
          "name": "stdout",
          "output_type": "stream",
          "text": [
            "2/2 [==============================] - 0s 46ms/step\n"
          ]
        },
        {
          "data": {
            "text/html": [
              "\n",
              "  <div id=\"df-2c8d302c-a456-4b07-a4ea-40220526f245\">\n",
              "    <div class=\"colab-df-container\">\n",
              "      <div>\n",
              "<style scoped>\n",
              "    .dataframe tbody tr th:only-of-type {\n",
              "        vertical-align: middle;\n",
              "    }\n",
              "\n",
              "    .dataframe tbody tr th {\n",
              "        vertical-align: top;\n",
              "    }\n",
              "\n",
              "    .dataframe thead th {\n",
              "        text-align: right;\n",
              "    }\n",
              "</style>\n",
              "<table border=\"1\" class=\"dataframe\">\n",
              "  <thead>\n",
              "    <tr style=\"text-align: right;\">\n",
              "      <th></th>\n",
              "      <th>Predicted</th>\n",
              "      <th>Actual</th>\n",
              "      <th>Status</th>\n",
              "    </tr>\n",
              "  </thead>\n",
              "  <tbody>\n",
              "    <tr>\n",
              "      <th>0</th>\n",
              "      <td>ፖለቲካ</td>\n",
              "      <td>ፖለቲካ</td>\n",
              "      <td>Correct</td>\n",
              "    </tr>\n",
              "    <tr>\n",
              "      <th>1</th>\n",
              "      <td>ሀገር አቀፍ ዜና</td>\n",
              "      <td>ሀገር አቀፍ ዜና</td>\n",
              "      <td>Correct</td>\n",
              "    </tr>\n",
              "    <tr>\n",
              "      <th>2</th>\n",
              "      <td>ሀገር አቀፍ ዜና</td>\n",
              "      <td>ሀገር አቀፍ ዜና</td>\n",
              "      <td>Correct</td>\n",
              "    </tr>\n",
              "    <tr>\n",
              "      <th>3</th>\n",
              "      <td>ስፖርት</td>\n",
              "      <td>ስፖርት</td>\n",
              "      <td>Correct</td>\n",
              "    </tr>\n",
              "    <tr>\n",
              "      <th>4</th>\n",
              "      <td>ሀገር አቀፍ ዜና</td>\n",
              "      <td>ሀገር አቀፍ ዜና</td>\n",
              "      <td>Correct</td>\n",
              "    </tr>\n",
              "    <tr>\n",
              "      <th>5</th>\n",
              "      <td>ፖለቲካ</td>\n",
              "      <td>ፖለቲካ</td>\n",
              "      <td>Correct</td>\n",
              "    </tr>\n",
              "    <tr>\n",
              "      <th>6</th>\n",
              "      <td>ስፖርት</td>\n",
              "      <td>ዓለም አቀፍ ዜና</td>\n",
              "      <td>InCorrect</td>\n",
              "    </tr>\n",
              "    <tr>\n",
              "      <th>7</th>\n",
              "      <td>ፖለቲካ</td>\n",
              "      <td>ፖለቲካ</td>\n",
              "      <td>Correct</td>\n",
              "    </tr>\n",
              "    <tr>\n",
              "      <th>8</th>\n",
              "      <td>ዓለም አቀፍ ዜና</td>\n",
              "      <td>ዓለም አቀፍ ዜና</td>\n",
              "      <td>Correct</td>\n",
              "    </tr>\n",
              "    <tr>\n",
              "      <th>9</th>\n",
              "      <td>ስፖርት</td>\n",
              "      <td>ስፖርት</td>\n",
              "      <td>Correct</td>\n",
              "    </tr>\n",
              "    <tr>\n",
              "      <th>10</th>\n",
              "      <td>ፖለቲካ</td>\n",
              "      <td>ፖለቲካ</td>\n",
              "      <td>Correct</td>\n",
              "    </tr>\n",
              "    <tr>\n",
              "      <th>11</th>\n",
              "      <td>ፖለቲካ</td>\n",
              "      <td>ፖለቲካ</td>\n",
              "      <td>Correct</td>\n",
              "    </tr>\n",
              "    <tr>\n",
              "      <th>12</th>\n",
              "      <td>ሀገር አቀፍ ዜና</td>\n",
              "      <td>ሀገር አቀፍ ዜና</td>\n",
              "      <td>Correct</td>\n",
              "    </tr>\n",
              "    <tr>\n",
              "      <th>13</th>\n",
              "      <td>ስፖርት</td>\n",
              "      <td>ስፖርት</td>\n",
              "      <td>Correct</td>\n",
              "    </tr>\n",
              "    <tr>\n",
              "      <th>14</th>\n",
              "      <td>ስፖርት</td>\n",
              "      <td>ስፖርት</td>\n",
              "      <td>Correct</td>\n",
              "    </tr>\n",
              "    <tr>\n",
              "      <th>15</th>\n",
              "      <td>ቢዝነስ</td>\n",
              "      <td>ቢዝነስ</td>\n",
              "      <td>Correct</td>\n",
              "    </tr>\n",
              "    <tr>\n",
              "      <th>16</th>\n",
              "      <td>ሀገር አቀፍ ዜና</td>\n",
              "      <td>ሀገር አቀፍ ዜና</td>\n",
              "      <td>Correct</td>\n",
              "    </tr>\n",
              "    <tr>\n",
              "      <th>17</th>\n",
              "      <td>ሀገር አቀፍ ዜና</td>\n",
              "      <td>ሀገር አቀፍ ዜና</td>\n",
              "      <td>Correct</td>\n",
              "    </tr>\n",
              "    <tr>\n",
              "      <th>18</th>\n",
              "      <td>ሀገር አቀፍ ዜና</td>\n",
              "      <td>ሀገር አቀፍ ዜና</td>\n",
              "      <td>Correct</td>\n",
              "    </tr>\n",
              "    <tr>\n",
              "      <th>19</th>\n",
              "      <td>ሀገር አቀፍ ዜና</td>\n",
              "      <td>ሀገር አቀፍ ዜና</td>\n",
              "      <td>Correct</td>\n",
              "    </tr>\n",
              "    <tr>\n",
              "      <th>20</th>\n",
              "      <td>ቢዝነስ</td>\n",
              "      <td>ቢዝነስ</td>\n",
              "      <td>Correct</td>\n",
              "    </tr>\n",
              "    <tr>\n",
              "      <th>21</th>\n",
              "      <td>ፖለቲካ</td>\n",
              "      <td>ፖለቲካ</td>\n",
              "      <td>Correct</td>\n",
              "    </tr>\n",
              "    <tr>\n",
              "      <th>22</th>\n",
              "      <td>ዓለም አቀፍ ዜና</td>\n",
              "      <td>ዓለም አቀፍ ዜና</td>\n",
              "      <td>Correct</td>\n",
              "    </tr>\n",
              "    <tr>\n",
              "      <th>23</th>\n",
              "      <td>ፖለቲካ</td>\n",
              "      <td>ፖለቲካ</td>\n",
              "      <td>Correct</td>\n",
              "    </tr>\n",
              "    <tr>\n",
              "      <th>24</th>\n",
              "      <td>ዓለም አቀፍ ዜና</td>\n",
              "      <td>ዓለም አቀፍ ዜና</td>\n",
              "      <td>Correct</td>\n",
              "    </tr>\n",
              "    <tr>\n",
              "      <th>25</th>\n",
              "      <td>ሀገር አቀፍ ዜና</td>\n",
              "      <td>ሀገር አቀፍ ዜና</td>\n",
              "      <td>Correct</td>\n",
              "    </tr>\n",
              "    <tr>\n",
              "      <th>26</th>\n",
              "      <td>ስፖርት</td>\n",
              "      <td>ስፖርት</td>\n",
              "      <td>Correct</td>\n",
              "    </tr>\n",
              "    <tr>\n",
              "      <th>27</th>\n",
              "      <td>ስፖርት</td>\n",
              "      <td>ስፖርት</td>\n",
              "      <td>Correct</td>\n",
              "    </tr>\n",
              "    <tr>\n",
              "      <th>28</th>\n",
              "      <td>ዓለም አቀፍ ዜና</td>\n",
              "      <td>ዓለም አቀፍ ዜና</td>\n",
              "      <td>Correct</td>\n",
              "    </tr>\n",
              "    <tr>\n",
              "      <th>29</th>\n",
              "      <td>ዓለም አቀፍ ዜና</td>\n",
              "      <td>ዓለም አቀፍ ዜና</td>\n",
              "      <td>Correct</td>\n",
              "    </tr>\n",
              "    <tr>\n",
              "      <th>30</th>\n",
              "      <td>ስፖርት</td>\n",
              "      <td>ስፖርት</td>\n",
              "      <td>Correct</td>\n",
              "    </tr>\n",
              "    <tr>\n",
              "      <th>31</th>\n",
              "      <td>ሀገር አቀፍ ዜና</td>\n",
              "      <td>ሀገር አቀፍ ዜና</td>\n",
              "      <td>Correct</td>\n",
              "    </tr>\n",
              "    <tr>\n",
              "      <th>32</th>\n",
              "      <td>ፖለቲካ</td>\n",
              "      <td>ፖለቲካ</td>\n",
              "      <td>Correct</td>\n",
              "    </tr>\n",
              "    <tr>\n",
              "      <th>33</th>\n",
              "      <td>ሀገር አቀፍ ዜና</td>\n",
              "      <td>ሀገር አቀፍ ዜና</td>\n",
              "      <td>Correct</td>\n",
              "    </tr>\n",
              "    <tr>\n",
              "      <th>34</th>\n",
              "      <td>ፖለቲካ</td>\n",
              "      <td>ፖለቲካ</td>\n",
              "      <td>Correct</td>\n",
              "    </tr>\n",
              "    <tr>\n",
              "      <th>35</th>\n",
              "      <td>ሀገር አቀፍ ዜና</td>\n",
              "      <td>ሀገር አቀፍ ዜና</td>\n",
              "      <td>Correct</td>\n",
              "    </tr>\n",
              "    <tr>\n",
              "      <th>36</th>\n",
              "      <td>ሀገር አቀፍ ዜና</td>\n",
              "      <td>ሀገር አቀፍ ዜና</td>\n",
              "      <td>Correct</td>\n",
              "    </tr>\n",
              "    <tr>\n",
              "      <th>37</th>\n",
              "      <td>ፖለቲካ</td>\n",
              "      <td>ፖለቲካ</td>\n",
              "      <td>Correct</td>\n",
              "    </tr>\n",
              "    <tr>\n",
              "      <th>38</th>\n",
              "      <td>ሀገር አቀፍ ዜና</td>\n",
              "      <td>ሀገር አቀፍ ዜና</td>\n",
              "      <td>Correct</td>\n",
              "    </tr>\n",
              "    <tr>\n",
              "      <th>39</th>\n",
              "      <td>ሀገር አቀፍ ዜና</td>\n",
              "      <td>ሀገር አቀፍ ዜና</td>\n",
              "      <td>Correct</td>\n",
              "    </tr>\n",
              "    <tr>\n",
              "      <th>40</th>\n",
              "      <td>ስፖርት</td>\n",
              "      <td>ስፖርት</td>\n",
              "      <td>Correct</td>\n",
              "    </tr>\n",
              "    <tr>\n",
              "      <th>41</th>\n",
              "      <td>ስፖርት</td>\n",
              "      <td>ስፖርት</td>\n",
              "      <td>Correct</td>\n",
              "    </tr>\n",
              "    <tr>\n",
              "      <th>42</th>\n",
              "      <td>ሀገር አቀፍ ዜና</td>\n",
              "      <td>ሀገር አቀፍ ዜና</td>\n",
              "      <td>Correct</td>\n",
              "    </tr>\n",
              "    <tr>\n",
              "      <th>43</th>\n",
              "      <td>ሀገር አቀፍ ዜና</td>\n",
              "      <td>ሀገር አቀፍ ዜና</td>\n",
              "      <td>Correct</td>\n",
              "    </tr>\n",
              "    <tr>\n",
              "      <th>44</th>\n",
              "      <td>ሀገር አቀፍ ዜና</td>\n",
              "      <td>ሀገር አቀፍ ዜና</td>\n",
              "      <td>Correct</td>\n",
              "    </tr>\n",
              "    <tr>\n",
              "      <th>45</th>\n",
              "      <td>መዝናኛ</td>\n",
              "      <td>መዝናኛ</td>\n",
              "      <td>Correct</td>\n",
              "    </tr>\n",
              "    <tr>\n",
              "      <th>46</th>\n",
              "      <td>ሀገር አቀፍ ዜና</td>\n",
              "      <td>ሀገር አቀፍ ዜና</td>\n",
              "      <td>Correct</td>\n",
              "    </tr>\n",
              "    <tr>\n",
              "      <th>47</th>\n",
              "      <td>ዓለም አቀፍ ዜና</td>\n",
              "      <td>ዓለም አቀፍ ዜና</td>\n",
              "      <td>Correct</td>\n",
              "    </tr>\n",
              "    <tr>\n",
              "      <th>48</th>\n",
              "      <td>ሀገር አቀፍ ዜና</td>\n",
              "      <td>ሀገር አቀፍ ዜና</td>\n",
              "      <td>Correct</td>\n",
              "    </tr>\n",
              "    <tr>\n",
              "      <th>49</th>\n",
              "      <td>ስፖርት</td>\n",
              "      <td>ስፖርት</td>\n",
              "      <td>Correct</td>\n",
              "    </tr>\n",
              "  </tbody>\n",
              "</table>\n",
              "</div>\n",
              "      <button class=\"colab-df-convert\" onclick=\"convertToInteractive('df-2c8d302c-a456-4b07-a4ea-40220526f245')\"\n",
              "              title=\"Convert this dataframe to an interactive table.\"\n",
              "              style=\"display:none;\">\n",
              "        \n",
              "  <svg xmlns=\"http://www.w3.org/2000/svg\" height=\"24px\"viewBox=\"0 0 24 24\"\n",
              "       width=\"24px\">\n",
              "    <path d=\"M0 0h24v24H0V0z\" fill=\"none\"/>\n",
              "    <path d=\"M18.56 5.44l.94 2.06.94-2.06 2.06-.94-2.06-.94-.94-2.06-.94 2.06-2.06.94zm-11 1L8.5 8.5l.94-2.06 2.06-.94-2.06-.94L8.5 2.5l-.94 2.06-2.06.94zm10 10l.94 2.06.94-2.06 2.06-.94-2.06-.94-.94-2.06-.94 2.06-2.06.94z\"/><path d=\"M17.41 7.96l-1.37-1.37c-.4-.4-.92-.59-1.43-.59-.52 0-1.04.2-1.43.59L10.3 9.45l-7.72 7.72c-.78.78-.78 2.05 0 2.83L4 21.41c.39.39.9.59 1.41.59.51 0 1.02-.2 1.41-.59l7.78-7.78 2.81-2.81c.8-.78.8-2.07 0-2.86zM5.41 20L4 18.59l7.72-7.72 1.47 1.35L5.41 20z\"/>\n",
              "  </svg>\n",
              "      </button>\n",
              "      \n",
              "  <style>\n",
              "    .colab-df-container {\n",
              "      display:flex;\n",
              "      flex-wrap:wrap;\n",
              "      gap: 12px;\n",
              "    }\n",
              "\n",
              "    .colab-df-convert {\n",
              "      background-color: #E8F0FE;\n",
              "      border: none;\n",
              "      border-radius: 50%;\n",
              "      cursor: pointer;\n",
              "      display: none;\n",
              "      fill: #1967D2;\n",
              "      height: 32px;\n",
              "      padding: 0 0 0 0;\n",
              "      width: 32px;\n",
              "    }\n",
              "\n",
              "    .colab-df-convert:hover {\n",
              "      background-color: #E2EBFA;\n",
              "      box-shadow: 0px 1px 2px rgba(60, 64, 67, 0.3), 0px 1px 3px 1px rgba(60, 64, 67, 0.15);\n",
              "      fill: #174EA6;\n",
              "    }\n",
              "\n",
              "    [theme=dark] .colab-df-convert {\n",
              "      background-color: #3B4455;\n",
              "      fill: #D2E3FC;\n",
              "    }\n",
              "\n",
              "    [theme=dark] .colab-df-convert:hover {\n",
              "      background-color: #434B5C;\n",
              "      box-shadow: 0px 1px 3px 1px rgba(0, 0, 0, 0.15);\n",
              "      filter: drop-shadow(0px 1px 2px rgba(0, 0, 0, 0.3));\n",
              "      fill: #FFFFFF;\n",
              "    }\n",
              "  </style>\n",
              "\n",
              "      <script>\n",
              "        const buttonEl =\n",
              "          document.querySelector('#df-2c8d302c-a456-4b07-a4ea-40220526f245 button.colab-df-convert');\n",
              "        buttonEl.style.display =\n",
              "          google.colab.kernel.accessAllowed ? 'block' : 'none';\n",
              "\n",
              "        async function convertToInteractive(key) {\n",
              "          const element = document.querySelector('#df-2c8d302c-a456-4b07-a4ea-40220526f245');\n",
              "          const dataTable =\n",
              "            await google.colab.kernel.invokeFunction('convertToInteractive',\n",
              "                                                     [key], {});\n",
              "          if (!dataTable) return;\n",
              "\n",
              "          const docLinkHtml = 'Like what you see? Visit the ' +\n",
              "            '<a target=\"_blank\" href=https://colab.research.google.com/notebooks/data_table.ipynb>data table notebook</a>'\n",
              "            + ' to learn more about interactive tables.';\n",
              "          element.innerHTML = '';\n",
              "          dataTable['output_type'] = 'display_data';\n",
              "          await google.colab.output.renderOutput(dataTable, element);\n",
              "          const docLink = document.createElement('div');\n",
              "          docLink.innerHTML = docLinkHtml;\n",
              "          element.appendChild(docLink);\n",
              "        }\n",
              "      </script>\n",
              "    </div>\n",
              "  </div>\n",
              "  "
            ],
            "text/plain": [
              "     Predicted      Actual     Status\n",
              "0         ፖለቲካ        ፖለቲካ    Correct\n",
              "1   ሀገር አቀፍ ዜና  ሀገር አቀፍ ዜና    Correct\n",
              "2   ሀገር አቀፍ ዜና  ሀገር አቀፍ ዜና    Correct\n",
              "3         ስፖርት        ስፖርት    Correct\n",
              "4   ሀገር አቀፍ ዜና  ሀገር አቀፍ ዜና    Correct\n",
              "5         ፖለቲካ        ፖለቲካ    Correct\n",
              "6         ስፖርት  ዓለም አቀፍ ዜና  InCorrect\n",
              "7         ፖለቲካ        ፖለቲካ    Correct\n",
              "8   ዓለም አቀፍ ዜና  ዓለም አቀፍ ዜና    Correct\n",
              "9         ስፖርት        ስፖርት    Correct\n",
              "10        ፖለቲካ        ፖለቲካ    Correct\n",
              "11        ፖለቲካ        ፖለቲካ    Correct\n",
              "12  ሀገር አቀፍ ዜና  ሀገር አቀፍ ዜና    Correct\n",
              "13        ስፖርት        ስፖርት    Correct\n",
              "14        ስፖርት        ስፖርት    Correct\n",
              "15        ቢዝነስ        ቢዝነስ    Correct\n",
              "16  ሀገር አቀፍ ዜና  ሀገር አቀፍ ዜና    Correct\n",
              "17  ሀገር አቀፍ ዜና  ሀገር አቀፍ ዜና    Correct\n",
              "18  ሀገር አቀፍ ዜና  ሀገር አቀፍ ዜና    Correct\n",
              "19  ሀገር አቀፍ ዜና  ሀገር አቀፍ ዜና    Correct\n",
              "20        ቢዝነስ        ቢዝነስ    Correct\n",
              "21        ፖለቲካ        ፖለቲካ    Correct\n",
              "22  ዓለም አቀፍ ዜና  ዓለም አቀፍ ዜና    Correct\n",
              "23        ፖለቲካ        ፖለቲካ    Correct\n",
              "24  ዓለም አቀፍ ዜና  ዓለም አቀፍ ዜና    Correct\n",
              "25  ሀገር አቀፍ ዜና  ሀገር አቀፍ ዜና    Correct\n",
              "26        ስፖርት        ስፖርት    Correct\n",
              "27        ስፖርት        ስፖርት    Correct\n",
              "28  ዓለም አቀፍ ዜና  ዓለም አቀፍ ዜና    Correct\n",
              "29  ዓለም አቀፍ ዜና  ዓለም አቀፍ ዜና    Correct\n",
              "30        ስፖርት        ስፖርት    Correct\n",
              "31  ሀገር አቀፍ ዜና  ሀገር አቀፍ ዜና    Correct\n",
              "32        ፖለቲካ        ፖለቲካ    Correct\n",
              "33  ሀገር አቀፍ ዜና  ሀገር አቀፍ ዜና    Correct\n",
              "34        ፖለቲካ        ፖለቲካ    Correct\n",
              "35  ሀገር አቀፍ ዜና  ሀገር አቀፍ ዜና    Correct\n",
              "36  ሀገር አቀፍ ዜና  ሀገር አቀፍ ዜና    Correct\n",
              "37        ፖለቲካ        ፖለቲካ    Correct\n",
              "38  ሀገር አቀፍ ዜና  ሀገር አቀፍ ዜና    Correct\n",
              "39  ሀገር አቀፍ ዜና  ሀገር አቀፍ ዜና    Correct\n",
              "40        ስፖርት        ስፖርት    Correct\n",
              "41        ስፖርት        ስፖርት    Correct\n",
              "42  ሀገር አቀፍ ዜና  ሀገር አቀፍ ዜና    Correct\n",
              "43  ሀገር አቀፍ ዜና  ሀገር አቀፍ ዜና    Correct\n",
              "44  ሀገር አቀፍ ዜና  ሀገር አቀፍ ዜና    Correct\n",
              "45        መዝናኛ        መዝናኛ    Correct\n",
              "46  ሀገር አቀፍ ዜና  ሀገር አቀፍ ዜና    Correct\n",
              "47  ዓለም አቀፍ ዜና  ዓለም አቀፍ ዜና    Correct\n",
              "48  ሀገር አቀፍ ዜና  ሀገር አቀፍ ዜና    Correct\n",
              "49        ስፖርት        ስፖርት    Correct"
            ]
          },
          "execution_count": 188,
          "metadata": {},
          "output_type": "execute_result"
        }
      ],
      "source": [
        "Categories = {0:'መዝናኛ', 1:'ዓለም አቀፍ ዜና', 2:'ቢዝነስ', 3:'ፖለቲካ', 4:'ሀገር አቀፍ ዜና', 5:'ስፖርት'}\n",
        "#Categories={1: 'ፖለቲካ', 2: 'ሀገር አቀፍ ዜና', 3: 'ስፖርት', 4: 'ዓለም አቀፍ ዜና', 5: 'ቢዝነስ', 6: 'መዝናኛ'}\n",
        "No_of_Samples = 50\n",
        "Results = model.predict(data_y[:No_of_Samples])\n",
        "Predictions=[]\n",
        "for i in range(No_of_Samples):\n",
        "    k=[]\n",
        "    b=Categories.get(Results.argmax(axis=1)[i])\n",
        "    a=cat[:50][i]\n",
        "    k.append( Categories.get(Results.argmax(axis=1)[i]))\n",
        "    k.append(cat[:50][i])\n",
        "    if(k[0]==k[1]):\n",
        "        k.append('Correct')\n",
        "    else:\n",
        "        k.append('InCorrect')\n",
        "    Predictions.append(k.copy())\n",
        "df = pd.DataFrame(Predictions,columns=['Predicted','Actual','Status'])\n",
        "df"
      ]
    },
    {
      "cell_type": "code",
      "execution_count": null,
      "metadata": {
        "colab": {
          "base_uri": "https://localhost:8080/"
        },
        "id": "4ypf8qSMkBc5",
        "outputId": "18bea9c4-99b9-4782-f4ad-44740f3915d3"
      },
      "outputs": [
        {
          "data": {
            "text/plain": [
              "{}"
            ]
          },
          "execution_count": 191,
          "metadata": {},
          "output_type": "execute_result"
        }
      ],
      "source": [
        "model.history.history"
      ]
    },
    {
      "cell_type": "code",
      "execution_count": null,
      "metadata": {
        "id": "apN0gF86hcbN"
      },
      "outputs": [],
      "source": [
        "plothisto(model,\"bigru\")\n"
      ]
    },
    {
      "cell_type": "code",
      "execution_count": null,
      "metadata": {
        "id": "olEEOHi0hct7"
      },
      "outputs": [],
      "source": [
        "model.save('/content/drive/MyDrive/yirga/bigru.h5')"
      ]
    },
    {
      "cell_type": "code",
      "execution_count": null,
      "metadata": {
        "id": "F2y5_E0BhdCK"
      },
      "outputs": [],
      "source": [
        "embedding_layer = Embedding(Amharic_News_vocab ,\n",
        "                            128,\n",
        "                            input_length=Amharic_News_length)\n",
        "\n",
        "sequence_input = Input(shape=(Amharic_News_length,), dtype='int32')\n",
        "embedded_sequences = embedding_layer(sequence_input)\n",
        "l_lstm = GRU(100)(embedded_sequences)\n",
        "preds = Dense(6, activation='softmax')(l_lstm)\n",
        "model = Model(sequence_input, preds)\n",
        "model.compile(loss='sparse_categorical_crossentropy',\n",
        "              optimizer='rmsprop',\n",
        "              metrics=['acc'])\n",
        "\n",
        "print(\"model fitting - Bidirectional LSTM\")\n",
        "model.summary()\n",
        "model.fit(data_y, Y, validation_split=0.3,\n",
        "          epochs=10, batch_size=50)"
      ]
    },
    {
      "cell_type": "code",
      "execution_count": null,
      "metadata": {
        "colab": {
          "base_uri": "https://localhost:8080/"
        },
        "id": "0qCQTKBshn4X",
        "outputId": "915176e7-772f-4e1f-e865-436dc8eb56c2"
      },
      "outputs": [
        {
          "name": "stdout",
          "output_type": "stream",
          "text": [
            "model fitting - Bidirectional LSTM\n",
            "Model: \"model_27\"\n",
            "_________________________________________________________________\n",
            " Layer (type)                Output Shape              Param #   \n",
            "=================================================================\n",
            " input_64 (InputLayer)       [(None, 891)]             0         \n",
            "                                                                 \n",
            " embedding_42 (Embedding)    (None, 891, 128)          94461312  \n",
            "                                                                 \n",
            " gru_57 (GRU)                (None, 100)               69000     \n",
            "                                                                 \n",
            " dense_44 (Dense)            (None, 6)                 606       \n",
            "                                                                 \n",
            "=================================================================\n",
            "Total params: 94,530,918\n",
            "Trainable params: 94,530,918\n",
            "Non-trainable params: 0\n",
            "_________________________________________________________________\n",
            "Epoch 1/10\n",
            "721/721 [==============================] - 46s 62ms/step - loss: 1.5116 - acc: 0.4036 - val_loss: 1.5089 - val_acc: 0.4065\n",
            "Epoch 2/10\n",
            "721/721 [==============================] - 42s 58ms/step - loss: 1.5002 - acc: 0.4101 - val_loss: 1.5184 - val_acc: 0.4049\n",
            "Epoch 3/10\n",
            "721/721 [==============================] - 42s 59ms/step - loss: 1.4937 - acc: 0.4143 - val_loss: 1.4917 - val_acc: 0.4103\n",
            "Epoch 4/10\n",
            "721/721 [==============================] - 42s 58ms/step - loss: 1.4102 - acc: 0.4404 - val_loss: 1.0580 - val_acc: 0.5876\n",
            "Epoch 5/10\n",
            "721/721 [==============================] - 43s 59ms/step - loss: 1.0427 - acc: 0.5933 - val_loss: 0.9852 - val_acc: 0.5990\n",
            "Epoch 6/10\n",
            "721/721 [==============================] - 42s 58ms/step - loss: 0.9046 - acc: 0.6316 - val_loss: 0.7164 - val_acc: 0.7152\n",
            "Epoch 7/10\n",
            "721/721 [==============================] - 41s 57ms/step - loss: 0.5762 - acc: 0.7879 - val_loss: 0.5296 - val_acc: 0.7983\n",
            "Epoch 8/10\n",
            "721/721 [==============================] - 51s 70ms/step - loss: 0.3784 - acc: 0.8757 - val_loss: 0.5035 - val_acc: 0.8186\n",
            "Epoch 9/10\n",
            "721/721 [==============================] - 44s 61ms/step - loss: 0.2433 - acc: 0.9270 - val_loss: 0.5182 - val_acc: 0.8238\n",
            "Epoch 10/10\n",
            "721/721 [==============================] - 41s 57ms/step - loss: 0.1552 - acc: 0.9565 - val_loss: 0.6174 - val_acc: 0.8174\n"
          ]
        }
      ],
      "source": [
        "embedding_layer = Embedding(Amharic_News_vocab ,\n",
        "                            128,\n",
        "                            input_length=Amharic_News_length)\n",
        "\n",
        "sequence_input = Input(shape=(Amharic_News_length,), dtype='int32')\n",
        "embedded_sequences = embedding_layer(sequence_input)\n",
        "l_lstm = GRU(100)(embedded_sequences)\n",
        "preds = Dense(6, activation='softmax')(l_lstm)\n",
        "model = Model(sequence_input, preds)\n",
        "model.compile(loss='sparse_categorical_crossentropy',\n",
        "              optimizer='rmsprop',\n",
        "              metrics=['acc'])\n",
        "\n",
        "print(\"model fitting - Bidirectional LSTM\")\n",
        "model.summary()\n",
        "model.fit(data_y, Y, validation_split=0.3,\n",
        "          epochs=10, batch_size=50)\n",
        "model.save('/content/drive/MyDrive/yirga/gru.h5')"
      ]
    },
    {
      "cell_type": "code",
      "execution_count": null,
      "metadata": {
        "colab": {
          "background_save": true,
          "base_uri": "https://localhost:8080/"
        },
        "id": "m4GKT9sHh1Cz",
        "outputId": "e449d3c5-7b95-4471-b9d9-e1f651ef45e0"
      },
      "outputs": [
        {
          "name": "stdout",
          "output_type": "stream",
          "text": [
            "model fitting - Bidirectional LSTM\n",
            "Model: \"model_28\"\n",
            "_________________________________________________________________\n",
            " Layer (type)                Output Shape              Param #   \n",
            "=================================================================\n",
            " input_65 (InputLayer)       [(None, 891)]             0         \n",
            "                                                                 \n",
            " embedding_43 (Embedding)    (None, 891, 128)          94461312  \n",
            "                                                                 \n",
            " lstm_7 (LSTM)               (None, 100)               91600     \n",
            "                                                                 \n",
            " dense_45 (Dense)            (None, 6)                 606       \n",
            "                                                                 \n",
            "=================================================================\n",
            "Total params: 94,553,518\n",
            "Trainable params: 94,553,518\n",
            "Non-trainable params: 0\n",
            "_________________________________________________________________\n",
            "Epoch 1/10\n",
            "721/721 [==============================] - 48s 64ms/step - loss: 1.5097 - acc: 0.4036 - val_loss: 1.5052 - val_acc: 0.4054\n",
            "Epoch 2/10\n",
            "721/721 [==============================] - 46s 64ms/step - loss: 1.4951 - acc: 0.4111 - val_loss: 1.4914 - val_acc: 0.4104\n",
            "Epoch 3/10\n",
            "721/721 [==============================] - 44s 61ms/step - loss: 1.4841 - acc: 0.4157 - val_loss: 1.4909 - val_acc: 0.4109\n",
            "Epoch 4/10\n",
            "721/721 [==============================] - 44s 60ms/step - loss: 1.4797 - acc: 0.4176 - val_loss: 1.5340 - val_acc: 0.4068\n",
            "Epoch 5/10\n",
            "721/721 [==============================] - 44s 61ms/step - loss: 1.3775 - acc: 0.4597 - val_loss: 1.1888 - val_acc: 0.5507\n",
            "Epoch 6/10\n",
            "721/721 [==============================] - 55s 77ms/step - loss: 1.2330 - acc: 0.5203 - val_loss: 1.2289 - val_acc: 0.5207\n",
            "Epoch 7/10\n",
            "721/721 [==============================] - 50s 70ms/step - loss: 1.2353 - acc: 0.5094 - val_loss: 1.2251 - val_acc: 0.5345\n",
            "Epoch 8/10\n",
            "721/721 [==============================] - 44s 61ms/step - loss: 1.3193 - acc: 0.4497 - val_loss: 1.3412 - val_acc: 0.4365\n",
            "Epoch 9/10\n",
            "721/721 [==============================] - 45s 63ms/step - loss: 1.2348 - acc: 0.5109 - val_loss: 1.1304 - val_acc: 0.5645\n",
            "Epoch 10/10\n",
            "721/721 [==============================] - 44s 61ms/step - loss: 1.1325 - acc: 0.5637 - val_loss: 1.3199 - val_acc: 0.4952\n"
          ]
        }
      ],
      "source": [
        "embedding_layer = Embedding(Amharic_News_vocab ,\n",
        "                            128,\n",
        "                            input_length=Amharic_News_length)\n",
        "\n",
        "sequence_input = Input(shape=(Amharic_News_length,), dtype='int32')\n",
        "embedded_sequences = embedding_layer(sequence_input)\n",
        "l_lstm = LSTM(100)(embedded_sequences)\n",
        "preds = Dense(6, activation='softmax')(l_lstm)\n",
        "model = Model(sequence_input, preds)\n",
        "model.compile(loss='sparse_categorical_crossentropy',\n",
        "              optimizer='rmsprop',\n",
        "              metrics=['acc'])\n",
        "\n",
        "print(\"model fitting - Bidirectional LSTM\")\n",
        "model.summary()\n",
        "model.fit(data_y, Y, validation_split=0.3,\n",
        "          epochs=10, batch_size=50)\n",
        "model.save('/content/drive/MyDrive/yirga/lstm.h5')"
      ]
    },
    {
      "cell_type": "code",
      "execution_count": null,
      "metadata": {
        "id": "mIYxdJzJ2wKT"
      },
      "outputs": [],
      "source": [
        "'''text_pairs =[]\n",
        "for i in range(0,len(inp)):\n",
        "    text_pairs.append((inp[i],targ[i]))\n",
        "random.shuffle(text_pairs)\n",
        "num_val_samples = int(0.3 * len(text_pairs))\n",
        "num_train_samples = len(text_pairs) - 2 * num_val_samples\n",
        "train_pairs = text_pairs[:num_train_samples]\n",
        "val_pairs = text_pairs[num_train_samples : num_train_samples + num_val_samples]\n",
        "test_pairs = text_pairs[num_train_samples + num_val_samples :]\n",
        "\n",
        "print(f\"{len(text_pairs)} total pairs\")\n",
        "print(f\"{len(train_pairs)} training pairs\")\n",
        "print(f\"{len(val_pairs)} validation pairs\")\n",
        "print(f\"{len(test_pairs)} test pairs\")"
      ]
    },
    {
      "cell_type": "code",
      "execution_count": null,
      "metadata": {
        "id": "Vbb4Q61h1vqx"
      },
      "outputs": [],
      "source": [
        "\n",
        "class AttLayer(Layer):\n",
        "    def __init__(self, **kwargs):\n",
        "        self.init = initializations.get('normal')\n",
        "        #self.input_spec = [InputSpec(ndim=3)]\n",
        "        super(AttLayer, self).__init__(** kwargs)\n",
        "\n",
        "    def build(self, input_shape):\n",
        "        assert len(input_shape)==3\n",
        "        #self.W = self.init((input_shape[-1],1))\n",
        "        self.W = self.init((input_shape[-1],))\n",
        "        #self.input_spec = [InputSpec(shape=input_shape)]\n",
        "        self.trainable_weights = [self.W]\n",
        "        super(AttLayer, self).build(input_shape)  # be sure you call this somewhere!\n",
        "\n",
        "    def call(self, x, mask=None):\n",
        "        eij = K.tanh(K.dot(x, self.W))\n",
        "\n",
        "        ai = K.exp(eij)\n",
        "        weights = ai/K.sum(ai, axis=1).dimshuffle(0,'x')\n",
        "\n",
        "        weighted_input = x*weights.dimshuffle(0,1,'x')\n",
        "        return weighted_input.sum(axis=1)\n",
        "\n",
        "    def get_output_shape_for(self, input_shape):\n",
        "        return (input_shape[0], input_shape[-1])"
      ]
    },
    {
      "cell_type": "code",
      "execution_count": null,
      "metadata": {
        "id": "FP4RufKp1vy2"
      },
      "outputs": [],
      "source": [
        "X[0]"
      ]
    },
    {
      "cell_type": "markdown",
      "metadata": {
        "id": "OUk23QOZpv3f"
      },
      "source": [
        "## MODELS"
      ]
    },
    {
      "cell_type": "markdown",
      "metadata": {
        "id": "3OEbITuUp0im"
      },
      "source": [
        "### SimpleRNN (Reference Model - I)"
      ]
    },
    {
      "cell_type": "code",
      "execution_count": null,
      "metadata": {
        "id": "U7oRvAKiQ_-M"
      },
      "outputs": [],
      "source": [
        "# Constants\n",
        "from tensorflow.keras.callbacks import ModelCheckpoint,ReduceLROnPlateau,LearningRateScheduler,EarlyStopping\n",
        "\n",
        "batch_Size = 128\n",
        "adam = keras.optimizers.Adam(lr=0.01)\n",
        "early = EarlyStopping(monitor = 'val_sparse_categorical_accuracy', verbose=1, mode = 'max', patience = 3)"
      ]
    }
  ],
  "metadata": {
    "accelerator": "GPU",
    "colab": {
      "provenance": []
    },
    "gpuClass": "standard",
    "kernelspec": {
      "display_name": "Python 3",
      "language": "python",
      "name": "python3"
    },
    "language_info": {
      "codemirror_mode": {
        "name": "ipython",
        "version": 3
      },
      "file_extension": ".py",
      "mimetype": "text/x-python",
      "name": "python",
      "nbconvert_exporter": "python",
      "pygments_lexer": "ipython3",
      "version": "3.6.4"
    }
  },
  "nbformat": 4,
  "nbformat_minor": 0
}